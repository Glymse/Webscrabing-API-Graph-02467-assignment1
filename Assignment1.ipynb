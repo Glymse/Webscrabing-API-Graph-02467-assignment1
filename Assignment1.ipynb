{
 "cells": [
  {
   "cell_type": "markdown",
   "id": "e5a669d0",
   "metadata": {},
   "source": [
    "# Contribution table with estimated percentage of contribution"
   ]
  },
  {
   "cell_type": "markdown",
   "id": "f182530c",
   "metadata": {},
   "source": [
    "|           | Jonas (s234845) | Alexander(s234815) | Mikkel (s224187) |\n",
    "|-----------|-------|-----------|--------|\n",
    "| **Part 1** |   40%    |   60%        |     0%   |\n",
    "| **Part 2** |   60%    |   40%        |    0%    |\n",
    "| **Part 3** |    80%   |     20%      |    0%    |\n",
    "| **Part 4** |  20%     |      80%     |     0%   |\n"
   ]
  },
  {
   "cell_type": "markdown",
   "id": "a54c3082",
   "metadata": {},
   "source": [
    "We have had minor contact with mikkel, but he has not responded to any invitation prior to that. We have written both on mail and messenger.  "
   ]
  },
  {
   "cell_type": "markdown",
   "id": "39ae2b05",
   "metadata": {},
   "source": [
    "_______"
   ]
  },
  {
   "cell_type": "code",
   "execution_count": 4,
   "id": "fb710fe1",
   "metadata": {},
   "outputs": [],
   "source": [
    "# Imports\n",
    "from bs4 import BeautifulSoup\n",
    "import requests\n",
    "import re\n",
    "import pandas as pd\n",
    "from thefuzz import fuzz\n",
    "import json\n",
    "import time\n",
    "import os\n",
    "from joblib import Parallel, delayed\n",
    "from tqdm import tqdm\n",
    "import sys\n",
    "import networkx as nx\n"
   ]
  },
  {
   "cell_type": "markdown",
   "id": "2dde4d08",
   "metadata": {},
   "source": [
    "Utility functions, they are being used thoughout the document:"
   ]
  },
  {
   "cell_type": "code",
   "execution_count": 5,
   "id": "4a5afcd1",
   "metadata": {},
   "outputs": [],
   "source": [
    "# Useful helper functions\n",
    "# Created after the fact to clean up the messy code and to improve readability\n",
    "def fetch_soup(url):\n",
    "    response = requests.get(url)\n",
    "    return BeautifulSoup(response.content, 'html.parser')\n",
    "\n",
    "def extract_text(elements):\n",
    "    return [el.get_text(strip=True) for el in elements]\n",
    "\n",
    "def split_and_strip(text, separator=','):\n",
    "    # also strips whitespace\n",
    "    return [part.strip() for part in text.split(separator)]\n",
    "\n",
    "def clean_names(names):\n",
    "    # split by comma and flatten to a cleaned list\n",
    "    return list(set([name.strip() for entry in names for name in entry.split(\",\")]))\n",
    "\n",
    "def find_dupe_names(names, threshold=85):\n",
    "    # note: 85 seemed to do pretty well\n",
    "    # 80 was too non-strict\n",
    "    names = sorted(names)\n",
    "    name_matches = {}\n",
    "    remaining_names = set(names)\n",
    "    \n",
    "    for i, name in enumerate(names):\n",
    "        if name not in remaining_names:\n",
    "            continue\n",
    "        \n",
    "        alternatives = [alt_name for alt_name in names[i+1:] if fuzz.ratio(name, alt_name) >= threshold]\n",
    "        remaining_names -= set(alternatives)\n",
    "        name_matches[name] = alternatives if alternatives else \"\" # just leave everything else empty\n",
    "    \n",
    "    # here we create an additional column with a list of the name matches, in case we need to use them later\n",
    "    return pd.DataFrame({'Original': name_matches.keys(), 'Alternatives': name_matches.values()}).reset_index(drop=True)"
   ]
  },
  {
   "cell_type": "markdown",
   "id": "2182d781-3727-4ff5-9b58-689381202a99",
   "metadata": {},
   "source": [
    "## Part 1: Web-scraping"
   ]
  },
  {
   "cell_type": "markdown",
   "id": "4c872832",
   "metadata": {},
   "source": [
    "### 1.1-1.2: Get names of researchers"
   ]
  },
  {
   "cell_type": "markdown",
   "id": "19043853",
   "metadata": {},
   "source": [
    "The task is to gather researcher names from ic2s2-2023:\n",
    "- Keynote speakers\n",
    "- Plenary\n",
    "- Chairs\n",
    "- Posters"
   ]
  },
  {
   "cell_type": "code",
   "execution_count": 6,
   "id": "e7f0a388",
   "metadata": {},
   "outputs": [],
   "source": [
    "LINK = \"https://ic2s2-2023.org/program\"\n",
    "\n",
    "# create a list of researcher names that we will append to later\n",
    "researcher_names = []\n",
    "\n",
    "soup_main = fetch_soup(LINK)"
   ]
  },
  {
   "cell_type": "markdown",
   "id": "4a27c1d0",
   "metadata": {},
   "source": [
    "#### Keynote names"
   ]
  },
  {
   "cell_type": "markdown",
   "id": "663aa25f",
   "metadata": {},
   "source": [
    "Keynote speakers all had `keynotes#` in their ref tag/value, so by filtering the href and the `a` name its possible to extract them."
   ]
  },
  {
   "cell_type": "code",
   "execution_count": 7,
   "id": "c0d926c9",
   "metadata": {},
   "outputs": [
    {
     "data": {
      "text/plain": [
       "10"
      ]
     },
     "execution_count": 7,
     "metadata": {},
     "output_type": "execute_result"
    }
   ],
   "source": [
    "keynote_attrs = {'href': re.compile(r'keynotes#')}\n",
    "\n",
    "keynote_html = soup_main.find_all(name=\"a\", attrs=keynote_attrs)\n",
    "\n",
    "# here we use regular expressions and filter for entries starting with \"Keynote -\"\n",
    "keynote_names = [re.sub(r'^Keynote -', '', name).strip() for name in extract_text(keynote_html)]\n",
    "\n",
    "len(keynote_names)"
   ]
  },
  {
   "cell_type": "markdown",
   "id": "2798920a",
   "metadata": {},
   "source": [
    "#### Plenary, Chair and Posters names"
   ]
  },
  {
   "cell_type": "markdown",
   "id": "dbe1b79e",
   "metadata": {},
   "source": [
    "The rest of the names could all be narrowed down to the `i` name/tag and by doing extra filtering on the `u` tag, its possible to isolate all the names easily. Note that chair members had \"`Chair :`\" in front of them, so you need to delimit that for those entries."
   ]
  },
  {
   "cell_type": "code",
   "execution_count": 8,
   "id": "c3d9f0ed",
   "metadata": {},
   "outputs": [
    {
     "data": {
      "text/plain": [
       "2095"
      ]
     },
     "execution_count": 8,
     "metadata": {},
     "output_type": "execute_result"
    }
   ],
   "source": [
    "author_tags = soup_main.find_all(name='i')\n",
    "\n",
    "plenary_names = []\n",
    "\n",
    "for tag in author_tags:\n",
    "    u_names = extract_text(tag.find_all('u'))\n",
    "    plain_text_names = re.split(r',\\s*', tag.get_text(strip=True))\n",
    "    plain_text_names = [name for name in plain_text_names if name not in u_names]\n",
    "    # here we use regular expressions and filter for entries starting with \"Chair :\"\n",
    "    plain_text_names = [re.sub(r'^Chair:\\s*', '', name) for name in plain_text_names]\n",
    "    plenary_names.extend(u_names + plain_text_names)\n",
    "\n",
    "len(plenary_names)"
   ]
  },
  {
   "cell_type": "markdown",
   "id": "27149b25",
   "metadata": {},
   "source": [
    "#### Program committee names"
   ]
  },
  {
   "cell_type": "markdown",
   "id": "614bfa66",
   "metadata": {},
   "source": [
    "The program committee names were found in another link/URL. So a new separate soup had to be made for this task. The names in the program committee were found under the `b` name/tag."
   ]
  },
  {
   "cell_type": "code",
   "execution_count": 9,
   "id": "a45a5bf6",
   "metadata": {},
   "outputs": [
    {
     "data": {
      "text/plain": [
       "335"
      ]
     },
     "execution_count": 9,
     "metadata": {},
     "output_type": "execute_result"
    }
   ],
   "source": [
    "LINK_comittee = \"https://ic2s2-2023.org/program_committee\"\n",
    "soup_committee = fetch_soup(LINK_comittee)\n",
    "\n",
    "committee_names = extract_text(soup_committee.find_all(\"b\"))\n",
    "\n",
    "len(committee_names)"
   ]
  },
  {
   "cell_type": "markdown",
   "id": "3815135f",
   "metadata": {},
   "source": [
    "#### Compilation of all names"
   ]
  },
  {
   "cell_type": "markdown",
   "id": "44962a14",
   "metadata": {},
   "source": [
    "Now its possible to compile all the names into one list. Then make the list into a set to remove any identical elements (in this case names) and then turn it back into a list. Additionally, delimiting is used on any entries with comma, and then flatten any entry with multiple names."
   ]
  },
  {
   "cell_type": "code",
   "execution_count": 10,
   "id": "0b7280c4",
   "metadata": {},
   "outputs": [
    {
     "data": {
      "text/plain": [
       "'Marton Karsai'"
      ]
     },
     "metadata": {},
     "output_type": "display_data"
    },
    {
     "data": {
      "text/plain": [
       "1655"
      ]
     },
     "metadata": {},
     "output_type": "display_data"
    }
   ],
   "source": [
    "researcher_names.extend(keynote_names + plenary_names + committee_names)\n",
    "\n",
    "researcher_names = clean_names(researcher_names)\n",
    "\n",
    "display(researcher_names[0], len(researcher_names))"
   ]
  },
  {
   "cell_type": "markdown",
   "id": "99a59e43",
   "metadata": {},
   "source": [
    "### 1.3: Filter names, remove duplicates etc."
   ]
  },
  {
   "cell_type": "markdown",
   "id": "d03c74d2",
   "metadata": {},
   "source": [
    "Here Fuzzy string matching (`thefuzz`) is used, which utilizes the Levenshtein distance (see [Wikipedia](https://en.wikipedia.org/wiki/Levenshtein_distance#Definition)) metric for measuring the difference between two strings. Note that the number of alternatives depend on the set threshold. Through trial and error we figured a similarity score of 80-85 was adequate."
   ]
  },
  {
   "cell_type": "code",
   "execution_count": 11,
   "id": "878389b8",
   "metadata": {},
   "outputs": [
    {
     "data": {
      "text/html": [
       "<div>\n",
       "<style scoped>\n",
       "    .dataframe tbody tr th:only-of-type {\n",
       "        vertical-align: middle;\n",
       "    }\n",
       "\n",
       "    .dataframe tbody tr th {\n",
       "        vertical-align: top;\n",
       "    }\n",
       "\n",
       "    .dataframe thead th {\n",
       "        text-align: right;\n",
       "    }\n",
       "</style>\n",
       "<table border=\"1\" class=\"dataframe\">\n",
       "  <thead>\n",
       "    <tr style=\"text-align: right;\">\n",
       "      <th></th>\n",
       "      <th>Original</th>\n",
       "      <th>Alternatives</th>\n",
       "    </tr>\n",
       "  </thead>\n",
       "  <tbody>\n",
       "    <tr>\n",
       "      <th>0</th>\n",
       "      <td>Aaron Clauset</td>\n",
       "      <td></td>\n",
       "    </tr>\n",
       "    <tr>\n",
       "      <th>1</th>\n",
       "      <td>Aaron J. Schwartz</td>\n",
       "      <td></td>\n",
       "    </tr>\n",
       "    <tr>\n",
       "      <th>2</th>\n",
       "      <td>Aaron Schein</td>\n",
       "      <td></td>\n",
       "    </tr>\n",
       "    <tr>\n",
       "      <th>3</th>\n",
       "      <td>Aaron Smith</td>\n",
       "      <td></td>\n",
       "    </tr>\n",
       "    <tr>\n",
       "      <th>4</th>\n",
       "      <td>Abbas Haidar</td>\n",
       "      <td></td>\n",
       "    </tr>\n",
       "    <tr>\n",
       "      <th>...</th>\n",
       "      <td>...</td>\n",
       "      <td>...</td>\n",
       "    </tr>\n",
       "    <tr>\n",
       "      <th>1595</th>\n",
       "      <td>Zoltan Kmetty</td>\n",
       "      <td></td>\n",
       "    </tr>\n",
       "    <tr>\n",
       "      <th>1596</th>\n",
       "      <td>Zsófia Rakovics</td>\n",
       "      <td></td>\n",
       "    </tr>\n",
       "    <tr>\n",
       "      <th>1597</th>\n",
       "      <td>diogo pacheco</td>\n",
       "      <td></td>\n",
       "    </tr>\n",
       "    <tr>\n",
       "      <th>1598</th>\n",
       "      <td>franco scarselli</td>\n",
       "      <td></td>\n",
       "    </tr>\n",
       "    <tr>\n",
       "      <th>1599</th>\n",
       "      <td>salvatore Citraro</td>\n",
       "      <td></td>\n",
       "    </tr>\n",
       "  </tbody>\n",
       "</table>\n",
       "<p>1600 rows × 2 columns</p>\n",
       "</div>"
      ],
      "text/plain": [
       "               Original Alternatives\n",
       "0         Aaron Clauset             \n",
       "1     Aaron J. Schwartz             \n",
       "2          Aaron Schein             \n",
       "3           Aaron Smith             \n",
       "4          Abbas Haidar             \n",
       "...                 ...          ...\n",
       "1595      Zoltan Kmetty             \n",
       "1596    Zsófia Rakovics             \n",
       "1597      diogo pacheco             \n",
       "1598   franco scarselli             \n",
       "1599  salvatore Citraro             \n",
       "\n",
       "[1600 rows x 2 columns]"
      ]
     },
     "execution_count": 11,
     "metadata": {},
     "output_type": "execute_result"
    }
   ],
   "source": [
    "researcher_names_cleaned = find_dupe_names(researcher_names)\n",
    "researcher_names_cleaned"
   ]
  },
  {
   "cell_type": "markdown",
   "id": "932cfb18",
   "metadata": {},
   "source": [
    "Using this method, 55 duplicate names were \"cleared\" "
   ]
  },
  {
   "cell_type": "code",
   "execution_count": 12,
   "id": "649f2c2b",
   "metadata": {},
   "outputs": [
    {
     "data": {
      "text/html": [
       "<div>\n",
       "<style scoped>\n",
       "    .dataframe tbody tr th:only-of-type {\n",
       "        vertical-align: middle;\n",
       "    }\n",
       "\n",
       "    .dataframe tbody tr th {\n",
       "        vertical-align: top;\n",
       "    }\n",
       "\n",
       "    .dataframe thead th {\n",
       "        text-align: right;\n",
       "    }\n",
       "</style>\n",
       "<table border=\"1\" class=\"dataframe\">\n",
       "  <thead>\n",
       "    <tr style=\"text-align: right;\">\n",
       "      <th></th>\n",
       "      <th>Original</th>\n",
       "      <th>Alternatives</th>\n",
       "    </tr>\n",
       "  </thead>\n",
       "  <tbody>\n",
       "    <tr>\n",
       "      <th>49</th>\n",
       "      <td>Alessandro Flamini</td>\n",
       "      <td>[Alessandro Flammini]</td>\n",
       "    </tr>\n",
       "    <tr>\n",
       "      <th>59</th>\n",
       "      <td>Alexander Gates</td>\n",
       "      <td>[Alexander J Gates]</td>\n",
       "    </tr>\n",
       "    <tr>\n",
       "      <th>95</th>\n",
       "      <td>Ana Maria Jaramillo</td>\n",
       "      <td>[Ana María Jaramillo]</td>\n",
       "    </tr>\n",
       "    <tr>\n",
       "      <th>139</th>\n",
       "      <td>AnnaSeo Gyeong Choi</td>\n",
       "      <td>[Seo Gyeong Choi]</td>\n",
       "    </tr>\n",
       "    <tr>\n",
       "      <th>141</th>\n",
       "      <td>Anne C Kroon</td>\n",
       "      <td>[Anne C. Kroon, Anne Kroon]</td>\n",
       "    </tr>\n",
       "  </tbody>\n",
       "</table>\n",
       "</div>"
      ],
      "text/plain": [
       "                Original                 Alternatives\n",
       "49    Alessandro Flamini        [Alessandro Flammini]\n",
       "59       Alexander Gates          [Alexander J Gates]\n",
       "95   Ana Maria Jaramillo        [Ana María Jaramillo]\n",
       "139  AnnaSeo Gyeong Choi            [Seo Gyeong Choi]\n",
       "141         Anne C Kroon  [Anne C. Kroon, Anne Kroon]"
      ]
     },
     "execution_count": 12,
     "metadata": {},
     "output_type": "execute_result"
    }
   ],
   "source": [
    "# Example where Alternatives is not empty\n",
    "researcher_names_cleaned[researcher_names_cleaned[\"Alternatives\"] != \"\"].head()"
   ]
  },
  {
   "cell_type": "code",
   "execution_count": 13,
   "id": "528bd992",
   "metadata": {},
   "outputs": [
    {
     "data": {
      "text/plain": [
       "1600"
      ]
     },
     "execution_count": 13,
     "metadata": {},
     "output_type": "execute_result"
    }
   ],
   "source": [
    "# Final length\n",
    "len(researcher_names_cleaned)"
   ]
  },
  {
   "cell_type": "markdown",
   "id": "f7217231",
   "metadata": {},
   "source": [
    "### 1.6: Explanation of the process"
   ]
  },
  {
   "cell_type": "markdown",
   "id": "f9a0cce1",
   "metadata": {},
   "source": [
    "First, the relevant HTML tags associated with researcher names were identified by inspecting the website's elements and navigating through the HTML structure. Specific tags corresponding to names (e.g., u, i) were extracted, and any prefixes or separators unrelated to the actual researcher name were removed, such as \"Chair: \" before chair members of a given plenary or \"Keynote - \" before keynote presenters. To address duplicated or misspelled names, FuzzySearch was applied to compute similarity scores for each name against all other unchecked names."
   ]
  },
  {
   "cell_type": "markdown",
   "id": "ac17914c-f125-4f70-b1a5-0c56641a0ea0",
   "metadata": {},
   "source": [
    "## Part 2: Ready Made vs Custom Made Data\n",
    "Week 2, ex 1."
   ]
  },
  {
   "cell_type": "markdown",
   "id": "25059f1b-25c3-47eb-8278-903bd7608576",
   "metadata": {},
   "source": [
    "> **Exercise: Ready made data vs Custom made data** In this exercise, I want to make sure you have understood they key points of my lecture and the reading. \n",
    ">\n",
    "> 1. What are pros and cons of the custom-made data used in Centola's experiment (the first study presented in the lecture) and the ready-made data used in Nicolaides's study (the second study presented in the lecture)? You can support your arguments based on the content of the lecture and the information you read in Chapter 2.3 of the book __(answer in max 150 words)__.\n",
    "> 2. How do you think these differences can influence the interpretation of the results in each study? __(answer in max 150 words)__"
   ]
  },
  {
   "cell_type": "markdown",
   "id": "63f42408",
   "metadata": {},
   "source": [
    "- **Centola's experiment: (custom-made)** Based on controlled email invitations to join a health behavior platform.\n",
    "  - **Pros:**\n",
    "    - Low chance of systematic drifting, the study design, invitations, and procedures are fixed and stable throughout the experiment.\n",
    "    - Prevents incomplete data: Since the platform and network were designed for the study, the data structure is complete and consistent.\n",
    "\n",
    "  - **Cons:**\n",
    "    - Population drifting: Users with fewer connections or less engagement might leave the site over time, affecting network structure and participation\n",
    "    - Dirty data: There is a probability of BOT accounts or one-time accounts.  \n",
    "    - Algorithmically confounded: non-spam mails can end up in spam filthers. \n",
    "    - Reactive: People knew they were in a health study, so their behvaoir might be different. \n",
    "\n",
    "- **Nicolaides' study: (ready-made)** Based on observational Strava activity data.\n",
    "  - **Pros:**\n",
    "    - Big data: Access to the entirety of Strava data.\n",
    "    - Always-on: constantly measures people when they run. and share results\n",
    "    - Low chance of behavoiur drifting. Users consistently log runs for their own purposes (training, competition, habit), so the core behavior of interest (running and sharing) stays stable.\n",
    "    - Non reactive: People didn’t know they were being studied, so behavior is natural. \n",
    "  - **Cons:**\n",
    "    - Non-representative of a greater population. Strava users are not a random sample of the general population; they tend to be more sports-oriented and possibly competitive. (comparing themselves to others)\n",
    "    - Dirty: Data could have errors (GPS mistakes, fake activities)\n",
    "    - Population drifting: Platform updates could change user activity and weather may affect amount of people running. "
   ]
  },
  {
   "cell_type": "markdown",
   "id": "9661d20f",
   "metadata": {},
   "source": [
    "**PART 2**"
   ]
  },
  {
   "cell_type": "markdown",
   "id": "322bf197",
   "metadata": {},
   "source": [
    "> Centolas experiemnt:\n",
    "Since the study and data was designed specifically to test how behaviors spread within specific network structures, and conditions were controlled, it's easier to say \"this network structure (contaigon) caused the behavior to spread\". However the reactive setting (participants knew they were in a health study) makes it harder to assume these findings apply in real-world. Emails ending up in spam might add even futher bias."
   ]
  },
  {
   "cell_type": "markdown",
   "id": "b9aacd65",
   "metadata": {},
   "source": [
    "> Nicolaides study: There’s no control over why people run or why they interact with others. Other unseen factors (weather, competitions, personal goals) might drive behavior changes. However the data set is big and non reactive, which could give a realistic picture of the study claim even though theres biases. "
   ]
  },
  {
   "cell_type": "markdown",
   "id": "654c7606-9542-4ecd-9f6e-1c5e298883d6",
   "metadata": {},
   "source": [
    "## Part 3: Gathering Research Articles using the OpenAlex API"
   ]
  },
  {
   "cell_type": "markdown",
   "id": "29ae2e00",
   "metadata": {},
   "source": [
    "### Get researcher names from IC2S2 2024"
   ]
  },
  {
   "cell_type": "markdown",
   "id": "1d44f96a",
   "metadata": {},
   "source": [
    "Its possible to simply pull the Google Sheets information straight into `pandas` as such:"
   ]
  },
  {
   "cell_type": "code",
   "execution_count": 14,
   "id": "c6747703",
   "metadata": {},
   "outputs": [],
   "source": [
    "# Pull info from Google Sheets directly into pandas\n",
    "def gs_link(spreadsheet_id):\n",
    "    return f\"https://docs.google.com/spreadsheets/d/{spreadsheet_id}/export?format=csv\"\n",
    "\n",
    "# Poster presentations\n",
    "pp_id = \"1tyug6JFNa2BVEBFNXMWiKNKwXOxnOLDR\"\n",
    "df_pp = pd.read_csv(gs_link(pp_id))\n",
    "df_pp\n",
    "\n",
    "# Lightning talks\n",
    "lt_id = \"17NqO1ofBn1SKMC6bhCAF_XsRYgHWagDj\"\n",
    "df_ld = pd.read_csv(gs_link(lt_id))\n",
    "df_ld\n",
    "\n",
    "# Oral panels\n",
    "op_id = \"1PY37V6MRvkr9D-w0liMm3X-QN_i43mv0\"\n",
    "df_op = pd.read_csv(gs_link(op_id))\n"
   ]
  },
  {
   "cell_type": "markdown",
   "id": "91b1a64f",
   "metadata": {},
   "source": [
    "Inspecting the Google Sheets documents its possible to gather the author names from the various columns (`Poster authors` and `Presentation authors`) in the various data frames:"
   ]
  },
  {
   "cell_type": "code",
   "execution_count": 15,
   "id": "1388f0ed",
   "metadata": {},
   "outputs": [
    {
     "name": "stdout",
     "output_type": "stream",
     "text": [
      "['Date', 'Poster title', 'Poster authors', 'Easel assignment']\n",
      "['Date', 'Time', 'Location', 'Presentation title', 'Presentation authors']\n",
      "['Session', 'Date', 'Time', 'Location', 'Session track', 'Presentation title', 'Presentation authors']\n"
     ]
    }
   ],
   "source": [
    "for i in [df_pp, df_ld, df_op]:\n",
    "    print(list(i.columns))"
   ]
  },
  {
   "cell_type": "markdown",
   "id": "3c557f48",
   "metadata": {},
   "source": [
    "To get all names in one place we concatenate these into a single list:"
   ]
  },
  {
   "cell_type": "code",
   "execution_count": 16,
   "id": "43a27dee",
   "metadata": {},
   "outputs": [],
   "source": [
    "authors_2024 = pd.concat([df_pp['Poster authors'], df_ld['Presentation authors'], df_op['Presentation authors']], axis=0).reset_index(drop=True)\n",
    "\n",
    "authors_2024 = authors_2024.to_list()"
   ]
  },
  {
   "cell_type": "markdown",
   "id": "40c4bc44",
   "metadata": {},
   "source": [
    "To see what kind of pattern the data has:"
   ]
  },
  {
   "cell_type": "code",
   "execution_count": 17,
   "id": "bc190878",
   "metadata": {},
   "outputs": [
    {
     "data": {
      "text/plain": [
       "'Hazem Ibrahim, New York University; Talal Rahwan, New York University; Yasir Zaki, New York University Abu Dhabi'"
      ]
     },
     "execution_count": 17,
     "metadata": {},
     "output_type": "execute_result"
    }
   ],
   "source": [
    "authors_2024[0]"
   ]
  },
  {
   "cell_type": "markdown",
   "id": "c5aef3f8",
   "metadata": {},
   "source": [
    "Which tells that the pattern is as such: `author name, institution name`.\n",
    "\n",
    "Very few entries had the alternative pattern: `author name (institution name)`."
   ]
  },
  {
   "cell_type": "code",
   "execution_count": 18,
   "id": "b3784c93",
   "metadata": {},
   "outputs": [],
   "source": [
    "authors_2024_cleaned = []\n",
    "\n",
    "for i in authors_2024:\n",
    "    # Separate authors into \"author, institution\"\n",
    "    a_i_list = re.split(r';\\s*', i)\n",
    "    \n",
    "    # Discard institution and keep only author name\n",
    "    for person in a_i_list:\n",
    "        # replace \"(\" with \",\" to remove them all at once\n",
    "        authors_2024_cleaned.append(person.replace(\"(\", \",\").split(\",\")[0])"
   ]
  },
  {
   "cell_type": "markdown",
   "id": "3a6f1e30",
   "metadata": {},
   "source": [
    "Get rid of identical name duplicates:"
   ]
  },
  {
   "cell_type": "code",
   "execution_count": 19,
   "id": "61e520af",
   "metadata": {},
   "outputs": [],
   "source": [
    "authors_2024_cleaned = clean_names(authors_2024_cleaned)"
   ]
  },
  {
   "cell_type": "markdown",
   "id": "c3807bfd",
   "metadata": {},
   "source": [
    "Use FuzzySearch on the list of names to further remove duplicates:"
   ]
  },
  {
   "cell_type": "code",
   "execution_count": 20,
   "id": "31e4b807",
   "metadata": {},
   "outputs": [
    {
     "data": {
      "text/html": [
       "<div>\n",
       "<style scoped>\n",
       "    .dataframe tbody tr th:only-of-type {\n",
       "        vertical-align: middle;\n",
       "    }\n",
       "\n",
       "    .dataframe tbody tr th {\n",
       "        vertical-align: top;\n",
       "    }\n",
       "\n",
       "    .dataframe thead th {\n",
       "        text-align: right;\n",
       "    }\n",
       "</style>\n",
       "<table border=\"1\" class=\"dataframe\">\n",
       "  <thead>\n",
       "    <tr style=\"text-align: right;\">\n",
       "      <th></th>\n",
       "      <th>Original</th>\n",
       "      <th>Alternatives</th>\n",
       "    </tr>\n",
       "  </thead>\n",
       "  <tbody>\n",
       "    <tr>\n",
       "      <th>0</th>\n",
       "      <td>A. Marthe Möller</td>\n",
       "      <td></td>\n",
       "    </tr>\n",
       "    <tr>\n",
       "      <th>1</th>\n",
       "      <td>Aaron Clauset</td>\n",
       "      <td></td>\n",
       "    </tr>\n",
       "    <tr>\n",
       "      <th>2</th>\n",
       "      <td>Aaron D Nichols</td>\n",
       "      <td></td>\n",
       "    </tr>\n",
       "    <tr>\n",
       "      <th>3</th>\n",
       "      <td>Aaron Schein</td>\n",
       "      <td></td>\n",
       "    </tr>\n",
       "    <tr>\n",
       "      <th>4</th>\n",
       "      <td>Abdul Basit Adeel</td>\n",
       "      <td></td>\n",
       "    </tr>\n",
       "    <tr>\n",
       "      <th>...</th>\n",
       "      <td>...</td>\n",
       "      <td>...</td>\n",
       "    </tr>\n",
       "    <tr>\n",
       "      <th>1209</th>\n",
       "      <td>Zsófia Rakovics</td>\n",
       "      <td></td>\n",
       "    </tr>\n",
       "    <tr>\n",
       "      <th>1210</th>\n",
       "      <td>Zubair Shafiq</td>\n",
       "      <td></td>\n",
       "    </tr>\n",
       "    <tr>\n",
       "      <th>1211</th>\n",
       "      <td>diogo pacheco</td>\n",
       "      <td></td>\n",
       "    </tr>\n",
       "    <tr>\n",
       "      <th>1212</th>\n",
       "      <td>Ákos Huszár</td>\n",
       "      <td></td>\n",
       "    </tr>\n",
       "    <tr>\n",
       "      <th>1213</th>\n",
       "      <td>Şükrü Atsızelti</td>\n",
       "      <td></td>\n",
       "    </tr>\n",
       "  </tbody>\n",
       "</table>\n",
       "<p>1214 rows × 2 columns</p>\n",
       "</div>"
      ],
      "text/plain": [
       "               Original Alternatives\n",
       "0      A. Marthe Möller             \n",
       "1         Aaron Clauset             \n",
       "2       Aaron D Nichols             \n",
       "3          Aaron Schein             \n",
       "4     Abdul Basit Adeel             \n",
       "...                 ...          ...\n",
       "1209    Zsófia Rakovics             \n",
       "1210      Zubair Shafiq             \n",
       "1211      diogo pacheco             \n",
       "1212        Ákos Huszár             \n",
       "1213    Şükrü Atsızelti             \n",
       "\n",
       "[1214 rows x 2 columns]"
      ]
     },
     "execution_count": 20,
     "metadata": {},
     "output_type": "execute_result"
    }
   ],
   "source": [
    "authors_2024_cleaned_dupe = find_dupe_names(authors_2024_cleaned, threshold=85)\n",
    "authors_2024_cleaned_dupe"
   ]
  },
  {
   "cell_type": "markdown",
   "id": "3d864cf8",
   "metadata": {},
   "source": [
    "Down to 1214 after cleaning."
   ]
  },
  {
   "cell_type": "markdown",
   "id": "45da74e4",
   "metadata": {},
   "source": [
    "### Get author IDs and other relevant info"
   ]
  },
  {
   "cell_type": "markdown",
   "id": "c8a13da4",
   "metadata": {},
   "source": [
    "The first step is to retrieve the IDs, along with other relevant details, for each author using the OpenAlex API for authors. Searching by author ID is significantly more reliable than searching by name alone. To increase accuracy, alternative names are also considered when the original name is not found.\n",
    "\n",
    "Due to time constraints, the author ID retrieval process was not optimized to the same extent as the later algorithms. Potential improvements include batching multiple author names together for bulk searches and applying parallelization to increase efficiency."
   ]
  },
  {
   "cell_type": "code",
   "execution_count": 21,
   "id": "31b6d541",
   "metadata": {},
   "outputs": [],
   "source": [
    "file_ = \"./IC2S2-authors.csv\"\n",
    "\n",
    "# check if file exists\n",
    "if os.path.isfile(file_):\n",
    "   authors_df = pd.read_csv(file_)\n",
    "else:\n",
    "    BASE_URL = \"https://api.openalex.org/authors\"\n",
    "\n",
    "    df = authors_2024_cleaned_dupe\n",
    "\n",
    "    author_data = []  # List to hold dictionary records\n",
    "\n",
    "    # Use a session for connection reuse\n",
    "    with requests.Session() as session:\n",
    "        for index, row in df.iterrows():\n",
    "            name = row[\"Original\"]\n",
    "            alternatives = row[\"Alternatives\"] if isinstance(row[\"Alternatives\"], list) else []\n",
    "\n",
    "            all_names = [name] + alternatives  # Try the Original first, then Alternatives\n",
    "\n",
    "            for author_name in all_names:\n",
    "                params = {\"page\": \"1\", \"per_page\": 1, \"search\": author_name}\n",
    "                try:\n",
    "                    time.sleep(0.1)  # Stay within 10 requests per second limit\n",
    "                    response = session.get(BASE_URL, params=params)\n",
    "                    response.raise_for_status()\n",
    "                    \n",
    "                    json_data = response.json()\n",
    "                    result = json_data.get(\"results\", [])\n",
    "\n",
    "                    if result:\n",
    "                        author = result[0]\n",
    "                        #institutions = author.get(\"last_known_institutions\", [])\n",
    "                        #country = institutions[0].get(\"country_code\", \"N/A\") if institutions else \"N/A\" # assuming this is where to fetch country\n",
    "                        author_data.append({\n",
    "                            \"id\": author[\"id\"].split(\"/\")[-1],\n",
    "                            \"display_name\": author[\"display_name\"],\n",
    "                            #\"country\": country, \n",
    "                            \"works_api_url\": author[\"works_api_url\"],\n",
    "                            \"h_index\": author[\"summary_stats\"][\"h_index\"],\n",
    "                            \"works_count\": author[\"works_count\"]\n",
    "                        })\n",
    "                        break  # Stop searching once a match is found\n",
    "\n",
    "                except requests.exceptions.RequestException as e:\n",
    "                    print(f\"Error fetching data for {author_name}: {e}\")\n",
    "\n",
    "    authors_df = pd.DataFrame(author_data)\n",
    "    authors_df.to_csv(\"IC2S2-authors.csv\", index=False) # save as CSV file"
   ]
  },
  {
   "cell_type": "markdown",
   "id": "b8d0ecb4",
   "metadata": {},
   "source": [
    "On a mac M1, it takes around 5 minutes. However as said earlier,  bulk searching using the `|` operator could be used in furher development"
   ]
  },
  {
   "cell_type": "code",
   "execution_count": 22,
   "id": "5a02424c",
   "metadata": {},
   "outputs": [
    {
     "data": {
      "text/html": [
       "<div>\n",
       "<style scoped>\n",
       "    .dataframe tbody tr th:only-of-type {\n",
       "        vertical-align: middle;\n",
       "    }\n",
       "\n",
       "    .dataframe tbody tr th {\n",
       "        vertical-align: top;\n",
       "    }\n",
       "\n",
       "    .dataframe thead th {\n",
       "        text-align: right;\n",
       "    }\n",
       "</style>\n",
       "<table border=\"1\" class=\"dataframe\">\n",
       "  <thead>\n",
       "    <tr style=\"text-align: right;\">\n",
       "      <th></th>\n",
       "      <th>id</th>\n",
       "      <th>display_name</th>\n",
       "      <th>country</th>\n",
       "      <th>works_api_url</th>\n",
       "      <th>h_index</th>\n",
       "      <th>works_count</th>\n",
       "    </tr>\n",
       "  </thead>\n",
       "  <tbody>\n",
       "    <tr>\n",
       "      <th>0</th>\n",
       "      <td>A5082130337</td>\n",
       "      <td>A. Marthe Möller</td>\n",
       "      <td>NL</td>\n",
       "      <td>https://api.openalex.org/works?filter=author.i...</td>\n",
       "      <td>6</td>\n",
       "      <td>13</td>\n",
       "    </tr>\n",
       "    <tr>\n",
       "      <th>1</th>\n",
       "      <td>A5014647140</td>\n",
       "      <td>Aaron Clauset</td>\n",
       "      <td>US</td>\n",
       "      <td>https://api.openalex.org/works?filter=author.i...</td>\n",
       "      <td>48</td>\n",
       "      <td>284</td>\n",
       "    </tr>\n",
       "    <tr>\n",
       "      <th>2</th>\n",
       "      <td>A5089395967</td>\n",
       "      <td>Aaron Nichols</td>\n",
       "      <td>US</td>\n",
       "      <td>https://api.openalex.org/works?filter=author.i...</td>\n",
       "      <td>2</td>\n",
       "      <td>10</td>\n",
       "    </tr>\n",
       "    <tr>\n",
       "      <th>3</th>\n",
       "      <td>A5053043999</td>\n",
       "      <td>Aaron J. Schein</td>\n",
       "      <td>US</td>\n",
       "      <td>https://api.openalex.org/works?filter=author.i...</td>\n",
       "      <td>16</td>\n",
       "      <td>19</td>\n",
       "    </tr>\n",
       "    <tr>\n",
       "      <th>4</th>\n",
       "      <td>A5082332656</td>\n",
       "      <td>Abdul Basit Adeel</td>\n",
       "      <td>US</td>\n",
       "      <td>https://api.openalex.org/works?filter=author.i...</td>\n",
       "      <td>4</td>\n",
       "      <td>9</td>\n",
       "    </tr>\n",
       "    <tr>\n",
       "      <th>...</th>\n",
       "      <td>...</td>\n",
       "      <td>...</td>\n",
       "      <td>...</td>\n",
       "      <td>...</td>\n",
       "      <td>...</td>\n",
       "      <td>...</td>\n",
       "    </tr>\n",
       "    <tr>\n",
       "      <th>1136</th>\n",
       "      <td>A5090107603</td>\n",
       "      <td>Zsófia Rakovics</td>\n",
       "      <td>HU</td>\n",
       "      <td>https://api.openalex.org/works?filter=author.i...</td>\n",
       "      <td>2</td>\n",
       "      <td>6</td>\n",
       "    </tr>\n",
       "    <tr>\n",
       "      <th>1137</th>\n",
       "      <td>A5100771200</td>\n",
       "      <td>Muhammad Shafiq</td>\n",
       "      <td>PK</td>\n",
       "      <td>https://api.openalex.org/works?filter=author.i...</td>\n",
       "      <td>49</td>\n",
       "      <td>396</td>\n",
       "    </tr>\n",
       "    <tr>\n",
       "      <th>1138</th>\n",
       "      <td>A5087528940</td>\n",
       "      <td>Diogo A. Gomes</td>\n",
       "      <td>SA</td>\n",
       "      <td>https://api.openalex.org/works?filter=author.i...</td>\n",
       "      <td>30</td>\n",
       "      <td>253</td>\n",
       "    </tr>\n",
       "    <tr>\n",
       "      <th>1139</th>\n",
       "      <td>A5054348632</td>\n",
       "      <td>Ákos Huszár</td>\n",
       "      <td>HU</td>\n",
       "      <td>https://api.openalex.org/works?filter=author.i...</td>\n",
       "      <td>5</td>\n",
       "      <td>31</td>\n",
       "    </tr>\n",
       "    <tr>\n",
       "      <th>1140</th>\n",
       "      <td>A5093136191</td>\n",
       "      <td>Şükrü Atsızelti</td>\n",
       "      <td>TR</td>\n",
       "      <td>https://api.openalex.org/works?filter=author.i...</td>\n",
       "      <td>1</td>\n",
       "      <td>7</td>\n",
       "    </tr>\n",
       "  </tbody>\n",
       "</table>\n",
       "<p>1141 rows × 6 columns</p>\n",
       "</div>"
      ],
      "text/plain": [
       "               id       display_name country  \\\n",
       "0     A5082130337   A. Marthe Möller      NL   \n",
       "1     A5014647140      Aaron Clauset      US   \n",
       "2     A5089395967      Aaron Nichols      US   \n",
       "3     A5053043999    Aaron J. Schein      US   \n",
       "4     A5082332656  Abdul Basit Adeel      US   \n",
       "...           ...                ...     ...   \n",
       "1136  A5090107603    Zsófia Rakovics      HU   \n",
       "1137  A5100771200    Muhammad Shafiq      PK   \n",
       "1138  A5087528940     Diogo A. Gomes      SA   \n",
       "1139  A5054348632        Ákos Huszár      HU   \n",
       "1140  A5093136191    Şükrü Atsızelti      TR   \n",
       "\n",
       "                                          works_api_url  h_index  works_count  \n",
       "0     https://api.openalex.org/works?filter=author.i...        6           13  \n",
       "1     https://api.openalex.org/works?filter=author.i...       48          284  \n",
       "2     https://api.openalex.org/works?filter=author.i...        2           10  \n",
       "3     https://api.openalex.org/works?filter=author.i...       16           19  \n",
       "4     https://api.openalex.org/works?filter=author.i...        4            9  \n",
       "...                                                 ...      ...          ...  \n",
       "1136  https://api.openalex.org/works?filter=author.i...        2            6  \n",
       "1137  https://api.openalex.org/works?filter=author.i...       49          396  \n",
       "1138  https://api.openalex.org/works?filter=author.i...       30          253  \n",
       "1139  https://api.openalex.org/works?filter=author.i...        5           31  \n",
       "1140  https://api.openalex.org/works?filter=author.i...        1            7  \n",
       "\n",
       "[1141 rows x 6 columns]"
      ]
     },
     "execution_count": 22,
     "metadata": {},
     "output_type": "execute_result"
    }
   ],
   "source": [
    "authors_df"
   ]
  },
  {
   "cell_type": "markdown",
   "id": "95a814f5",
   "metadata": {},
   "source": [
    "Total authors found:"
   ]
  },
  {
   "cell_type": "code",
   "execution_count": 23,
   "id": "9e4ff697",
   "metadata": {},
   "outputs": [
    {
     "data": {
      "text/plain": [
       "1141"
      ]
     },
     "execution_count": 23,
     "metadata": {},
     "output_type": "execute_result"
    }
   ],
   "source": [
    "len(authors_df)"
   ]
  },
  {
   "cell_type": "markdown",
   "id": "8051fce1",
   "metadata": {},
   "source": [
    "### Apply filtering to get relevant authors and works"
   ]
  },
  {
   "cell_type": "markdown",
   "id": "ac0d9ffa",
   "metadata": {},
   "source": [
    "It's important to note that we create a new list/dataframe for authors here, since we also need to include all co-authors. Furthermore, the works API has a `countries` tag/value under `authorship` where we can directly pull the country code from, for each author."
   ]
  },
  {
   "cell_type": "markdown",
   "id": "bd22608a",
   "metadata": {},
   "source": [
    "Include only IC2S2 authors with a total work count between 5 and 5,000:"
   ]
  },
  {
   "cell_type": "code",
   "execution_count": 24,
   "id": "a7a7027a",
   "metadata": {},
   "outputs": [
    {
     "data": {
      "text/plain": [
       "999"
      ]
     },
     "execution_count": 24,
     "metadata": {},
     "output_type": "execute_result"
    }
   ],
   "source": [
    "sortWorkCount = authors_df.loc[(authors_df[\"works_count\"] >= 5) & (authors_df[\"works_count\"] <= 5000)]\n",
    "len(sortWorkCount)"
   ]
  },
  {
   "cell_type": "markdown",
   "id": "480bb7ab",
   "metadata": {},
   "source": [
    "Create chunks/batches of authors, size 25 to utilise the `filther=author.id: {id_1} | {id_2} | ... |`  operator.  This will limit the amount of request needed"
   ]
  },
  {
   "cell_type": "code",
   "execution_count": 25,
   "id": "d99eacd1",
   "metadata": {},
   "outputs": [
    {
     "name": "stdout",
     "output_type": "stream",
     "text": [
      "A5082130337|A5014647140|A5089395967|A5053043999|A5082332656|A5064296964|A5113886631|A5045620226|A5073592405|A5068763840|A5083303782|A5054913386|A5071293344|A5074354806|A5109586591|A5031106143|A5018574266|A5040820784|A5086011172|A5102415619|A5075314395|A5026854954|A5028932589|A5082554858|A5038976962\n"
     ]
    }
   ],
   "source": [
    "# Step 1: Extract author IDs\n",
    "author_ids = sortWorkCount[\"id\"].to_list()\n",
    "\n",
    "# Step 2: Split into chunks of 25\n",
    "chunk_size = 25\n",
    "chunks = [author_ids[i:i + chunk_size] for i in range(0, len(author_ids), chunk_size)]\n",
    "\n",
    "# Step 3: Format each chunk into a string\n",
    "formatted_chunks = [f'{\"|\".join(chunk)}' for chunk in chunks]\n",
    "\n",
    "# Example chunk\n",
    "print(formatted_chunks[0])"
   ]
  },
  {
   "cell_type": "markdown",
   "id": "9d5fe90d",
   "metadata": {},
   "source": [
    "Now we are interessted in even more filthering:\n",
    "- 1. Only take articles with relevant concepts at level 0 \n",
    "- 2. Only articles with less than 10 authors\n",
    "- 3. Only articles with more than 10 citations (done using `filther=cited_by_count:>10`) in next code segmentNow we filter the rest:"
   ]
  },
  {
   "cell_type": "code",
   "execution_count": 26,
   "id": "272f88ee",
   "metadata": {},
   "outputs": [],
   "source": [
    "def filter_relevant_works(data):\n",
    "    # Define relevant Level 0 concepts\n",
    "    social_science_concepts = {\"Sociology\", \"Psychology\", \"Economics\", \"Political science\"}\n",
    "    quantitative_concepts = {\"Mathematics\", \"Physics\", \"Computer science\"}\n",
    "\n",
    "    def is_relevant(work):\n",
    "        \"\"\"Checks if a work has at least one concept from each relevant category.\"\"\"\n",
    "        level_0_concepts = {concept[\"display_name\"] for concept in work.get(\"concepts\", []) if concept[\"level\"] == 0}\n",
    "        return (\n",
    "            any(concept in social_science_concepts for concept in level_0_concepts) and\n",
    "            any(concept in quantitative_concepts for concept in level_0_concepts)\n",
    "        )\n",
    "\n",
    "    # Filter works based on criteria\n",
    "    filtered_works = []\n",
    "    abstracts_dataset = []\n",
    "    authors_dataset = []\n",
    "\n",
    "    for work in data.get(\"results\", []):\n",
    "        if len(work.get(\"authorships\", [])) < 10 and is_relevant(work):\n",
    "            work_entry = {\n",
    "                \"id\": work[\"id\"],\n",
    "                \"publication_year\": work[\"publication_year\"],\n",
    "                \"cited_by_count\": work[\"cited_by_count\"],\n",
    "                \"author_ids\": [authorship[\"author\"][\"id\"].split(\"/\")[-1] for authorship in work[\"authorships\"]]\n",
    "            }\n",
    "            filtered_works.append(work_entry)\n",
    "\n",
    "            abstract_entry = {\n",
    "                \"id\": work[\"id\"],\n",
    "                \"title\": work[\"title\"],\n",
    "                \"abstract_inverted_index\": work.get(\"abstract_inverted_index\", {})\n",
    "            }\n",
    "            abstracts_dataset.append(abstract_entry)\n",
    "\n",
    "            for authorship in work.get(\"authorships\", []):\n",
    "                author = authorship[\"author\"]\n",
    "                author_entry = {\n",
    "                    \"id\": author[\"id\"].split(\"/\")[-1],\n",
    "                    \"display_name\": author[\"display_name\"],\n",
    "                    \"country_code\": authorship[\"countries\"][0] if authorship.get(\"countries\") else None\n",
    "                }\n",
    "                authors_dataset.append(author_entry)\n",
    "\n",
    "    return filtered_works, abstracts_dataset, authors_dataset"
   ]
  },
  {
   "cell_type": "markdown",
   "id": "8d6aff2a",
   "metadata": {},
   "source": [
    "The following code is not pretty, but it does in simple terms:\n",
    "\n",
    "1 - Uses cursor-paging on the `https://api.openalex.org/works`, it works by putting `https://api.openalex.org/works&cursor = *`, then the meta object will return a cursor ID for the next page of information, resultating in `https://api.openalex.org/works&cursor = {id_nextpage_cursor}`. Then a while loop keeps looping, until the last cursor ID for the specific work url is ``none``. (thus the last page)\n",
    "\n",
    "2 - Takes care of 200 errors (with empty or invalid responses) and 429 (too any requests). Byt doing a try catch where it will attempt 5 times. \n",
    "\n",
    "3 - Use parralel using joblib, where we use ` n = 9` workers (since OpenALEX has a limit of 10 requests pr second) to prevent 429 errors. "
   ]
  },
  {
   "cell_type": "code",
   "execution_count": 27,
   "id": "242d3b81",
   "metadata": {},
   "outputs": [
    {
     "name": "stderr",
     "output_type": "stream",
     "text": [
      "/Users/glymov/Library/Python/3.9/lib/python/site-packages/urllib3/__init__.py:34: NotOpenSSLWarning: urllib3 v2.0 only supports OpenSSL 1.1.1+, currently the 'ssl' module is compiled with 'LibreSSL 2.8.3'. See: https://github.com/urllib3/urllib3/issues/3020\n",
      "  warnings.warn(\n",
      "/Users/glymov/Library/Python/3.9/lib/python/site-packages/urllib3/__init__.py:34: NotOpenSSLWarning: urllib3 v2.0 only supports OpenSSL 1.1.1+, currently the 'ssl' module is compiled with 'LibreSSL 2.8.3'. See: https://github.com/urllib3/urllib3/issues/3020\n",
      "  warnings.warn(\n",
      "/Users/glymov/Library/Python/3.9/lib/python/site-packages/urllib3/__init__.py:34: NotOpenSSLWarning: urllib3 v2.0 only supports OpenSSL 1.1.1+, currently the 'ssl' module is compiled with 'LibreSSL 2.8.3'. See: https://github.com/urllib3/urllib3/issues/3020\n",
      "  warnings.warn(\n",
      "/Users/glymov/Library/Python/3.9/lib/python/site-packages/urllib3/__init__.py:34: NotOpenSSLWarning: urllib3 v2.0 only supports OpenSSL 1.1.1+, currently the 'ssl' module is compiled with 'LibreSSL 2.8.3'. See: https://github.com/urllib3/urllib3/issues/3020\n",
      "  warnings.warn(\n",
      "/Users/glymov/Library/Python/3.9/lib/python/site-packages/urllib3/__init__.py:34: NotOpenSSLWarning: urllib3 v2.0 only supports OpenSSL 1.1.1+, currently the 'ssl' module is compiled with 'LibreSSL 2.8.3'. See: https://github.com/urllib3/urllib3/issues/3020\n",
      "  warnings.warn(\n",
      "/Users/glymov/Library/Python/3.9/lib/python/site-packages/urllib3/__init__.py:34: NotOpenSSLWarning: urllib3 v2.0 only supports OpenSSL 1.1.1+, currently the 'ssl' module is compiled with 'LibreSSL 2.8.3'. See: https://github.com/urllib3/urllib3/issues/3020\n",
      "  warnings.warn(\n",
      "/Users/glymov/Library/Python/3.9/lib/python/site-packages/urllib3/__init__.py:34: NotOpenSSLWarning: urllib3 v2.0 only supports OpenSSL 1.1.1+, currently the 'ssl' module is compiled with 'LibreSSL 2.8.3'. See: https://github.com/urllib3/urllib3/issues/3020\n",
      "  warnings.warn(\n",
      "/Users/glymov/Library/Python/3.9/lib/python/site-packages/urllib3/__init__.py:34: NotOpenSSLWarning: urllib3 v2.0 only supports OpenSSL 1.1.1+, currently the 'ssl' module is compiled with 'LibreSSL 2.8.3'. See: https://github.com/urllib3/urllib3/issues/3020\n",
      "  warnings.warn(\n",
      "/Users/glymov/Library/Python/3.9/lib/python/site-packages/urllib3/__init__.py:34: NotOpenSSLWarning: urllib3 v2.0 only supports OpenSSL 1.1.1+, currently the 'ssl' module is compiled with 'LibreSSL 2.8.3'. See: https://github.com/urllib3/urllib3/issues/3020\n",
      "  warnings.warn(\n"
     ]
    },
    {
     "name": "stdout",
     "output_type": "stream",
     "text": [
      "Error 429 for A5041494411|A5050222178|A5046927655|A5012811021|A5107974133|A5076364930|A5057871177|A5079914638|A5062365263|A5061444760|A5086501120|A5042920909|A5025683130|A5021346979|A5088178289|A5004596083|A5067333764|A5091815434|A5089362945|A5013385420|A5084817430|A5039966234|A5017437256|A5057650206|A5002709735, retrying...\n",
      "Error 429 for A5100445442|A5019426968|A5080265907|A5004281470|A5103986653|A5083334761|A5008551833|A5084116084|A5102791025|A5101456958|A5046270537|A5079213654|A5089413311|A5078357516|A5003636926|A5010846099|A5069137598|A5040821714|A5071615041|A5091314544|A5064910304|A5036032919|A5112824788|A5063445465|A5015761687, retrying...\n"
     ]
    }
   ],
   "source": [
    "def fetch_data(author_ids):\n",
    "    Workurl = \"https://api.openalex.org/works\"\n",
    "    cursor = \"*\"\n",
    "    page_i = 1\n",
    "    Articles = []\n",
    "    Abstract = []\n",
    "    Authors = []\n",
    "\n",
    "    while cursor:\n",
    "        params = {\n",
    "            \"filter\": f\"author.id:{author_ids},cited_by_count:>10\",\n",
    "            \"per-page\": 200,\n",
    "            \"cursor\": cursor\n",
    "        }\n",
    "\n",
    "        for attempt in range(5):  # Retry up to 5 times\n",
    "            try:\n",
    "                response = requests.get(Workurl, params=params, timeout=3)\n",
    "\n",
    "                if response.status_code != 200:\n",
    "                    print(f\"Error {response.status_code} for {author_ids}, retrying...\")\n",
    "                    time.sleep(2 ** attempt)  # Exponential backoff\n",
    "                    continue\n",
    "\n",
    "                if not response.text.strip():  # Check for empty response\n",
    "                    print(f\"Empty response for {author_ids}, retrying...\")\n",
    "                    time.sleep(2 ** attempt)\n",
    "                    continue\n",
    "\n",
    "                data = response.json()  # Parse JSON\n",
    "                break  # Exit retry loop if successful\n",
    "\n",
    "            except requests.exceptions.RequestException as e:\n",
    "                print(f\"Request error for {author_ids}: {e}, retrying...\")\n",
    "                time.sleep(2 ** attempt)\n",
    "            except requests.exceptions.JSONDecodeError:\n",
    "                print(f\"JSON decode error for {author_ids}, response: {response.text}, retrying...\")\n",
    "                time.sleep(2 ** attempt)\n",
    "\n",
    "        else:\n",
    "            print(f\"Failed to fetch data for {author_ids} after multiple attempts.\")\n",
    "            return [], [], []\n",
    "\n",
    "        # Call the function\n",
    "        filtered_papers, filtered_abstracts, filtered_authors = filter_relevant_works(data)\n",
    "\n",
    "        # Append results to existing lists\n",
    "        Articles.extend(filtered_papers)\n",
    "        Abstract.extend(filtered_abstracts)\n",
    "        Authors.extend(filtered_authors)\n",
    "\n",
    "        #print(f\"Author Batch Processed, Page {page_i} parsed\")\n",
    "        page_i += 1\n",
    "        cursor = data.get('meta', {}).get('next_cursor')\n",
    "\n",
    "    return Articles, Abstract, Authors\n",
    "\n",
    "# Parallel execution for each batch of authors\n",
    "results = Parallel(n_jobs=9)(delayed(fetch_data)(chunk) for chunk in formatted_chunks)\n",
    "\n",
    "# Merging results from parallel execution\n",
    "Articles = []\n",
    "Abstract = []\n",
    "Authors = []\n",
    "for articles, abstracts, authors in results:\n",
    "    Articles.extend(articles)\n",
    "    Abstract.extend(abstracts)\n",
    "    Authors.extend(authors)\n",
    "\n",
    "with open(\"articles.json\", \"w\") as f:\n",
    "    json.dump(Articles, f, indent=4)\n",
    "\n",
    "with open(\"abstracts.json\", \"w\") as f:\n",
    "    json.dump(Abstract, f, indent=4)\n",
    "\n",
    "with open(\"authors.json\", \"w\") as f:\n",
    "    json.dump(Authors, f, indent=4)"
   ]
  },
  {
   "cell_type": "markdown",
   "id": "8f5fe7ce",
   "metadata": {},
   "source": [
    "Length before filtering/removing duplicates:"
   ]
  },
  {
   "cell_type": "code",
   "execution_count": 52,
   "id": "e80d6d58",
   "metadata": {},
   "outputs": [
    {
     "data": {
      "text/plain": [
       "(49501, 12915, 12915)"
      ]
     },
     "execution_count": 52,
     "metadata": {},
     "output_type": "execute_result"
    }
   ],
   "source": [
    "len(Authors), len(Articles), len(Abstract)"
   ]
  },
  {
   "cell_type": "markdown",
   "id": "327f1746",
   "metadata": {},
   "source": [
    "Then remove the duplicate"
   ]
  },
  {
   "cell_type": "code",
   "execution_count": 29,
   "id": "e0424afa",
   "metadata": {},
   "outputs": [
    {
     "name": "stdout",
     "output_type": "stream",
     "text": [
      "Total duplicate articles: 1320\n",
      "Duplicate entries per ID: {'https://openalex.org/W3006753318': 3, 'https://openalex.org/W2101108259': 2, 'https://openalex.org/W2547045893': 3, 'https://openalex.org/W2102017123': 2, 'https://openalex.org/W2082396928': 2, 'https://openalex.org/W120264976': 2, 'https://openalex.org/W2142074516': 2, 'https://openalex.org/W2585057539': 3, 'https://openalex.org/W2951851909': 2, 'https://openalex.org/W2044360356': 2, 'https://openalex.org/W2899748628': 3, 'https://openalex.org/W3122113325': 3, 'https://openalex.org/W3023751895': 2, 'https://openalex.org/W3189072387': 4, 'https://openalex.org/W4205302485': 2, 'https://openalex.org/W4385741628': 3, 'https://openalex.org/W4392056515': 2, 'https://openalex.org/W2049213211': 3, 'https://openalex.org/W2565597050': 2, 'https://openalex.org/W1508765177': 2, 'https://openalex.org/W2102125399': 2, 'https://openalex.org/W2414498945': 2, 'https://openalex.org/W3115477807': 2, 'https://openalex.org/W4312065168': 4, 'https://openalex.org/W3161219713': 4, 'https://openalex.org/W3197182080': 3, 'https://openalex.org/W4380302601': 2, 'https://openalex.org/W4365999004': 2, 'https://openalex.org/W2129359184': 2, 'https://openalex.org/W2994907129': 2, 'https://openalex.org/W2964083839': 2, 'https://openalex.org/W2768092828': 2, 'https://openalex.org/W3161814337': 2, 'https://openalex.org/W4366003190': 2, 'https://openalex.org/W2167335523': 2, 'https://openalex.org/W2968516330': 2, 'https://openalex.org/W4223945749': 3, 'https://openalex.org/W4388819481': 2, 'https://openalex.org/W4235862367': 4, 'https://openalex.org/W2947759582': 2, 'https://openalex.org/W3197416624': 2, 'https://openalex.org/W2080083917': 2, 'https://openalex.org/W3104414387': 2, 'https://openalex.org/W4256154985': 2, 'https://openalex.org/W3154841881': 2, 'https://openalex.org/W3198334323': 2, 'https://openalex.org/W2900975341': 3, 'https://openalex.org/W2904444295': 3, 'https://openalex.org/W3107549912': 4, 'https://openalex.org/W3192799362': 2, 'https://openalex.org/W3200179082': 2, 'https://openalex.org/W4298005904': 3, 'https://openalex.org/W3099564279': 2, 'https://openalex.org/W1916072780': 2, 'https://openalex.org/W4309672241': 3, 'https://openalex.org/W4309697951': 4, 'https://openalex.org/W2158526526': 2, 'https://openalex.org/W1844628735': 2, 'https://openalex.org/W3123744018': 4, 'https://openalex.org/W4289257136': 2, 'https://openalex.org/W2951169525': 2, 'https://openalex.org/W1766567454': 2, 'https://openalex.org/W2897648888': 2, 'https://openalex.org/W2772073233': 2, 'https://openalex.org/W2120220258': 2, 'https://openalex.org/W2166692930': 2, 'https://openalex.org/W2115213191': 2, 'https://openalex.org/W91442942': 2, 'https://openalex.org/W2084938591': 2, 'https://openalex.org/W2595521492': 2, 'https://openalex.org/W2072606289': 2, 'https://openalex.org/W2538660910': 2, 'https://openalex.org/W3102867977': 4, 'https://openalex.org/W202178741': 2, 'https://openalex.org/W4312820073': 2, 'https://openalex.org/W2100974526': 2, 'https://openalex.org/W2750144484': 3, 'https://openalex.org/W3098249847': 2, 'https://openalex.org/W3099737066': 2, 'https://openalex.org/W2963062084': 2, 'https://openalex.org/W3003606046': 3, 'https://openalex.org/W2041161771': 3, 'https://openalex.org/W1578902217': 2, 'https://openalex.org/W2739215991': 3, 'https://openalex.org/W2784117065': 3, 'https://openalex.org/W2296706733': 3, 'https://openalex.org/W2165066692': 2, 'https://openalex.org/W2907352650': 3, 'https://openalex.org/W2167366384': 2, 'https://openalex.org/W3105992983': 3, 'https://openalex.org/W4224979504': 4, 'https://openalex.org/W3186027345': 2, 'https://openalex.org/W3101288630': 4, 'https://openalex.org/W4308522442': 3, 'https://openalex.org/W4319334192': 4, 'https://openalex.org/W4391322710': 2, 'https://openalex.org/W3121820606': 2, 'https://openalex.org/W2102188949': 2, 'https://openalex.org/W2121936028': 2, 'https://openalex.org/W2130815877': 2, 'https://openalex.org/W2703096805': 2, 'https://openalex.org/W2028993035': 2, 'https://openalex.org/W2166330262': 2, 'https://openalex.org/W2001081968': 2, 'https://openalex.org/W2063626260': 2, 'https://openalex.org/W3105617092': 3, 'https://openalex.org/W2605286186': 2, 'https://openalex.org/W1951757437': 3, 'https://openalex.org/W2902378118': 3, 'https://openalex.org/W2964092925': 3, 'https://openalex.org/W2113063644': 2, 'https://openalex.org/W3080293527': 4, 'https://openalex.org/W2298588541': 2, 'https://openalex.org/W3134165704': 3, 'https://openalex.org/W4241480561': 3, 'https://openalex.org/W2473006944': 2, 'https://openalex.org/W3200746061': 4, 'https://openalex.org/W4387012799': 5, 'https://openalex.org/W4322421449': 2, 'https://openalex.org/W2165925342': 3, 'https://openalex.org/W2124595358': 2, 'https://openalex.org/W2064731085': 2, 'https://openalex.org/W2015087122': 2, 'https://openalex.org/W1983627891': 2, 'https://openalex.org/W2011349956': 2, 'https://openalex.org/W3098780114': 2, 'https://openalex.org/W2886256382': 2, 'https://openalex.org/W2130261265': 2, 'https://openalex.org/W2329258917': 2, 'https://openalex.org/W2068689371': 2, 'https://openalex.org/W2950359997': 3, 'https://openalex.org/W2963718755': 2, 'https://openalex.org/W3098101451': 2, 'https://openalex.org/W3041035410': 3, 'https://openalex.org/W3136588178': 2, 'https://openalex.org/W3042669477': 5, 'https://openalex.org/W4323818571': 3, 'https://openalex.org/W4377107229': 2, 'https://openalex.org/W4377261825': 3, 'https://openalex.org/W2041536178': 2, 'https://openalex.org/W1964521983': 2, 'https://openalex.org/W2128059640': 3, 'https://openalex.org/W2979618875': 3, 'https://openalex.org/W3184121905': 2, 'https://openalex.org/W3144538815': 4, 'https://openalex.org/W3111149875': 3, 'https://openalex.org/W4280619845': 2, 'https://openalex.org/W4317358988': 3, 'https://openalex.org/W4384344025': 2, 'https://openalex.org/W318730972': 2, 'https://openalex.org/W3164832180': 4, 'https://openalex.org/W2080366222': 2, 'https://openalex.org/W2997384841': 2, 'https://openalex.org/W3015106467': 2, 'https://openalex.org/W3015737048': 2, 'https://openalex.org/W3174724031': 3, 'https://openalex.org/W3194985328': 2, 'https://openalex.org/W4379745010': 2, 'https://openalex.org/W2156333962': 2, 'https://openalex.org/W1989080863': 2, 'https://openalex.org/W2034463056': 2, 'https://openalex.org/W4300391517': 2, 'https://openalex.org/W2614743636': 2, 'https://openalex.org/W2279094787': 2, 'https://openalex.org/W2965449209': 3, 'https://openalex.org/W3215994392': 3, 'https://openalex.org/W1862597247': 2, 'https://openalex.org/W2903035852': 2, 'https://openalex.org/W2931732047': 3, 'https://openalex.org/W3003574506': 2, 'https://openalex.org/W4298136482': 2, 'https://openalex.org/W3165879865': 3, 'https://openalex.org/W4281738538': 2, 'https://openalex.org/W2046139478': 3, 'https://openalex.org/W1999633305': 2, 'https://openalex.org/W2107414416': 2, 'https://openalex.org/W4241434919': 4, 'https://openalex.org/W2064599189': 2, 'https://openalex.org/W1799089791': 3, 'https://openalex.org/W2944343747': 4, 'https://openalex.org/W3046795090': 2, 'https://openalex.org/W4287822196': 2, 'https://openalex.org/W3125182256': 2, 'https://openalex.org/W1492180038': 2, 'https://openalex.org/W3102583029': 3, 'https://openalex.org/W3153861127': 4, 'https://openalex.org/W3188968991': 3, 'https://openalex.org/W2040506158': 2, 'https://openalex.org/W2783432127': 3, 'https://openalex.org/W2963275574': 2, 'https://openalex.org/W2167023596': 2, 'https://openalex.org/W1804598840': 2, 'https://openalex.org/W2833794381': 2, 'https://openalex.org/W2912453995': 3, 'https://openalex.org/W3004730302': 4, 'https://openalex.org/W2122330440': 2, 'https://openalex.org/W2001627931': 2, 'https://openalex.org/W2221077826': 2, 'https://openalex.org/W2949362199': 2, 'https://openalex.org/W3088226160': 2, 'https://openalex.org/W3162129358': 4, 'https://openalex.org/W2964171270': 2, 'https://openalex.org/W2971807165': 2, 'https://openalex.org/W2159047210': 2, 'https://openalex.org/W147143319': 2, 'https://openalex.org/W4280576339': 2, 'https://openalex.org/W2592909217': 2, 'https://openalex.org/W2889078912': 2, 'https://openalex.org/W2963016267': 3, 'https://openalex.org/W3172872502': 2, 'https://openalex.org/W4281291869': 2, 'https://openalex.org/W3099844987': 2, 'https://openalex.org/W3173463346': 3, 'https://openalex.org/W2963402068': 2, 'https://openalex.org/W3088435213': 2, 'https://openalex.org/W4385574356': 2, 'https://openalex.org/W3029072971': 2, 'https://openalex.org/W3194933758': 3, 'https://openalex.org/W2604971865': 2, 'https://openalex.org/W2756204890': 2, 'https://openalex.org/W3141075380': 2, 'https://openalex.org/W2023740858': 2, 'https://openalex.org/W2178843456': 4, 'https://openalex.org/W2148527862': 3, 'https://openalex.org/W2265595858': 3, 'https://openalex.org/W1417125139': 3, 'https://openalex.org/W3033620876': 3, 'https://openalex.org/W2951364397': 3, 'https://openalex.org/W2797341271': 2, 'https://openalex.org/W2955561636': 2, 'https://openalex.org/W3036909456': 2, 'https://openalex.org/W2963261759': 2, 'https://openalex.org/W2986885494': 2, 'https://openalex.org/W3099168273': 3, 'https://openalex.org/W1965631677': 2, 'https://openalex.org/W2066752129': 2, 'https://openalex.org/W2096523843': 2, 'https://openalex.org/W4327913942': 2, 'https://openalex.org/W4316506829': 3, 'https://openalex.org/W4379016496': 3, 'https://openalex.org/W4399366359': 4, 'https://openalex.org/W4391823781': 2, 'https://openalex.org/W2883153670': 3, 'https://openalex.org/W4386276968': 2, 'https://openalex.org/W4393180737': 5, 'https://openalex.org/W3125104456': 2, 'https://openalex.org/W4307232822': 2, 'https://openalex.org/W4322721443': 2, 'https://openalex.org/W3098671446': 2, 'https://openalex.org/W3133127147': 2, 'https://openalex.org/W4313149231': 3, 'https://openalex.org/W3123088404': 2, 'https://openalex.org/W2898983021': 2, 'https://openalex.org/W3194628895': 3, 'https://openalex.org/W4366823573': 3, 'https://openalex.org/W2618972206': 2, 'https://openalex.org/W4293124983': 2, 'https://openalex.org/W4224942796': 2, 'https://openalex.org/W2984996088': 2, 'https://openalex.org/W2987407170': 3, 'https://openalex.org/W3033830516': 2, 'https://openalex.org/W3199938092': 2, 'https://openalex.org/W3183351672': 2, 'https://openalex.org/W2790573861': 2, 'https://openalex.org/W2913649461': 2, 'https://openalex.org/W2997474044': 2, 'https://openalex.org/W3000970298': 3, 'https://openalex.org/W1119807432': 2, 'https://openalex.org/W3082187871': 2, 'https://openalex.org/W2128338591': 2, 'https://openalex.org/W3217016897': 2, 'https://openalex.org/W3145119645': 2, 'https://openalex.org/W2163811604': 2, 'https://openalex.org/W2158316863': 2, 'https://openalex.org/W4300990168': 2, 'https://openalex.org/W2558100504': 2, 'https://openalex.org/W3162145206': 4, 'https://openalex.org/W3126206030': 4, 'https://openalex.org/W4200568363': 4, 'https://openalex.org/W3174010878': 3, 'https://openalex.org/W4210839783': 2, 'https://openalex.org/W4387783578': 2, 'https://openalex.org/W4385969476': 3, 'https://openalex.org/W2297083297': 2, 'https://openalex.org/W3152800444': 3, 'https://openalex.org/W2091829705': 2, 'https://openalex.org/W2262364653': 3, 'https://openalex.org/W3166101609': 3, 'https://openalex.org/W3126207517': 2, 'https://openalex.org/W4288384905': 2, 'https://openalex.org/W3124173250': 2, 'https://openalex.org/W2899292887': 2, 'https://openalex.org/W4247541611': 2, 'https://openalex.org/W4236978653': 2, 'https://openalex.org/W4200610554': 2, 'https://openalex.org/W4387623606': 2, 'https://openalex.org/W4388773253': 3, 'https://openalex.org/W2101157403': 2, 'https://openalex.org/W2966341301': 2, 'https://openalex.org/W3123475414': 2, 'https://openalex.org/W4246288419': 4, 'https://openalex.org/W4229045853': 2, 'https://openalex.org/W1961143607': 2, 'https://openalex.org/W2043232885': 2, 'https://openalex.org/W2571223366': 2, 'https://openalex.org/W2592180726': 2, 'https://openalex.org/W3005580471': 2, 'https://openalex.org/W3165666381': 2, 'https://openalex.org/W4298183015': 2, 'https://openalex.org/W2915050900': 3, 'https://openalex.org/W3125926974': 2, 'https://openalex.org/W2953395024': 2, 'https://openalex.org/W2760462986': 2, 'https://openalex.org/W3123521777': 2, 'https://openalex.org/W431568915': 2, 'https://openalex.org/W4200586018': 2, 'https://openalex.org/W2123329834': 2, 'https://openalex.org/W2127411301': 2, 'https://openalex.org/W2963790016': 2, 'https://openalex.org/W2963099212': 2, 'https://openalex.org/W2031063730': 2, 'https://openalex.org/W1600499772': 3, 'https://openalex.org/W2121208314': 2, 'https://openalex.org/W2416513196': 2, 'https://openalex.org/W2996212743': 2, 'https://openalex.org/W2952988558': 2, 'https://openalex.org/W2941915841': 2, 'https://openalex.org/W3100718630': 2, 'https://openalex.org/W4285728363': 3, 'https://openalex.org/W4392637287': 2, 'https://openalex.org/W4385571220': 3, 'https://openalex.org/W2741636242': 2, 'https://openalex.org/W2005315498': 2, 'https://openalex.org/W2604777976': 2, 'https://openalex.org/W2157163421': 2, 'https://openalex.org/W2963492501': 2, 'https://openalex.org/W2890273554': 2, 'https://openalex.org/W3208739831': 2, 'https://openalex.org/W4283810944': 3, 'https://openalex.org/W4382202515': 2, 'https://openalex.org/W2795411222': 2, 'https://openalex.org/W3047315229': 2, 'https://openalex.org/W3159059608': 2, 'https://openalex.org/W4386566641': 2, 'https://openalex.org/W4389523793': 2, 'https://openalex.org/W2028891984': 2, 'https://openalex.org/W3191315363': 3, 'https://openalex.org/W4281606473': 3, 'https://openalex.org/W2987834530': 2, 'https://openalex.org/W3104764318': 2, 'https://openalex.org/W4285231210': 2, 'https://openalex.org/W2963795346': 2, 'https://openalex.org/W2750839509': 2, 'https://openalex.org/W3202905522': 2, 'https://openalex.org/W4210537132': 2, 'https://openalex.org/W2962815454': 2, 'https://openalex.org/W2969395259': 2, 'https://openalex.org/W4233995128': 3, 'https://openalex.org/W2409006008': 2, 'https://openalex.org/W2899317835': 2, 'https://openalex.org/W2951038425': 2, 'https://openalex.org/W2137411054': 2, 'https://openalex.org/W3013473577': 2, 'https://openalex.org/W3125618971': 2, 'https://openalex.org/W2913081045': 2, 'https://openalex.org/W3124726575': 5, 'https://openalex.org/W3125936870': 2, 'https://openalex.org/W4232317699': 2, 'https://openalex.org/W2166730394': 2, 'https://openalex.org/W2061651455': 2, 'https://openalex.org/W3098124506': 3, 'https://openalex.org/W2808505390': 2, 'https://openalex.org/W2788362053': 2, 'https://openalex.org/W2972275627': 2, 'https://openalex.org/W3033749393': 2, 'https://openalex.org/W3128282934': 3, 'https://openalex.org/W3094516041': 2, 'https://openalex.org/W3173730528': 2, 'https://openalex.org/W4377941795': 2, 'https://openalex.org/W4323031795': 3, 'https://openalex.org/W4399167792': 2, 'https://openalex.org/W4402474910': 2, 'https://openalex.org/W1975950716': 2, 'https://openalex.org/W2047447098': 2, 'https://openalex.org/W3152245102': 2, 'https://openalex.org/W2302600777': 2, 'https://openalex.org/W2522500382': 2, 'https://openalex.org/W2115316459': 2, 'https://openalex.org/W2231433198': 2, 'https://openalex.org/W3003691606': 2, 'https://openalex.org/W3004425213': 3, 'https://openalex.org/W2788848737': 2, 'https://openalex.org/W2166531833': 2, 'https://openalex.org/W4231588236': 5, 'https://openalex.org/W2252072508': 2, 'https://openalex.org/W2963052389': 2, 'https://openalex.org/W2912698222': 3, 'https://openalex.org/W2611363225': 2, 'https://openalex.org/W2913317949': 2, 'https://openalex.org/W3016737084': 2, 'https://openalex.org/W3121427863': 2, 'https://openalex.org/W3094739336': 2, 'https://openalex.org/W3142376279': 2, 'https://openalex.org/W2765191723': 2, 'https://openalex.org/W3082653114': 3, 'https://openalex.org/W3034853018': 2, 'https://openalex.org/W2998076808': 2, 'https://openalex.org/W4249934906': 2, 'https://openalex.org/W3163675517': 2, 'https://openalex.org/W3037924975': 3, 'https://openalex.org/W4200428383': 3, 'https://openalex.org/W4313428942': 2, 'https://openalex.org/W2990372444': 3, 'https://openalex.org/W4229051537': 2, 'https://openalex.org/W3186492090': 2, 'https://openalex.org/W2229694010': 2, 'https://openalex.org/W4309650732': 2, 'https://openalex.org/W4386387636': 5, 'https://openalex.org/W4321003400': 3, 'https://openalex.org/W4367676198': 2, 'https://openalex.org/W1990476939': 2, 'https://openalex.org/W2159145890': 2, 'https://openalex.org/W2962683462': 2, 'https://openalex.org/W2170172599': 2, 'https://openalex.org/W2755214931': 2, 'https://openalex.org/W1996156133': 2, 'https://openalex.org/W4232687929': 2, 'https://openalex.org/W2791119162': 2, 'https://openalex.org/W2774114807': 2, 'https://openalex.org/W2062055052': 2, 'https://openalex.org/W2141627821': 2, 'https://openalex.org/W2408358063': 2, 'https://openalex.org/W4299939935': 2, 'https://openalex.org/W4248403502': 2, 'https://openalex.org/W3032049092': 3, 'https://openalex.org/W3023455941': 2, 'https://openalex.org/W4239096549': 2, 'https://openalex.org/W4200143997': 2, 'https://openalex.org/W4307965483': 3, 'https://openalex.org/W4377020016': 2, 'https://openalex.org/W4385693083': 2, 'https://openalex.org/W4385381485': 2, 'https://openalex.org/W2163636580': 2, 'https://openalex.org/W2039739384': 2, 'https://openalex.org/W2544448700': 2, 'https://openalex.org/W2042441692': 2, 'https://openalex.org/W2075000550': 2, 'https://openalex.org/W2407814176': 2, 'https://openalex.org/W2802661306': 2, 'https://openalex.org/W3098899291': 2, 'https://openalex.org/W4243680762': 2, 'https://openalex.org/W3184744491': 3, 'https://openalex.org/W4225161352': 2, 'https://openalex.org/W4380872052': 2, 'https://openalex.org/W2950265899': 2, 'https://openalex.org/W1861683694': 2, 'https://openalex.org/W134656973': 2, 'https://openalex.org/W2952030759': 2, 'https://openalex.org/W2899505729': 2, 'https://openalex.org/W2741710690': 2, 'https://openalex.org/W4238726429': 2, 'https://openalex.org/W2799950781': 2, 'https://openalex.org/W3032130558': 2, 'https://openalex.org/W4233106501': 3, 'https://openalex.org/W4238877560': 2, 'https://openalex.org/W3214948818': 3, 'https://openalex.org/W4386572648': 2, 'https://openalex.org/W2086651866': 2, 'https://openalex.org/W4298264519': 2, 'https://openalex.org/W2399964724': 2, 'https://openalex.org/W4247185406': 3, 'https://openalex.org/W3000721909': 2, 'https://openalex.org/W3052930344': 2, 'https://openalex.org/W3197961390': 2, 'https://openalex.org/W4287208198': 2, 'https://openalex.org/W2588168955': 3, 'https://openalex.org/W4247295206': 2, 'https://openalex.org/W2225771498': 2, 'https://openalex.org/W3100696751': 2, 'https://openalex.org/W4232537629': 2, 'https://openalex.org/W2396804222': 2, 'https://openalex.org/W2955792826': 2, 'https://openalex.org/W3080442798': 2, 'https://openalex.org/W1806085624': 2, 'https://openalex.org/W3158712508': 2, 'https://openalex.org/W4233215040': 2, 'https://openalex.org/W2523390905': 2, 'https://openalex.org/W3119560152': 2, 'https://openalex.org/W3170598770': 2, 'https://openalex.org/W4248702981': 2, 'https://openalex.org/W3121902296': 2, 'https://openalex.org/W4231458631': 2, 'https://openalex.org/W2963452328': 2, 'https://openalex.org/W3135626098': 2, 'https://openalex.org/W4230794884': 3, 'https://openalex.org/W3159952533': 3, 'https://openalex.org/W1966733160': 2, 'https://openalex.org/W2785918791': 2, 'https://openalex.org/W2892506764': 2, 'https://openalex.org/W4235977939': 2, 'https://openalex.org/W4241352323': 2, 'https://openalex.org/W4242074543': 3, 'https://openalex.org/W3182051644': 2, 'https://openalex.org/W2020644292': 2, 'https://openalex.org/W2401316330': 2, 'https://openalex.org/W2796283328': 2, 'https://openalex.org/W4288593521': 2, 'https://openalex.org/W2405450976': 2, 'https://openalex.org/W2497615211': 2, 'https://openalex.org/W2914159234': 3, 'https://openalex.org/W4229941926': 2, 'https://openalex.org/W2400088254': 2, 'https://openalex.org/W2949529077': 2, 'https://openalex.org/W3135375550': 2, 'https://openalex.org/W4255022312': 2, 'https://openalex.org/W3155088253': 2, 'https://openalex.org/W3182172840': 2, 'https://openalex.org/W4250728453': 2, 'https://openalex.org/W2765602341': 2, 'https://openalex.org/W2574361586': 2, 'https://openalex.org/W2785490222': 2, 'https://openalex.org/W2964402164': 2, 'https://openalex.org/W3044134740': 3, 'https://openalex.org/W3125855391': 2, 'https://openalex.org/W3143483483': 2, 'https://openalex.org/W3165253721': 2, 'https://openalex.org/W2163635079': 2, 'https://openalex.org/W2800722785': 2, 'https://openalex.org/W2809189000': 2, 'https://openalex.org/W3205169765': 2, 'https://openalex.org/W4313888849': 3, 'https://openalex.org/W2988337058': 2, 'https://openalex.org/W4300918441': 3, 'https://openalex.org/W3041176905': 2, 'https://openalex.org/W4220800320': 3, 'https://openalex.org/W4385501702': 2, 'https://openalex.org/W3155541393': 2, 'https://openalex.org/W4235991331': 3, 'https://openalex.org/W3021927925': 2, 'https://openalex.org/W3159958158': 2, 'https://openalex.org/W4372272969': 2, 'https://openalex.org/W3106480478': 3, 'https://openalex.org/W2988826827': 2, 'https://openalex.org/W2941309708': 2, 'https://openalex.org/W2949944926': 2, 'https://openalex.org/W3127612204': 3, 'https://openalex.org/W4308920861': 3, 'https://openalex.org/W2788624819': 3, 'https://openalex.org/W3211777799': 2, 'https://openalex.org/W3094443176': 2, 'https://openalex.org/W2952263365': 2, 'https://openalex.org/W3030030197': 2, 'https://openalex.org/W3037966274': 2, 'https://openalex.org/W3106004731': 2, 'https://openalex.org/W2479725330': 2, 'https://openalex.org/W1967579779': 2, 'https://openalex.org/W3099011804': 3, 'https://openalex.org/W2402700': 2, 'https://openalex.org/W2584805976': 3, 'https://openalex.org/W2112896229': 2, 'https://openalex.org/W2147634746': 3, 'https://openalex.org/W2106686523': 2, 'https://openalex.org/W2162051395': 2, 'https://openalex.org/W2081249542': 2, 'https://openalex.org/W2125349172': 2, 'https://openalex.org/W2106114848': 2, 'https://openalex.org/W3099766584': 2, 'https://openalex.org/W1968478384': 2, 'https://openalex.org/W2292070666': 2, 'https://openalex.org/W2791200426': 2, 'https://openalex.org/W2137036358': 2, 'https://openalex.org/W2899027170': 3, 'https://openalex.org/W3088424418': 2, 'https://openalex.org/W2146136606': 2, 'https://openalex.org/W2134067070': 2, 'https://openalex.org/W2081896594': 2, 'https://openalex.org/W2097781223': 2, 'https://openalex.org/W2020358772': 3, 'https://openalex.org/W2610483642': 2, 'https://openalex.org/W1623665690': 3, 'https://openalex.org/W2989364584': 2, 'https://openalex.org/W2340840968': 2, 'https://openalex.org/W2151029989': 2, 'https://openalex.org/W2295750479': 2, 'https://openalex.org/W2808894668': 2, 'https://openalex.org/W2290484796': 2, 'https://openalex.org/W2772728402': 2, 'https://openalex.org/W2402880877': 3, 'https://openalex.org/W2574689852': 2, 'https://openalex.org/W2168981274': 3, 'https://openalex.org/W2150826728': 2, 'https://openalex.org/W2017947603': 2, 'https://openalex.org/W3123833839': 2, 'https://openalex.org/W2295893477': 2, 'https://openalex.org/W2795673640': 2, 'https://openalex.org/W4200473088': 2, 'https://openalex.org/W2902149548': 2, 'https://openalex.org/W108820191': 2, 'https://openalex.org/W2587784251': 2, 'https://openalex.org/W2969374078': 2, 'https://openalex.org/W3034263090': 3, 'https://openalex.org/W4283170630': 2, 'https://openalex.org/W2588494475': 2, 'https://openalex.org/W2610856828': 3, 'https://openalex.org/W3037601311': 2, 'https://openalex.org/W2048733696': 2, 'https://openalex.org/W2966559663': 2, 'https://openalex.org/W2786058524': 2, 'https://openalex.org/W1640532445': 3, 'https://openalex.org/W4211073039': 2, 'https://openalex.org/W2932305602': 2, 'https://openalex.org/W2950621678': 3, 'https://openalex.org/W3215202532': 2, 'https://openalex.org/W2966064389': 2, 'https://openalex.org/W3035159577': 2, 'https://openalex.org/W3017285370': 2, 'https://openalex.org/W121692706': 2, 'https://openalex.org/W1490556267': 2, 'https://openalex.org/W226428170': 2, 'https://openalex.org/W99860831': 2, 'https://openalex.org/W2049571782': 2, 'https://openalex.org/W2160598105': 2, 'https://openalex.org/W3181414820': 2, 'https://openalex.org/W1845748792': 3, 'https://openalex.org/W3098684887': 2, 'https://openalex.org/W2118027753': 2, 'https://openalex.org/W4285790115': 2, 'https://openalex.org/W3159541068': 2, 'https://openalex.org/W3000677638': 2, 'https://openalex.org/W3003448143': 2, 'https://openalex.org/W1780764807': 2, 'https://openalex.org/W4231258178': 2, 'https://openalex.org/W2997788455': 2, 'https://openalex.org/W2898288652': 2, 'https://openalex.org/W2593227599': 2, 'https://openalex.org/W2554337180': 2, 'https://openalex.org/W1747490318': 2, 'https://openalex.org/W3021653780': 2, 'https://openalex.org/W2769747407': 2, 'https://openalex.org/W3200365203': 2, 'https://openalex.org/W3171138532': 3, 'https://openalex.org/W3208661003': 2, 'https://openalex.org/W4297093774': 2, 'https://openalex.org/W4319151786': 3, 'https://openalex.org/W2919292274': 2, 'https://openalex.org/W2504279352': 2, 'https://openalex.org/W4200247659': 2, 'https://openalex.org/W4200186631': 2, 'https://openalex.org/W3038322369': 2, 'https://openalex.org/W4386824208': 3, 'https://openalex.org/W2950350902': 2, 'https://openalex.org/W2795069772': 2, 'https://openalex.org/W3042328364': 3, 'https://openalex.org/W3127286282': 2, 'https://openalex.org/W2964320510': 2, 'https://openalex.org/W2799924119': 2, 'https://openalex.org/W2395690074': 2, 'https://openalex.org/W3212782531': 2, 'https://openalex.org/W2795027053': 2, 'https://openalex.org/W2733810386': 2, 'https://openalex.org/W3041002656': 2, 'https://openalex.org/W3164562350': 2, 'https://openalex.org/W2907806693': 2, 'https://openalex.org/W3092846560': 2, 'https://openalex.org/W4286588454': 3, 'https://openalex.org/W4312735865': 2, 'https://openalex.org/W2071433162': 3, 'https://openalex.org/W1577984707': 2, 'https://openalex.org/W3105764998': 3, 'https://openalex.org/W3126011248': 2, 'https://openalex.org/W3116233757': 2, 'https://openalex.org/W2052557717': 2, 'https://openalex.org/W2914657261': 2, 'https://openalex.org/W3083408402': 2, 'https://openalex.org/W4230789295': 2, 'https://openalex.org/W3080403679': 2, 'https://openalex.org/W3037517673': 2, 'https://openalex.org/W3148886682': 3, 'https://openalex.org/W3103388805': 2, 'https://openalex.org/W4392153984': 2, 'https://openalex.org/W4392955615': 3, 'https://openalex.org/W3102465832': 2, 'https://openalex.org/W2974159646': 2, 'https://openalex.org/W4366769817': 2, 'https://openalex.org/W4380301697': 2, 'https://openalex.org/W1675524870': 2, 'https://openalex.org/W3087020444': 2, 'https://openalex.org/W4361218003': 2, 'https://openalex.org/W1971505203': 2, 'https://openalex.org/W1984263819': 2, 'https://openalex.org/W2136455575': 2, 'https://openalex.org/W4306160922': 2, 'https://openalex.org/W4245020467': 2, 'https://openalex.org/W3040100687': 3, 'https://openalex.org/W3048300742': 2, 'https://openalex.org/W3099109645': 2, 'https://openalex.org/W4288111914': 2, 'https://openalex.org/W2969655854': 2, 'https://openalex.org/W3101062900': 2, 'https://openalex.org/W2130087232': 2, 'https://openalex.org/W2963171999': 2, 'https://openalex.org/W3106511093': 2, 'https://openalex.org/W410032661': 2, 'https://openalex.org/W2985724091': 2, 'https://openalex.org/W2118519969': 2, 'https://openalex.org/W2154851929': 2, 'https://openalex.org/W4327811957': 2, 'https://openalex.org/W2130763650': 2, 'https://openalex.org/W2531252297': 2, 'https://openalex.org/W1911814792': 2, 'https://openalex.org/W2898706124': 2, 'https://openalex.org/W3176348367': 2, 'https://openalex.org/W3138682039': 2, 'https://openalex.org/W2963104173': 2, 'https://openalex.org/W4390671601': 2, 'https://openalex.org/W2117117528': 2, 'https://openalex.org/W2800048244': 2, 'https://openalex.org/W2810463027': 2, 'https://openalex.org/W2936285431': 2, 'https://openalex.org/W3034442695': 2, 'https://openalex.org/W3019602516': 2, 'https://openalex.org/W22264387': 2, 'https://openalex.org/W2795366572': 2, 'https://openalex.org/W2807321295': 2, 'https://openalex.org/W1998330897': 2, 'https://openalex.org/W2920961600': 2, 'https://openalex.org/W2798797339': 2, 'https://openalex.org/W2963132053': 2, 'https://openalex.org/W3037246227': 3, 'https://openalex.org/W3200551075': 3, 'https://openalex.org/W3204961421': 2, 'https://openalex.org/W2963186711': 2, 'https://openalex.org/W2780782197': 2, 'https://openalex.org/W2988053367': 2, 'https://openalex.org/W3098757141': 2, 'https://openalex.org/W2792010632': 2, 'https://openalex.org/W2889370414': 2, 'https://openalex.org/W3008254539': 3, 'https://openalex.org/W3037713666': 2, 'https://openalex.org/W4239013101': 2, 'https://openalex.org/W2294420157': 2, 'https://openalex.org/W3136688245': 2, 'https://openalex.org/W2291940675': 2, 'https://openalex.org/W4377098551': 2, 'https://openalex.org/W4402512774': 2, 'https://openalex.org/W3106441967': 3, 'https://openalex.org/W3100572972': 3, 'https://openalex.org/W3103008885': 2, 'https://openalex.org/W2896252141': 2, 'https://openalex.org/W613065787': 2, 'https://openalex.org/W4225006216': 2, 'https://openalex.org/W2987432768': 2, 'https://openalex.org/W3046035982': 2, 'https://openalex.org/W4365450225': 2, 'https://openalex.org/W4366004207': 2, 'https://openalex.org/W3097181570': 2, 'https://openalex.org/W4367047419': 2, 'https://openalex.org/W2018432838': 2, 'https://openalex.org/W2123235204': 2, 'https://openalex.org/W2600788635': 2, 'https://openalex.org/W3003341304': 2, 'https://openalex.org/W312794767': 2, 'https://openalex.org/W2013958426': 2, 'https://openalex.org/W2613097910': 2, 'https://openalex.org/W4281388462': 2, 'https://openalex.org/W2794058103': 3, 'https://openalex.org/W3047508744': 2, 'https://openalex.org/W4309271277': 2, 'https://openalex.org/W2504733833': 2, 'https://openalex.org/W2554230530': 2, 'https://openalex.org/W2782190564': 2, 'https://openalex.org/W3010608900': 2, 'https://openalex.org/W4242201235': 2, 'https://openalex.org/W1995369415': 2, 'https://openalex.org/W2611262289': 2, 'https://openalex.org/W2111399142': 2, 'https://openalex.org/W2997979799': 2, 'https://openalex.org/W2194370442': 3, 'https://openalex.org/W3085671829': 2, 'https://openalex.org/W4283218347': 2, 'https://openalex.org/W2127492100': 2, 'https://openalex.org/W2073415627': 2, 'https://openalex.org/W2910027323': 2, 'https://openalex.org/W2142517301': 2, 'https://openalex.org/W2163179583': 2, 'https://openalex.org/W3121257585': 2, 'https://openalex.org/W2128891547': 2, 'https://openalex.org/W2890416412': 2, 'https://openalex.org/W2551317447': 2, 'https://openalex.org/W2055878274': 2, 'https://openalex.org/W2183515712': 2, 'https://openalex.org/W2919575471': 2, 'https://openalex.org/W2041312685': 2, 'https://openalex.org/W4313894975': 2, 'https://openalex.org/W4229008296': 2, 'https://openalex.org/W1852651688': 2, 'https://openalex.org/W2953386262': 2, 'https://openalex.org/W2951922949': 2, 'https://openalex.org/W2533696706': 2, 'https://openalex.org/W2117134415': 2, 'https://openalex.org/W3121228507': 2, 'https://openalex.org/W2964269387': 2, 'https://openalex.org/W2745133928': 2, 'https://openalex.org/W2899928148': 3, 'https://openalex.org/W3171472364': 2, 'https://openalex.org/W4207052662': 3, 'https://openalex.org/W4389991891': 2, 'https://openalex.org/W1859954604': 2, 'https://openalex.org/W2217150212': 2, 'https://openalex.org/W3099549037': 3, 'https://openalex.org/W3209595240': 2, 'https://openalex.org/W4280508350': 4, 'https://openalex.org/W4360818870': 2, 'https://openalex.org/W3159668953': 2, 'https://openalex.org/W3161533314': 2, 'https://openalex.org/W1547072582': 2, 'https://openalex.org/W2951097239': 2, 'https://openalex.org/W2598883057': 2, 'https://openalex.org/W3112208384': 2, 'https://openalex.org/W4382318764': 3, 'https://openalex.org/W2131380655': 2, 'https://openalex.org/W2799928191': 2, 'https://openalex.org/W3169938735': 3, 'https://openalex.org/W2218309822': 2, 'https://openalex.org/W4294190797': 2, 'https://openalex.org/W2072409427': 2, 'https://openalex.org/W3217325099': 2, 'https://openalex.org/W4252661026': 2, 'https://openalex.org/W1979028295': 2, 'https://openalex.org/W2438545883': 2, 'https://openalex.org/W2257559988': 2, 'https://openalex.org/W4231817337': 2, 'https://openalex.org/W1765785842': 2, 'https://openalex.org/W3217121078': 2, 'https://openalex.org/W2146286563': 2, 'https://openalex.org/W3037076518': 2, 'https://openalex.org/W2907343584': 2, 'https://openalex.org/W2112494680': 2, 'https://openalex.org/W2148895878': 2, 'https://openalex.org/W2588334501': 2, 'https://openalex.org/W2971881481': 2, 'https://openalex.org/W2339782372': 2, 'https://openalex.org/W3122456349': 2, 'https://openalex.org/W2114589588': 2, 'https://openalex.org/W3100063718': 2, 'https://openalex.org/W2963967828': 2, 'https://openalex.org/W2889287254': 2, 'https://openalex.org/W2590878907': 2, 'https://openalex.org/W3094003325': 2, 'https://openalex.org/W4242048916': 2, 'https://openalex.org/W3122137342': 2, 'https://openalex.org/W4229000065': 2, 'https://openalex.org/W4385188996': 3, 'https://openalex.org/W2962783425': 2, 'https://openalex.org/W3192265806': 3, 'https://openalex.org/W2102783506': 2, 'https://openalex.org/W2305899127': 2, 'https://openalex.org/W2972572477': 2, 'https://openalex.org/W2593130617': 2, 'https://openalex.org/W2898826109': 2, 'https://openalex.org/W2963578173': 2, 'https://openalex.org/W3170644058': 2, 'https://openalex.org/W2147313400': 2, 'https://openalex.org/W3190479309': 2, 'https://openalex.org/W2597358511': 2, 'https://openalex.org/W2062555531': 2, 'https://openalex.org/W2135572296': 2, 'https://openalex.org/W2743149734': 2, 'https://openalex.org/W2972697496': 2, 'https://openalex.org/W4288000038': 2, 'https://openalex.org/W3155874371': 2, 'https://openalex.org/W3098683121': 2, 'https://openalex.org/W2737619627': 2, 'https://openalex.org/W2109521776': 2, 'https://openalex.org/W4214694322': 2, 'https://openalex.org/W4226256882': 2, 'https://openalex.org/W4380301730': 2, 'https://openalex.org/W2016450307': 2, 'https://openalex.org/W2574107401': 2, 'https://openalex.org/W3000087869': 2, 'https://openalex.org/W3037020614': 3, 'https://openalex.org/W4372347440': 2, 'https://openalex.org/W2048628830': 2, 'https://openalex.org/W2789246402': 2, 'https://openalex.org/W2287054277': 2, 'https://openalex.org/W3004865980': 2, 'https://openalex.org/W4285301760': 2, 'https://openalex.org/W2953218027': 2, 'https://openalex.org/W3159072333': 2, 'https://openalex.org/W3208413311': 2, 'https://openalex.org/W3174613761': 2, 'https://openalex.org/W2144429702': 2, 'https://openalex.org/W2621085796': 2, 'https://openalex.org/W2810030148': 2, 'https://openalex.org/W3018413731': 3, 'https://openalex.org/W2901416577': 3, 'https://openalex.org/W2608833567': 2, 'https://openalex.org/W2791200561': 2, 'https://openalex.org/W4313478339': 3, 'https://openalex.org/W1788561130': 2, 'https://openalex.org/W3102823331': 2, 'https://openalex.org/W4297534144': 2, 'https://openalex.org/W2215853537': 2, 'https://openalex.org/W2119799268': 2, 'https://openalex.org/W3087185627': 2, 'https://openalex.org/W2358000107': 2, 'https://openalex.org/W2809979304': 3, 'https://openalex.org/W4210634388': 2, 'https://openalex.org/W2364057241': 2, 'https://openalex.org/W2963755761': 3, 'https://openalex.org/W3098185008': 2, 'https://openalex.org/W4307020338': 2, 'https://openalex.org/W3174439307': 2, 'https://openalex.org/W3025040464': 2, 'https://openalex.org/W3081996292': 3, 'https://openalex.org/W3141593921': 2, 'https://openalex.org/W2771849569': 2, 'https://openalex.org/W4214780045': 2, 'https://openalex.org/W3111393656': 3, 'https://openalex.org/W2941870061': 2, 'https://openalex.org/W3039901811': 2, 'https://openalex.org/W4382989325': 2, 'https://openalex.org/W4391463878': 3, 'https://openalex.org/W2043383814': 2, 'https://openalex.org/W4205336941': 2, 'https://openalex.org/W2156577639': 2, 'https://openalex.org/W2741216199': 2, 'https://openalex.org/W2129625650': 2, 'https://openalex.org/W2889698477': 2, 'https://openalex.org/W2757124792': 2, 'https://openalex.org/W2987392055': 2, 'https://openalex.org/W3024303626': 2, 'https://openalex.org/W2795781768': 2, 'https://openalex.org/W2768073594': 2, 'https://openalex.org/W2999071598': 2, 'https://openalex.org/W2962820470': 2, 'https://openalex.org/W2511318808': 2, 'https://openalex.org/W2468547970': 2, 'https://openalex.org/W2621925477': 2, 'https://openalex.org/W2933029306': 2, 'https://openalex.org/W3010738718': 2, 'https://openalex.org/W2824282603': 2, 'https://openalex.org/W2900436182': 2, 'https://openalex.org/W3093603380': 2, 'https://openalex.org/W2963747121': 2, 'https://openalex.org/W3013882954': 2, 'https://openalex.org/W3010530210': 2, 'https://openalex.org/W2984602301': 2, 'https://openalex.org/W2551256420': 2, 'https://openalex.org/W3031217026': 2, 'https://openalex.org/W4288076433': 2, 'https://openalex.org/W2937371368': 2, 'https://openalex.org/W2985405314': 2, 'https://openalex.org/W2932977863': 2, 'https://openalex.org/W2135863906': 2, 'https://openalex.org/W2075394906': 2, 'https://openalex.org/W2945090970': 2, 'https://openalex.org/W2913938050': 2, 'https://openalex.org/W2263108163': 2, 'https://openalex.org/W2150736178': 2, 'https://openalex.org/W3209972423': 2, 'https://openalex.org/W3175319024': 2, 'https://openalex.org/W2968972313': 2, 'https://openalex.org/W4303112844': 2, 'https://openalex.org/W4251722402': 2, 'https://openalex.org/W2949135776': 2, 'https://openalex.org/W2411911989': 2, 'https://openalex.org/W4366003124': 2, 'https://openalex.org/W4313423816': 2, 'https://openalex.org/W3185668092': 4, 'https://openalex.org/W3207977329': 2, 'https://openalex.org/W4287125334': 2, 'https://openalex.org/W4312201978': 3, 'https://openalex.org/W4206873779': 2, 'https://openalex.org/W2963516646': 2, 'https://openalex.org/W2268451786': 2, 'https://openalex.org/W3193304031': 2, 'https://openalex.org/W3105614774': 2, 'https://openalex.org/W2574434649': 2, 'https://openalex.org/W4225002570': 2, 'https://openalex.org/W3101320328': 2, 'https://openalex.org/W3007934595': 3, 'https://openalex.org/W2124927196': 2, 'https://openalex.org/W2790860712': 2, 'https://openalex.org/W2997842691': 2, 'https://openalex.org/W3003157017': 2, 'https://openalex.org/W3185191462': 2, 'https://openalex.org/W4388733340': 2, 'https://openalex.org/W2009736527': 2, 'https://openalex.org/W2142759302': 2, 'https://openalex.org/W2963806440': 2, 'https://openalex.org/W4221123756': 2, 'https://openalex.org/W4281490967': 2, 'https://openalex.org/W2170780465': 2, 'https://openalex.org/W2528943549': 2, 'https://openalex.org/W2963471742': 2, 'https://openalex.org/W2908479596': 2, 'https://openalex.org/W2934924962': 2, 'https://openalex.org/W2987156419': 2, 'https://openalex.org/W2964100231': 2, 'https://openalex.org/W2754237425': 2, 'https://openalex.org/W2899203725': 2, 'https://openalex.org/W2979856546': 2, 'https://openalex.org/W1987835826': 3, 'https://openalex.org/W2939088842': 2, 'https://openalex.org/W2963000270': 3, 'https://openalex.org/W2996448636': 2, 'https://openalex.org/W1696170920': 2, 'https://openalex.org/W2912638141': 2, 'https://openalex.org/W2625327153': 2, 'https://openalex.org/W1980648359': 2, 'https://openalex.org/W4297458948': 2, 'https://openalex.org/W3178026798': 2, 'https://openalex.org/W2963642173': 2, 'https://openalex.org/W2139754276': 2, 'https://openalex.org/W3121654114': 2, 'https://openalex.org/W2973159684': 2, 'https://openalex.org/W2481585384': 2, 'https://openalex.org/W3009706951': 2, 'https://openalex.org/W1984569839': 2, 'https://openalex.org/W2131813121': 2, 'https://openalex.org/W3104964565': 2, 'https://openalex.org/W2973962192': 2, 'https://openalex.org/W2045897976': 2, 'https://openalex.org/W3119934141': 2, 'https://openalex.org/W1526897159': 2, 'https://openalex.org/W2070306376': 2, 'https://openalex.org/W2984028244': 2, 'https://openalex.org/W3044729571': 2, 'https://openalex.org/W4298217521': 3, 'https://openalex.org/W2952165157': 2, 'https://openalex.org/W2036715167': 3, 'https://openalex.org/W2801128009': 2, 'https://openalex.org/W4238547672': 2, 'https://openalex.org/W4200446854': 2, 'https://openalex.org/W4248198839': 2, 'https://openalex.org/W2883191068': 2, 'https://openalex.org/W2100637281': 2, 'https://openalex.org/W2112392909': 2, 'https://openalex.org/W2001188195': 2, 'https://openalex.org/W2017717334': 2, 'https://openalex.org/W2111761833': 2, 'https://openalex.org/W1981554624': 2, 'https://openalex.org/W2168462141': 2, 'https://openalex.org/W1564142214': 2, 'https://openalex.org/W2174438886': 2, 'https://openalex.org/W2108681317': 2, 'https://openalex.org/W4292641593': 2, 'https://openalex.org/W2122314165': 2, 'https://openalex.org/W3101888384': 2, 'https://openalex.org/W2885659818': 2, 'https://openalex.org/W4235193380': 2, 'https://openalex.org/W3125789530': 2, 'https://openalex.org/W2802962159': 2, 'https://openalex.org/W1876450929': 2, 'https://openalex.org/W1990402644': 2, 'https://openalex.org/W3122638245': 2, 'https://openalex.org/W1762347651': 2, 'https://openalex.org/W4284961432': 2, 'https://openalex.org/W4200021386': 2, 'https://openalex.org/W2079988037': 2, 'https://openalex.org/W2125548571': 2, 'https://openalex.org/W2163651366': 2, 'https://openalex.org/W2131363974': 2, 'https://openalex.org/W2401462633': 2, 'https://openalex.org/W2115693236': 2, 'https://openalex.org/W2110620844': 2, 'https://openalex.org/W2167102709': 2, 'https://openalex.org/W629558026': 2, 'https://openalex.org/W2883299405': 2, 'https://openalex.org/W3026440911': 2, 'https://openalex.org/W3092124192': 2, 'https://openalex.org/W2957823982': 2, 'https://openalex.org/W2010383804': 2, 'https://openalex.org/W2870962990': 2, 'https://openalex.org/W4366749167': 2, 'https://openalex.org/W2979265655': 2, 'https://openalex.org/W3168952651': 2, 'https://openalex.org/W4220762274': 3, 'https://openalex.org/W2990968921': 2, 'https://openalex.org/W3160665248': 2, 'https://openalex.org/W2782793867': 2, 'https://openalex.org/W4394850764': 2, 'https://openalex.org/W4310365582': 2}\n"
     ]
    }
   ],
   "source": [
    "from collections import Counter\n",
    "\n",
    "# Count occurrences of article IDs\n",
    "id_counts = Counter(article['id'] for article in Articles)\n",
    "\n",
    "# Find duplicates\n",
    "duplicates = {article_id: count for article_id, count in id_counts.items() if count > 1}\n",
    "print(f\"Total duplicate articles: {sum(duplicates.values()) - len(duplicates)}\")\n",
    "print(\"Duplicate entries per ID:\", duplicates)\n",
    "\n",
    "# Remove duplicates while keeping the first occurrence\n",
    "seen_ids = set()\n",
    "unique_articles = []\n",
    "unique_abstracts = []\n",
    "\n",
    "for article, abstract in zip(Articles, Abstract):\n",
    "    if article['id'] not in seen_ids:\n",
    "        unique_articles.append(article)\n",
    "        unique_abstracts.append(abstract)\n",
    "        seen_ids.add(article['id'])\n",
    "\n",
    "# Update Articles and Abstract with unique elements\n",
    "Articles_cleaned = unique_articles\n",
    "Abstract_cleaned = unique_abstracts"
   ]
  },
  {
   "cell_type": "code",
   "execution_count": 30,
   "id": "2b0e82c2",
   "metadata": {},
   "outputs": [
    {
     "name": "stdout",
     "output_type": "stream",
     "text": [
      "Total duplicate authors: 31788\n",
      "Duplicate entries per ID: {'A5014647140': 53, 'A5082953212': 2, 'A5067142016': 5, 'A5008033989': 10, 'A5007285525': 5, 'A5088333030': 2, 'A5038976962': 103, 'A5054913386': 61, 'A5065660380': 2, 'A5100744117': 26, 'A5022334515': 5, 'A5041695925': 7, 'A5082358191': 21, 'A5054049660': 4, 'A5108542568': 2, 'A5065692438': 18, 'A5044033087': 12, 'A5035349918': 3, 'A5066728847': 7, 'A5028396638': 2, 'A5078253058': 12, 'A5056226085': 4, 'A5024523395': 2, 'A5046420137': 4, 'A5047198701': 5, 'A5056242621': 32, 'A5052367065': 2, 'A5070503646': 2, 'A5002041772': 51, 'A5044898565': 13, 'A5024505700': 13, 'A5036765731': 2, 'A5028932589': 10, 'A5110933986': 8, 'A5027903946': 6, 'A5027079032': 23, 'A5111672074': 7, 'A5045287985': 2, 'A5113594168': 2, 'A5029186501': 2, 'A5062113881': 2, 'A5113850996': 2, 'A5006225383': 11, 'A5059236838': 62, 'A5068484674': 5, 'A5062403203': 20, 'A5010495671': 11, 'A5000038347': 5, 'A5032779977': 4, 'A5075414122': 4, 'A5000679279': 111, 'A5052823400': 3, 'A5103118624': 4, 'A5045620226': 10, 'A5046348432': 10, 'A5082130337': 4, 'A5076852435': 8, 'A5073592405': 39, 'A5083303782': 7, 'A5023997241': 7, 'A5047897879': 4, 'A5070753993': 7, 'A5109067519': 4, 'A5040715593': 2, 'A5031120336': 3, 'A5061160911': 10, 'A5075585231': 14, 'A5036306729': 3, 'A5085034251': 5, 'A5030020822': 4, 'A5020533147': 179, 'A5056499434': 279, 'A5064296964': 24, 'A5071122166': 6, 'A5101702632': 2, 'A5057243118': 14, 'A5087990460': 6, 'A5007176508': 319, 'A5011168888': 15, 'A5030987696': 9, 'A5080732494': 18, 'A5054707908': 43, 'A5074777044': 4, 'A5090242279': 2, 'A5023775697': 11, 'A5046790968': 3, 'A5076067124': 2, 'A5064987258': 2, 'A5041499491': 8, 'A5063647785': 14, 'A5021501103': 34, 'A5014466973': 6, 'A5028448267': 9, 'A5075151889': 3, 'A5090303125': 4, 'A5036278905': 2, 'A5021537631': 8, 'A5073875709': 7, 'A5064297795': 6, 'A5034550995': 6, 'A5022534788': 2, 'A5068157871': 3, 'A5029191515': 4, 'A5048132210': 9, 'A5054519023': 6, 'A5009844359': 2, 'A5064827570': 188, 'A5111940488': 12, 'A5012379637': 5, 'A5022593047': 3, 'A5023061106': 12, 'A5019000888': 3, 'A5040820784': 15, 'A5100454614': 2, 'A5051322312': 9, 'A5046881273': 10, 'A5112283852': 14, 'A5032530421': 15, 'A5077079119': 216, 'A5069454833': 13, 'A5069999998': 23, 'A5103706325': 4, 'A5076651767': 47, 'A5112992954': 13, 'A5076732230': 13, 'A5027814433': 3, 'A5071294124': 5, 'A5062125301': 2, 'A5101803962': 2, 'A5055446394': 6, 'A5012327209': 19, 'A5052168303': 7, 'A5045843874': 2, 'A5019512764': 4, 'A5057624211': 6, 'A5102962995': 108, 'A5050073085': 2, 'A5068763840': 2, 'A5041337615': 2, 'A5031816187': 2, 'A5079825006': 64, 'A5052965447': 11, 'A5022657536': 2, 'A5022368086': 4, 'A5109223734': 2, 'A5010436269': 5, 'A5082095937': 3, 'A5071293344': 21, 'A5041361121': 2, 'A5080680637': 2, 'A5055069190': 6, 'A5043228682': 198, 'A5111367077': 9, 'A5075956753': 15, 'A5059083364': 2, 'A5068414530': 13, 'A5027392119': 3, 'A5031171331': 3, 'A5030788989': 2, 'A5037821383': 2, 'A5101980060': 2, 'A5049135480': 2, 'A5053433716': 5, 'A5091017885': 4, 'A5011998621': 14, 'A5062276512': 7, 'A5044643096': 2, 'A5055984015': 2, 'A5087150169': 2, 'A5046684626': 8, 'A5078651528': 18, 'A5062285844': 14, 'A5064398083': 2, 'A5033097735': 2, 'A5016819382': 2, 'A5075314395': 2, 'A5002362611': 2, 'A5031744461': 3, 'A5014325236': 2, 'A5052876977': 2, 'A5037488679': 2, 'A5086011172': 2, 'A5060753814': 2, 'A5113886631': 2, 'A5087175282': 2, 'A5015439547': 4, 'A5063762907': 4, 'A5112440044': 2, 'A5079449271': 4, 'A5014487792': 4, 'A5021623495': 4, 'A5076259865': 23, 'A5031439294': 2, 'A5045230890': 4, 'A5005700214': 2, 'A5078443228': 8, 'A5060310064': 3, 'A5062432559': 9, 'A5114065959': 2, 'A5017507131': 2, 'A5102756489': 7, 'A5013559230': 4, 'A5115598991': 4, 'A5011229206': 12, 'A5109833231': 4, 'A5073189960': 5, 'A5051092148': 2, 'A5015483503': 2, 'A5017700623': 2, 'A5033471397': 2, 'A5031461158': 37, 'A5080731595': 5, 'A5091452530': 2, 'A5055890875': 2, 'A5007071871': 2, 'A5073565809': 3, 'A5088448789': 10, 'A5013688285': 3, 'A5054586972': 8, 'A5001257783': 9, 'A5074825066': 6, 'A5015694492': 6, 'A5074354806': 2, 'A5101676626': 6, 'A5015873569': 10, 'A5072263832': 24, 'A5046030036': 2, 'A5041421536': 2, 'A5011588754': 3, 'A5048181040': 3, 'A5076633756': 8, 'A5011256345': 64, 'A5014724580': 10, 'A5032417423': 10, 'A5076364930': 7, 'A5037569091': 10, 'A5011708220': 2, 'A5045325634': 3, 'A5103326255': 7, 'A5079565971': 2, 'A5112445520': 2, 'A5084077919': 6, 'A5039489344': 2, 'A5015642017': 3, 'A5110702582': 4, 'A5047289699': 3, 'A5047408004': 2, 'A5036322121': 2, 'A5068819495': 31, 'A5059674609': 9, 'A5037975948': 34, 'A5025059277': 3, 'A5085409762': 3, 'A5109203386': 4, 'A5055068182': 3, 'A5029105520': 11, 'A5030852680': 7, 'A5054478253': 11, 'A5028277052': 8, 'A5043896474': 10, 'A5043737321': 2, 'A5013670125': 98, 'A5013727792': 79, 'A5046823814': 6, 'A5007374520': 20, 'A5073180325': 22, 'A5020318194': 4, 'A5039841997': 24, 'A5021346979': 211, 'A5011228873': 138, 'A5009970175': 4, 'A5046546654': 27, 'A5070348998': 9, 'A5078699564': 64, 'A5050099046': 19, 'A5002202464': 6, 'A5088509282': 5, 'A5079161259': 8, 'A5042731872': 2, 'A5105528213': 3, 'A5068077704': 7, 'A5063327692': 16, 'A5056583184': 58, 'A5054574752': 38, 'A5054721267': 7, 'A5046782003': 2, 'A5048877432': 118, 'A5112523317': 15, 'A5052308997': 5, 'A5048232579': 10, 'A5100721259': 8, 'A5070667310': 2, 'A5087912116': 6, 'A5042663603': 5, 'A5103033624': 8, 'A5063502960': 8, 'A5051006703': 9, 'A5048471401': 11, 'A5022601229': 2, 'A5041269206': 2, 'A5006314379': 37, 'A5017914184': 214, 'A5068556395': 176, 'A5053938061': 45, 'A5067087157': 4, 'A5009232244': 121, 'A5017095669': 40, 'A5009434750': 3, 'A5066060283': 10, 'A5077072350': 7, 'A5016893860': 3, 'A5054619352': 3, 'A5100721253': 3, 'A5019813501': 4, 'A5025218700': 20, 'A5051095866': 14, 'A5101884415': 6, 'A5028367820': 5, 'A5016767305': 7, 'A5013385420': 28, 'A5037994930': 8, 'A5070356107': 14, 'A5031312546': 13, 'A5042631896': 9, 'A5088539840': 56, 'A5014881285': 6, 'A5101579932': 10, 'A5046036512': 20, 'A5101932477': 4, 'A5059015074': 14, 'A5011899466': 3, 'A5033831688': 33, 'A5112865513': 4, 'A5041336256': 4, 'A5089055856': 21, 'A5057292858': 2, 'A5073702596': 5, 'A5006511244': 3, 'A5008439962': 67, 'A5026949484': 41, 'A5032408800': 4, 'A5037475402': 19, 'A5025069859': 3, 'A5036057602': 2, 'A5022017615': 3, 'A5031514121': 11, 'A5003587835': 4, 'A5058593348': 17, 'A5083027866': 4, 'A5044181099': 5, 'A5110520108': 5, 'A5042273441': 2, 'A5112666355': 2, 'A5045801671': 2, 'A5046665314': 7, 'A5019595239': 4, 'A5082391569': 30, 'A5110228068': 48, 'A5027171279': 27, 'A5100766387': 2, 'A5070491230': 2, 'A5027110040': 2, 'A5072690374': 3, 'A5081241112': 4, 'A5030027972': 3, 'A5017393131': 29, 'A5038255653': 20, 'A5103810699': 14, 'A5031799782': 12, 'A5084282503': 7, 'A5022272025': 6, 'A5036258938': 36, 'A5047344016': 2, 'A5010908695': 2, 'A5018037817': 5, 'A5047724274': 11, 'A5101715504': 20, 'A5101787543': 3, 'A5101882945': 3, 'A5108688680': 8, 'A5100447536': 4, 'A5081956768': 30, 'A5003031572': 12, 'A5079154791': 48, 'A5058939619': 13, 'A5037708423': 29, 'A5004318489': 7, 'A5074995400': 22, 'A5015080044': 74, 'A5038981063': 7, 'A5029348961': 5, 'A5084707282': 2, 'A5090637102': 10, 'A5077163579': 35, 'A5052195406': 3, 'A5055444532': 8, 'A5014437029': 15, 'A5063612283': 6, 'A5012811021': 5, 'A5084395089': 44, 'A5108052411': 2, 'A5067953991': 11, 'A5031279419': 2, 'A5086453253': 50, 'A5076985100': 2, 'A5075533617': 4, 'A5016033078': 3, 'A5108187466': 2, 'A5028276052': 6, 'A5111666319': 3, 'A5030951161': 2, 'A5044014333': 3, 'A5113372108': 2, 'A5002047466': 3, 'A5108105534': 2, 'A5027659421': 3, 'A5088882770': 3, 'A5002597222': 8, 'A5010828486': 2, 'A5057136388': 8, 'A5051374361': 4, 'A5084485442': 9, 'A5019984358': 2, 'A5035791917': 10, 'A5046689828': 4, 'A5090663249': 7, 'A5084496542': 7, 'A5040369194': 5, 'A5000868394': 10, 'A5072930694': 3, 'A5034827139': 20, 'A5003904836': 2, 'A5079952100': 2, 'A5000361569': 2, 'A5022827102': 3, 'A5017619946': 3, 'A5071093940': 65, 'A5004297349': 2, 'A5089504371': 5, 'A5077658835': 5, 'A5010924288': 36, 'A5054933332': 2, 'A5090329397': 7, 'A5039276197': 3, 'A5055389084': 3, 'A5074719388': 3, 'A5100403456': 5, 'A5101007363': 2, 'A5101887015': 3, 'A5048088355': 3, 'A5070251006': 22, 'A5083334761': 4, 'A5069161059': 6, 'A5049739048': 9, 'A5103051685': 6, 'A5007138994': 8, 'A5045828406': 2, 'A5031056767': 12, 'A5111946431': 3, 'A5061287527': 3, 'A5080306538': 3, 'A5089912733': 3, 'A5012965551': 5, 'A5029104172': 19, 'A5071796852': 16, 'A5046821941': 2, 'A5037507641': 5, 'A5021612023': 2, 'A5022967411': 6, 'A5027449701': 3, 'A5041253633': 19, 'A5005679010': 17, 'A5080592381': 25, 'A5052957309': 2, 'A5014581579': 2, 'A5015126986': 2, 'A5012787401': 34, 'A5025683130': 13, 'A5090038371': 3, 'A5026380797': 5, 'A5011148802': 3, 'A5037451955': 5, 'A5073754797': 7, 'A5079549964': 2, 'A5021529778': 2, 'A5082041281': 2, 'A5041856505': 4, 'A5013389509': 3, 'A5028701322': 3, 'A5033208803': 5, 'A5039242914': 2, 'A5064399748': 2, 'A5111385261': 2, 'A5017494050': 3, 'A5035267750': 4, 'A5015431548': 2, 'A5065682719': 6, 'A5082461253': 45, 'A5114376382': 2, 'A5026686084': 4, 'A5029347945': 3, 'A5043347770': 2, 'A5050037591': 3, 'A5084639707': 2, 'A5009636127': 2, 'A5105769246': 9, 'A5007875216': 7, 'A5022815450': 6, 'A5014640639': 8, 'A5024790234': 2, 'A5023495279': 2, 'A5071338636': 3, 'A5004596083': 9, 'A5078558272': 9, 'A5013522667': 10, 'A5069272720': 9, 'A5014266613': 5, 'A5069175616': 7, 'A5035084467': 3, 'A5102734585': 2, 'A5079574630': 2, 'A5039448366': 7, 'A5015781386': 6, 'A5023814050': 3, 'A5037761875': 2, 'A5088337479': 2, 'A5036583884': 20, 'A5083370977': 2, 'A5031592048': 5, 'A5023172399': 3, 'A5060102759': 3, 'A5050529378': 3, 'A5079596102': 8, 'A5038218592': 3, 'A5003789787': 3, 'A5091054007': 3, 'A5011488053': 2, 'A5008389902': 2, 'A5024417709': 2, 'A5044445260': 2, 'A5076310142': 4, 'A5064735018': 11, 'A5100334794': 2, 'A5090816854': 7, 'A5046186024': 2, 'A5071972809': 2, 'A5044400218': 2, 'A5070589846': 2, 'A5016126001': 2, 'A5009365383': 2, 'A5052607806': 2, 'A5074957399': 2, 'A5077846424': 2, 'A5046993765': 2, 'A5073033840': 3, 'A5068601516': 2, 'A5039903132': 2, 'A5020417588': 2, 'A5071702094': 2, 'A5065363386': 3, 'A5017534073': 6, 'A5085836910': 4, 'A5085571897': 2, 'A5080029745': 2, 'A5007524939': 2, 'A5010170517': 2, 'A5080403771': 2, 'A5033574079': 31, 'A5051891666': 4, 'A5028869415': 2, 'A5051454433': 3, 'A5012708140': 3, 'A5100341866': 3, 'A5062793472': 5, 'A5021950100': 3, 'A5035926144': 3, 'A5054543322': 5, 'A5018235085': 6, 'A5057002364': 6, 'A5004281470': 82, 'A5051534545': 2, 'A5057432101': 2, 'A5022836666': 2, 'A5027259197': 2, 'A5001933830': 2, 'A5001214979': 2, 'A5081236916': 20, 'A5021253678': 3, 'A5064709762': 2, 'A5049267117': 2, 'A5038209308': 2, 'A5028614951': 2, 'A5009027881': 4, 'A5055212893': 2, 'A5068435349': 5, 'A5111458376': 2, 'A5089723214': 2, 'A5050115090': 2, 'A5049451549': 2, 'A5050938216': 4, 'A5040323504': 6, 'A5015978876': 2, 'A5087366916': 4, 'A5066864733': 2, 'A5007755189': 7, 'A5025211180': 45, 'A5072925582': 28, 'A5030100981': 5, 'A5021777354': 4, 'A5020081727': 8, 'A5025113008': 12, 'A5053477112': 3, 'A5011570618': 2, 'A5070488104': 2, 'A5055188702': 2, 'A5006966951': 2, 'A5065665426': 4, 'A5058732791': 11, 'A5001375811': 3, 'A5085139454': 10, 'A5055660368': 4, 'A5052776631': 8, 'A5087893605': 8, 'A5026931667': 10, 'A5011449176': 7, 'A5022479813': 12, 'A5031545717': 2, 'A5032082399': 2, 'A5077795637': 6, 'A5087088138': 127, 'A5062910836': 19, 'A5071615041': 4, 'A5002575847': 11, 'A5022811687': 8, 'A5001277622': 2, 'A5025881129': 2, 'A5037438806': 2, 'A5069732595': 2, 'A5045074870': 2, 'A5058102069': 6, 'A5061968837': 2, 'A5066187890': 25, 'A5090572574': 4, 'A5080503570': 3, 'A5038897083': 16, 'A5068804090': 3, 'A5049634383': 119, 'A5110724093': 4, 'A5015077030': 2, 'A5063345981': 2, 'A5113226689': 3, 'A5042359253': 8, 'A5047802067': 5, 'A5035808622': 7, 'A5090252428': 6, 'A5066288697': 4, 'A5100659941': 2, 'A5015316443': 2, 'A5051842323': 2, 'A5084649058': 11, 'A5009041563': 7, 'A5083742002': 9, 'A5033716467': 15, 'A5038706435': 4, 'A5106225936': 2, 'A5060121586': 4, 'A5011492998': 2, 'A5001227032': 8, 'A5060362045': 3, 'A5113606083': 2, 'A5042792975': 2, 'A5101466578': 2, 'A5100608515': 4, 'A5101437011': 3, 'A5001174680': 13, 'A5078136609': 6, 'A5035799220': 7, 'A5052381671': 6, 'A5037313918': 2, 'A5038833789': 8, 'A5023752093': 2, 'A5027422071': 2, 'A5064936869': 2, 'A5059138388': 4, 'A5033664849': 4, 'A5029561487': 4, 'A5026028381': 2, 'A5078974283': 6, 'A5091783761': 2, 'A5051181345': 5, 'A5036010787': 3, 'A5069671758': 8, 'A5038687622': 9, 'A5069476228': 16, 'A5088832285': 2, 'A5088524031': 3, 'A5022003705': 2, 'A5075372235': 8, 'A5032648713': 2, 'A5010526989': 2, 'A5069479167': 2, 'A5051442967': 2, 'A5054616540': 6, 'A5065544460': 28, 'A5047313495': 8, 'A5027036879': 67, 'A5048789742': 41, 'A5081429241': 44, 'A5112446832': 26, 'A5055710645': 186, 'A5091272738': 175, 'A5038618660': 2, 'A5018503243': 2, 'A5037982517': 2, 'A5061884455': 4, 'A5043155699': 3, 'A5080592530': 4, 'A5068021191': 4, 'A5070795618': 3, 'A5051097264': 3, 'A5086655976': 2, 'A5014931127': 2, 'A5005228286': 3, 'A5090271895': 3, 'A5038395206': 2, 'A5051193196': 10, 'A5028090225': 2, 'A5087660055': 2, 'A5102923390': 3, 'A5049696662': 2, 'A5011517415': 2, 'A5000111344': 3, 'A5012523786': 2, 'A5030578187': 3, 'A5100757577': 3, 'A5067319603': 8, 'A5049055278': 6, 'A5031954654': 2, 'A5031039880': 9, 'A5101446790': 23, 'A5081622405': 3, 'A5101492251': 3, 'A5060910634': 2, 'A5088606320': 5, 'A5001211242': 101, 'A5089493027': 13, 'A5058033902': 2, 'A5020853176': 2, 'A5076755077': 9, 'A5079813490': 37, 'A5015711710': 50, 'A5023365550': 18, 'A5036266399': 2, 'A5112456378': 3, 'A5000626413': 5, 'A5024281650': 6, 'A5041539208': 4, 'A5067990394': 26, 'A5049220804': 3, 'A5048165961': 25, 'A5032530685': 2, 'A5050910881': 2, 'A5017943074': 4, 'A5075777371': 5, 'A5008800832': 2, 'A5058770372': 2, 'A5030641600': 12, 'A5047699861': 10, 'A5102004622': 2, 'A5009547049': 5, 'A5067335234': 2, 'A5086530950': 6, 'A5054422555': 2, 'A5076193392': 38, 'A5042590162': 13, 'A5069805388': 5, 'A5100372670': 2, 'A5070370660': 5, 'A5007282319': 34, 'A5036868218': 12, 'A5091686632': 3, 'A5011000771': 6, 'A5017976036': 2, 'A5079517520': 49, 'A5080791787': 3, 'A5006634488': 5, 'A5086827245': 36, 'A5024312485': 4, 'A5036032919': 16, 'A5086990639': 2, 'A5037925657': 2, 'A5011857931': 4, 'A5045236780': 4, 'A5069354285': 4, 'A5069875423': 3, 'A5058941074': 8, 'A5037969281': 10, 'A5059953820': 9, 'A5078375901': 2, 'A5038390320': 3, 'A5048997213': 3, 'A5034550396': 3, 'A5077965506': 2, 'A5045709001': 2, 'A5067697208': 2, 'A5049389261': 6, 'A5091210858': 7, 'A5079636968': 6, 'A5022597090': 4, 'A5073774344': 25, 'A5072703507': 24, 'A5014435955': 7, 'A5005901640': 5, 'A5029821479': 42, 'A5051438718': 5, 'A5044944954': 186, 'A5010646067': 65, 'A5058170327': 2, 'A5101639120': 2, 'A5044158201': 2, 'A5015041288': 7, 'A5037847860': 2, 'A5049710494': 2, 'A5079537449': 3, 'A5040075192': 3, 'A5089999052': 2, 'A5031008982': 8, 'A5100706822': 10, 'A5043084615': 2, 'A5042417097': 2, 'A5101774276': 5, 'A5051245888': 7, 'A5039679826': 2, 'A5079039372': 40, 'A5088517824': 14, 'A5026207393': 2, 'A5059012785': 5, 'A5060067799': 2, 'A5024975916': 2, 'A5055686105': 2, 'A5042088309': 2, 'A5010979979': 3, 'A5109855262': 2, 'A5075451961': 4, 'A5011474146': 4, 'A5047167349': 4, 'A5075283583': 89, 'A5037953197': 3, 'A5061236458': 3, 'A5007441251': 3, 'A5052340054': 3, 'A5077296929': 2, 'A5039620205': 2, 'A5103126168': 2, 'A5108655124': 6, 'A5026721037': 14, 'A5085081313': 3, 'A5033543507': 3, 'A5027376496': 4, 'A5039486115': 6, 'A5049737475': 3, 'A5046253607': 39, 'A5011973581': 3, 'A5052536455': 51, 'A5035909713': 2, 'A5085226797': 3, 'A5077652159': 2, 'A5100382274': 2, 'A5065476982': 2, 'A5015506695': 2, 'A5083670541': 3, 'A5109040447': 2, 'A5076699017': 2, 'A5075057755': 2, 'A5060032812': 2, 'A5029014646': 2, 'A5065215114': 2, 'A5100427314': 3, 'A5088891017': 9, 'A5082767919': 2, 'A5029152198': 3, 'A5004470483': 3, 'A5077903780': 3, 'A5052493481': 2, 'A5083512259': 2, 'A5101437231': 2, 'A5084303908': 8, 'A5010666189': 2, 'A5051921467': 2, 'A5043896739': 2, 'A5064779389': 2, 'A5103118684': 2, 'A5013465081': 5, 'A5038737450': 2, 'A5005913808': 2, 'A5052583897': 5, 'A5005384315': 2, 'A5079648413': 4, 'A5032694172': 18, 'A5075116755': 3, 'A5006172855': 24, 'A5032125874': 2, 'A5083437430': 8, 'A5022452481': 4, 'A5059487953': 2, 'A5047517174': 22, 'A5033643258': 5, 'A5016845349': 3, 'A5082698243': 30, 'A5079845832': 10, 'A5026899448': 7, 'A5017155131': 2, 'A5064234628': 3, 'A5082923475': 2, 'A5008291667': 3, 'A5112594610': 3, 'A5025355765': 4, 'A5078441538': 2, 'A5007072443': 3, 'A5066089123': 8, 'A5038616158': 4, 'A5088495469': 4, 'A5000665508': 4, 'A5021273972': 14, 'A5087214548': 4, 'A5086285176': 5, 'A5081866454': 2, 'A5047982506': 3, 'A5058033787': 6, 'A5100397797': 3, 'A5067238312': 2, 'A5048880362': 8, 'A5073544378': 73, 'A5029121256': 11, 'A5049079205': 6, 'A5081008532': 112, 'A5065059558': 2, 'A5019996096': 5, 'A5029483412': 17, 'A5068542997': 7, 'A5022747234': 18, 'A5111831104': 4, 'A5090777482': 2, 'A5020283825': 2, 'A5087257186': 3, 'A5036046552': 2, 'A5083277795': 8, 'A5080265907': 59, 'A5007564274': 2, 'A5027019842': 5, 'A5017040952': 8, 'A5059223686': 20, 'A5075228752': 5, 'A5084930117': 10, 'A5070850590': 13, 'A5079861829': 6, 'A5053640148': 9, 'A5047143966': 2, 'A5005516194': 4, 'A5023735760': 2, 'A5089971631': 3, 'A5059945353': 6, 'A5039292004': 6, 'A5025043851': 2, 'A5047121097': 3, 'A5022408597': 2, 'A5100375513': 3, 'A5061528283': 2, 'A5101425369': 3, 'A5066621495': 2, 'A5064158757': 41, 'A5113652671': 2, 'A5040448723': 11, 'A5004868515': 11, 'A5103730703': 3, 'A5087127405': 5, 'A5007682772': 2, 'A5043657584': 35, 'A5021656842': 3, 'A5039784085': 8, 'A5055236250': 2, 'A5100359860': 2, 'A5051093782': 5, 'A5029464163': 13, 'A5036515634': 3, 'A5028851796': 3, 'A5050460997': 3, 'A5085938112': 13, 'A5014358775': 2, 'A5007172408': 2, 'A5029526990': 2, 'A5065996762': 2, 'A5038224056': 2, 'A5087164516': 3, 'A5015843011': 3, 'A5034490805': 14, 'A5078915771': 2, 'A5049777833': 3, 'A5055182882': 4, 'A5061606325': 2, 'A5034057987': 2, 'A5102989133': 2, 'A5020025569': 2, 'A5032184525': 4, 'A5036639779': 3, 'A5050821883': 2, 'A5050228339': 4, 'A5068151130': 2, 'A5000258536': 2, 'A5081396636': 2, 'A5066287110': 3, 'A5012833011': 2, 'A5034351449': 3, 'A5072659160': 2, 'A5033010304': 5, 'A5106500038': 4, 'A5019675617': 3, 'A5040807502': 2, 'A5072812323': 2, 'A5004566032': 2, 'A5066493067': 5, 'A5075233397': 2, 'A5049260372': 2, 'A5044409132': 21, 'A5001798166': 2, 'A5084279765': 16, 'A5056980887': 2, 'A5022684050': 2, 'A5018639039': 3, 'A5033547967': 2, 'A5004745888': 3, 'A5014605473': 2, 'A5075632700': 2, 'A5017147857': 4, 'A5101894055': 2, 'A5074406842': 11, 'A5037087050': 10, 'A5018565911': 2, 'A5084955075': 7, 'A5069561569': 2, 'A5088652739': 2, 'A5058230910': 2, 'A5078693030': 11, 'A5025155925': 2, 'A5085287152': 2, 'A5087104756': 2, 'A5090701958': 2, 'A5045077843': 2, 'A5068508539': 61, 'A5100372601': 2, 'A5070147321': 3, 'A5083811312': 2, 'A5065144500': 2, 'A5057013023': 2, 'A5022105203': 6, 'A5007975088': 2, 'A5061483468': 2, 'A5066732295': 3, 'A5072619282': 3, 'A5041330046': 3, 'A5084313902': 4, 'A5024087833': 167, 'A5011820318': 32, 'A5039915143': 3, 'A5003318200': 3, 'A5086367709': 4, 'A5042439493': 4, 'A5074175050': 13, 'A5038488889': 6, 'A5103949769': 12, 'A5077225105': 5, 'A5002372704': 5, 'A5091699309': 4, 'A5058174103': 3, 'A5112459695': 2, 'A5035995203': 18, 'A5070714231': 11, 'A5011348808': 6, 'A5009705401': 2, 'A5060893068': 2, 'A5016731663': 3, 'A5081252843': 3, 'A5029231474': 2, 'A5111725075': 4, 'A5029004965': 2, 'A5109328214': 2, 'A5026085036': 3, 'A5023874785': 9, 'A5046868253': 11, 'A5013225896': 2, 'A5101957840': 4, 'A5087340682': 2, 'A5005779176': 8, 'A5005344604': 6, 'A5059105976': 2, 'A5100758099': 4, 'A5001666093': 4, 'A5003451810': 2, 'A5051608757': 2, 'A5039096905': 3, 'A5040821463': 47, 'A5060223489': 7, 'A5112615531': 4, 'A5060228016': 5, 'A5002034958': 44, 'A5046746723': 4, 'A5013097792': 2, 'A5080959605': 3, 'A5002809454': 35, 'A5033765081': 3, 'A5109045707': 2, 'A5084711329': 8, 'A5015128745': 10, 'A5070767948': 11, 'A5015792268': 2, 'A5102992157': 5, 'A5058230090': 2, 'A5112315093': 3, 'A5012804414': 5, 'A5081841644': 2, 'A5028984462': 2, 'A5101795658': 2, 'A5008403995': 2, 'A5065181492': 2, 'A5038292473': 4, 'A5055805371': 13, 'A5070905937': 4, 'A5012470628': 2, 'A5053850863': 5, 'A5037054163': 3, 'A5085956868': 3, 'A5003508601': 3, 'A5003138661': 3, 'A5087267903': 2, 'A5048987475': 4, 'A5085864488': 3, 'A5082603621': 7, 'A5105307360': 4, 'A5107838508': 3, 'A5033307878': 3, 'A5032996798': 14, 'A5074412313': 2, 'A5031918685': 2, 'A5071151240': 4, 'A5109994521': 2, 'A5024924150': 2, 'A5100709327': 2, 'A5044978994': 2, 'A5047699502': 3, 'A5011012964': 34, 'A5042601761': 10, 'A5078987306': 16, 'A5050995537': 2, 'A5019564851': 4, 'A5057788395': 3, 'A5041320677': 4, 'A5089575055': 7, 'A5070212885': 4, 'A5010862346': 2, 'A5049073875': 14, 'A5024475685': 3, 'A5084989076': 5, 'A5080591144': 3, 'A5058819105': 5, 'A5068978543': 4, 'A5063362696': 2, 'A5101897622': 5, 'A5064053881': 3, 'A5103760053': 8, 'A5061881897': 3, 'A5018894035': 2, 'A5083456357': 8, 'A5006073789': 6, 'A5049119318': 16, 'A5088908386': 2, 'A5011684148': 2, 'A5022994077': 11, 'A5016054994': 4, 'A5055592482': 2, 'A5034257647': 4, 'A5052171928': 6, 'A5070966744': 4, 'A5112876685': 2, 'A5008542297': 3, 'A5028862879': 14, 'A5036140974': 6, 'A5015402613': 2, 'A5019365416': 2, 'A5057557219': 2, 'A5077511376': 2, 'A5082878426': 2, 'A5015518638': 9, 'A5025255782': 10, 'A5070524694': 8, 'A5051096025': 7, 'A5066948589': 3, 'A5108524530': 2, 'A5042134369': 2, 'A5076630423': 2, 'A5059551399': 6, 'A5109059955': 2, 'A5034266052': 81, 'A5070281103': 22, 'A5062793544': 7, 'A5018797763': 5, 'A5051794103': 43, 'A5017601806': 2, 'A5078931762': 2, 'A5008449211': 2, 'A5070327607': 2, 'A5075825791': 5, 'A5111222692': 2, 'A5029323348': 3, 'A5012850897': 2, 'A5033888134': 2, 'A5039129530': 2, 'A5089020488': 2, 'A5015467662': 2, 'A5072435082': 2, 'A5041898843': 2, 'A5082353608': 3, 'A5067103124': 2, 'A5027144528': 2, 'A5102911823': 2, 'A5027542397': 2, 'A5081969635': 2, 'A5024629651': 2, 'A5021789878': 2, 'A5072821876': 2, 'A5047780964': 2, 'A5053832932': 3, 'A5101587041': 7, 'A5010241029': 2, 'A5056889621': 2, 'A5108266978': 2, 'A5011118385': 2, 'A5005043202': 3, 'A5037853792': 2, 'A5021812568': 11, 'A5049240073': 9, 'A5022698727': 7, 'A5023783426': 2, 'A5034032356': 3, 'A5014389194': 5, 'A5082462234': 6, 'A5058954591': 28, 'A5046118655': 4, 'A5089413311': 47, 'A5029015119': 2, 'A5017713240': 2, 'A5060256587': 3, 'A5015816708': 4, 'A5108061846': 2, 'A5059048502': 3, 'A5067816571': 2, 'A5047121345': 3, 'A5001893057': 3, 'A5062397992': 3, 'A5082328104': 3, 'A5111567842': 34, 'A5038858136': 7, 'A5038517767': 2, 'A5062322499': 3, 'A5057851690': 5, 'A5024378198': 2, 'A5056785441': 2, 'A5100425452': 2, 'A5113813635': 2, 'A5066376294': 2, 'A5003714034': 4, 'A5100422227': 2, 'A5034664324': 3, 'A5012939002': 3, 'A5001994692': 14, 'A5031576431': 4, 'A5073019130': 4, 'A5101922299': 2, 'A5091434670': 2, 'A5046937064': 2, 'A5052552298': 4, 'A5077289100': 3, 'A5050624736': 3, 'A5074716987': 2, 'A5033639139': 15, 'A5046126345': 46, 'A5005009721': 2, 'A5042480969': 2, 'A5063766667': 4, 'A5101574088': 2, 'A5050276533': 8, 'A5086516572': 2, 'A5065744065': 2, 'A5033519947': 2, 'A5017391940': 2, 'A5050883332': 2, 'A5007794565': 2, 'A5022825653': 2, 'A5086052373': 5, 'A5101540918': 3, 'A5050287516': 3, 'A5038081564': 3, 'A5021006031': 3, 'A5020871436': 3, 'A5052565959': 3, 'A5055408235': 2, 'A5086524212': 13, 'A5101836529': 9, 'A5075056899': 12, 'A5018318827': 5, 'A5003703346': 2, 'A5023339675': 3, 'A5034362571': 6, 'A5078446912': 2, 'A5001313457': 2, 'A5035399743': 35, 'A5018964666': 3, 'A5047489389': 3, 'A5063737268': 3, 'A5052391231': 9, 'A5068178240': 11, 'A5046006076': 10, 'A5058408154': 33, 'A5009980324': 3, 'A5012497196': 4, 'A5009408707': 2, 'A5023364449': 19, 'A5101476222': 2, 'A5059969678': 6, 'A5042805801': 4, 'A5066720336': 2, 'A5003870894': 2, 'A5022202456': 3, 'A5101496053': 2, 'A5019297976': 9, 'A5004542284': 4, 'A5024437840': 3, 'A5048800872': 2, 'A5072285921': 8, 'A5045528962': 135, 'A5045935650': 3, 'A5057083232': 3, 'A5047404909': 4, 'A5083511122': 2, 'A5040298918': 2, 'A5100659937': 3, 'A5029730907': 3, 'A5057693522': 3, 'A5054094267': 5, 'A5074277807': 4, 'A5100437453': 2, 'A5109565051': 3, 'A5031278789': 10, 'A5081744093': 16, 'A5070930882': 4, 'A5065695802': 2, 'A5061878694': 2, 'A5019659933': 3, 'A5027319334': 3, 'A5018591093': 3, 'A5037438800': 3, 'A5058664952': 5, 'A5078126526': 8, 'A5103950374': 2, 'A5035970655': 3, 'A5111558966': 3, 'A5102806679': 4, 'A5040904063': 2, 'A5101656310': 3, 'A5032571629': 2, 'A5073726152': 6, 'A5001961716': 28, 'A5050477887': 2, 'A5039063597': 2, 'A5084679416': 2, 'A5058382953': 2, 'A5063976924': 2, 'A5083395792': 2, 'A5052391202': 2, 'A5035224908': 2, 'A5037214957': 2, 'A5046422522': 3, 'A5068377890': 2, 'A5004047792': 2, 'A5070619747': 2, 'A5076548181': 2, 'A5085101123': 2, 'A5102786638': 2, 'A5009235115': 2, 'A5030855474': 2, 'A5020061373': 2, 'A5017407756': 2, 'A5061462552': 2, 'A5027414437': 2, 'A5102965438': 2, 'A5089457793': 2, 'A5112609848': 2, 'A5020076556': 2, 'A5052244076': 2, 'A5101554423': 2, 'A5058429350': 2, 'A5113775732': 3, 'A5043567153': 2, 'A5053822814': 2, 'A5032747373': 2, 'A5017106847': 2, 'A5009887999': 17, 'A5049544264': 6, 'A5082707744': 5, 'A5022665178': 2, 'A5040564747': 2, 'A5057786199': 4, 'A5021314811': 10, 'A5073303382': 2, 'A5100425448': 2, 'A5102727589': 2, 'A5047970122': 3, 'A5085875759': 2, 'A5069912937': 2, 'A5048334108': 2, 'A5087787038': 3, 'A5015497452': 2, 'A5075423193': 2, 'A5103234894': 9, 'A5075564798': 6, 'A5077304103': 5, 'A5038581447': 55, 'A5079270249': 7, 'A5083078108': 2, 'A5087025582': 2, 'A5002330321': 46, 'A5007746083': 74, 'A5082742221': 4, 'A5002798141': 2, 'A5064274071': 43, 'A5023537206': 2, 'A5061020925': 6, 'A5053847761': 2, 'A5110578651': 4, 'A5062636496': 4, 'A5114406750': 8, 'A5040225125': 4, 'A5090423513': 5, 'A5074640940': 3, 'A5032862939': 2, 'A5010422300': 2, 'A5026432396': 3, 'A5039428882': 3, 'A5018777562': 3, 'A5015588148': 2, 'A5106073123': 3, 'A5040287174': 7, 'A5023764588': 8, 'A5049664275': 4, 'A5031845310': 4, 'A5064485567': 7, 'A5041171550': 2, 'A5028180504': 2, 'A5111539706': 4, 'A5030956489': 4, 'A5084294553': 10, 'A5081540617': 23, 'A5103128511': 2, 'A5042485179': 7, 'A5050164598': 4, 'A5062811460': 4, 'A5089520284': 8, 'A5070856464': 4, 'A5008389022': 11, 'A5062093738': 36, 'A5030079806': 8, 'A5102926876': 4, 'A5006559598': 14, 'A5018531683': 2, 'A5070446713': 2, 'A5103470033': 5, 'A5031000779': 2, 'A5038637784': 3, 'A5002785992': 2, 'A5015882940': 7, 'A5012605192': 2, 'A5101581868': 2, 'A5087570337': 2, 'A5013873819': 2, 'A5024303852': 4, 'A5054395332': 2, 'A5074093929': 7, 'A5017534262': 109, 'A5005005137': 3, 'A5027074094': 3, 'A5034406723': 87, 'A5022540761': 2, 'A5023905564': 2, 'A5040887030': 2, 'A5068651250': 5, 'A5087884109': 3, 'A5082330712': 6, 'A5031982402': 3, 'A5100450462': 14, 'A5005554337': 3, 'A5100383731': 2, 'A5074995102': 6, 'A5101489444': 4, 'A5023892723': 14, 'A5078886343': 4, 'A5071376083': 2, 'A5006822609': 2, 'A5091553919': 2, 'A5100371700': 3, 'A5029882049': 45, 'A5088658365': 3, 'A5063837575': 17, 'A5056709899': 3, 'A5058284930': 12, 'A5049349154': 4, 'A5100625892': 3, 'A5001294898': 4, 'A5050672404': 4, 'A5043117896': 7, 'A5055171653': 2, 'A5007164726': 2, 'A5066612528': 4, 'A5001127585': 6, 'A5028871710': 2, 'A5020462137': 2, 'A5041732716': 5, 'A5073459923': 6, 'A5064437896': 10, 'A5015770363': 22, 'A5091686932': 9, 'A5083444453': 5, 'A5055631608': 3, 'A5084693234': 2, 'A5089066562': 2, 'A5027493354': 2, 'A5026549557': 2, 'A5079365209': 2, 'A5113788789': 2, 'A5011828078': 2, 'A5068388812': 2, 'A5021838614': 3, 'A5082323876': 2, 'A5033291050': 10, 'A5087136352': 4, 'A5090426330': 5, 'A5009111822': 4, 'A5040052580': 10, 'A5077886235': 3, 'A5049216983': 2, 'A5026648049': 4, 'A5085696258': 3, 'A5039540205': 76, 'A5055348060': 4, 'A5018777906': 2, 'A5047036221': 11, 'A5034372799': 5, 'A5022207601': 5, 'A5015451961': 6, 'A5091017313': 3, 'A5101961139': 3, 'A5030990689': 2, 'A5000209112': 4, 'A5022719192': 13, 'A5075063030': 3, 'A5079414240': 2, 'A5053397554': 2, 'A5040536317': 2, 'A5073770532': 2, 'A5058920515': 2, 'A5102898014': 2, 'A5032559077': 2, 'A5003350728': 2, 'A5051257652': 45, 'A5089940510': 10, 'A5042496979': 2, 'A5013836248': 2, 'A5067778879': 7, 'A5079458476': 10, 'A5016796406': 2, 'A5011919726': 12, 'A5085804244': 2, 'A5050416674': 4, 'A5077179813': 32, 'A5069919112': 18, 'A5083612947': 4, 'A5035052603': 3, 'A5039019367': 3, 'A5076415009': 4, 'A5016691378': 10, 'A5030500389': 3, 'A5002093468': 3, 'A5042858264': 3, 'A5032167625': 5, 'A5058545014': 5, 'A5016645705': 3, 'A5100782346': 2, 'A5043948574': 4, 'A5041513167': 3, 'A5077590992': 4, 'A5049634702': 6, 'A5033771984': 2, 'A5082591225': 3, 'A5022353920': 2, 'A5039233645': 2, 'A5059250055': 3, 'A5006981740': 6, 'A5041492681': 8, 'A5019394008': 6, 'A5056057774': 6, 'A5029283880': 6, 'A5060129312': 6, 'A5024795472': 61, 'A5066048702': 9, 'A5086169451': 8, 'A5075345326': 6, 'A5042159546': 14, 'A5068182184': 11, 'A5068008545': 35, 'A5039411900': 7, 'A5084955495': 80, 'A5061810530': 20, 'A5067688305': 14, 'A5022754313': 20, 'A5077537901': 6, 'A5062726415': 3, 'A5049055745': 3, 'A5012168451': 14, 'A5058712244': 7, 'A5073481219': 5, 'A5078276438': 6, 'A5021914264': 9, 'A5058228238': 8, 'A5019035134': 2, 'A5043269024': 2, 'A5060044716': 12, 'A5082771661': 5, 'A5082975553': 3, 'A5102996261': 2, 'A5064632341': 3, 'A5080330150': 3, 'A5079100556': 2, 'A5033090175': 43, 'A5039448352': 2, 'A5038492810': 7, 'A5047857923': 4, 'A5064524955': 2, 'A5075173651': 2, 'A5012427130': 2, 'A5072656277': 2, 'A5058840149': 4, 'A5040275877': 2, 'A5061768737': 2, 'A5066833626': 2, 'A5010623957': 5, 'A5011005696': 2, 'A5002329799': 2, 'A5042104049': 3, 'A5007511101': 5, 'A5091658786': 8, 'A5064547400': 2, 'A5003816851': 2, 'A5047818687': 3, 'A5005903867': 2, 'A5004781553': 4, 'A5090439638': 7, 'A5014899748': 6, 'A5004701096': 2, 'A5058295415': 2, 'A5004656270': 2, 'A5091589622': 2, 'A5074435310': 5, 'A5018211379': 2, 'A5068965681': 2, 'A5090760686': 2, 'A5000327528': 4, 'A5038669899': 3, 'A5060898370': 4, 'A5046270537': 8, 'A5080482016': 5, 'A5079756254': 5, 'A5108312123': 2, 'A5101505324': 3, 'A5017000481': 2, 'A5003194873': 3, 'A5025170313': 9, 'A5101610715': 4, 'A5021261847': 24, 'A5035604081': 3, 'A5055605251': 2, 'A5091684842': 3, 'A5067080233': 2, 'A5086092571': 6, 'A5069054780': 4, 'A5062063850': 2, 'A5011368561': 4, 'A5042912805': 3, 'A5024108120': 3, 'A5049722619': 4, 'A5038628767': 4, 'A5067168180': 2, 'A5101500495': 9, 'A5038043083': 17, 'A5061164871': 12, 'A5079290690': 2, 'A5030262115': 2, 'A5066588555': 3, 'A5067858887': 3, 'A5008337640': 2, 'A5027360874': 2, 'A5072363418': 3, 'A5018502975': 8, 'A5054012719': 3, 'A5054630728': 3, 'A5082639817': 3, 'A5020036844': 4, 'A5092181300': 2, 'A5019598751': 5, 'A5028088513': 3, 'A5007825736': 2, 'A5012762776': 2, 'A5047862613': 2, 'A5007049707': 7, 'A5022103461': 2, 'A5088141761': 8, 'A5089054864': 4, 'A5001664017': 2, 'A5070101736': 2, 'A5001275905': 4, 'A5056809403': 6, 'A5061289355': 2, 'A5085640193': 2, 'A5006213877': 2, 'A5069116524': 2, 'A5062678392': 2, 'A5101621295': 6, 'A5064544103': 2, 'A5041808447': 4, 'A5069178881': 7, 'A5046172297': 2, 'A5066236471': 5, 'A5102954880': 3, 'A5071496598': 5, 'A5051354114': 2, 'A5025030042': 3, 'A5072590337': 2, 'A5076016483': 2, 'A5020591202': 2, 'A5003058859': 2, 'A5063735924': 2, 'A5078228552': 2, 'A5103753199': 3, 'A5014265399': 3, 'A5034682188': 4, 'A5005469555': 6, 'A5072894914': 3, 'A5032620634': 8, 'A5036731944': 2, 'A5029418921': 8, 'A5018038711': 2, 'A5000474356': 31, 'A5073516753': 5, 'A5082018942': 4, 'A5021526625': 2, 'A5074134679': 2, 'A5086952347': 3, 'A5081233201': 2, 'A5077287995': 18, 'A5055537550': 2, 'A5060065053': 2, 'A5065695849': 2, 'A5051269080': 2, 'A5103010962': 2, 'A5081071171': 2, 'A5018665643': 2, 'A5015154801': 2, 'A5113807310': 2, 'A5054164624': 2, 'A5043692273': 2, 'A5108531903': 2, 'A5057979014': 2, 'A5041680508': 4, 'A5065284861': 6, 'A5058158750': 2, 'A5027706684': 11, 'A5010042304': 2, 'A5025175846': 12, 'A5088459011': 2, 'A5066361095': 5, 'A5083400955': 2, 'A5065337650': 2, 'A5064278484': 6, 'A5069001141': 26, 'A5057845767': 2, 'A5008551833': 2, 'A5084572222': 2, 'A5057438082': 2, 'A5044504510': 3, 'A5078682514': 4, 'A5058550942': 7, 'A5009692823': 3, 'A5085793134': 2, 'A5001554542': 3, 'A5044033689': 2, 'A5030674985': 2, 'A5026072127': 2, 'A5026746295': 3, 'A5056630304': 4, 'A5089533997': 4, 'A5040200687': 2, 'A5102956999': 2, 'A5047573998': 2, 'A5037823865': 2, 'A5040651832': 4, 'A5009914424': 4, 'A5089372170': 2, 'A5020965594': 4, 'A5071634649': 2, 'A5103282352': 2, 'A5082964830': 2, 'A5019999334': 2, 'A5046224079': 2, 'A5003296734': 2, 'A5082450455': 3, 'A5088039120': 3, 'A5036332666': 2, 'A5057816221': 2, 'A5091044650': 2, 'A5029117574': 2, 'A5069173973': 2, 'A5033939304': 2, 'A5058437817': 2, 'A5053740228': 2, 'A5057803453': 13, 'A5101461004': 2, 'A5060225743': 6, 'A5084116084': 95, 'A5086187658': 8, 'A5058910481': 2, 'A5113498968': 3, 'A5019426968': 67, 'A5039114436': 2, 'A5015254262': 6, 'A5071993179': 2, 'A5101977008': 3, 'A5100353208': 3, 'A5113719793': 6, 'A5087109003': 3, 'A5053369574': 2, 'A5064910304': 4, 'A5060963011': 3, 'A5060219657': 3, 'A5048663930': 3, 'A5050995871': 2, 'A5110189508': 6, 'A5111955497': 4, 'A5063908996': 2, 'A5103270691': 2, 'A5049306051': 2, 'A5100353377': 5, 'A5024723282': 3, 'A5064284582': 6, 'A5056518136': 3, 'A5084658659': 2, 'A5024845063': 2, 'A5070962435': 2, 'A5044588650': 3, 'A5005898634': 7, 'A5100550303': 8, 'A5089539629': 11, 'A5040787249': 7, 'A5044453295': 2, 'A5051461147': 2, 'A5047847314': 7, 'A5016248092': 4, 'A5068310504': 6, 'A5002621773': 8, 'A5109972562': 3, 'A5047951879': 2, 'A5069870254': 3, 'A5101201263': 2, 'A5030047353': 22, 'A5068986034': 2, 'A5069041669': 2, 'A5084502036': 9, 'A5005129420': 9, 'A5063557800': 26, 'A5101965763': 18, 'A5026322200': 4, 'A5016565332': 4, 'A5114182284': 2, 'A5088826068': 2, 'A5011358173': 3, 'A5067400912': 3, 'A5031623358': 3, 'A5018708584': 5, 'A5089202539': 6, 'A5062462809': 3, 'A5085213531': 3, 'A5009102659': 2, 'A5082878554': 2, 'A5006700143': 9, 'A5017533451': 2, 'A5000852169': 9, 'A5083546489': 2, 'A5101509618': 2, 'A5049585534': 5, 'A5020152067': 5, 'A5057098134': 2, 'A5100374360': 3, 'A5034909490': 2, 'A5026675587': 2, 'A5071778778': 4, 'A5020400986': 4, 'A5022381014': 2, 'A5058647826': 2, 'A5034938018': 2, 'A5101439736': 2, 'A5060196069': 4, 'A5100374474': 2, 'A5102737328': 4, 'A5017769599': 2, 'A5001097796': 5, 'A5015797850': 14, 'A5020034316': 9, 'A5082294805': 14, 'A5075198678': 3, 'A5018504015': 4, 'A5033829606': 5, 'A5056142478': 10, 'A5007056150': 4, 'A5040821714': 12, 'A5089522357': 3, 'A5101815945': 3, 'A5040824554': 2, 'A5003473641': 2, 'A5066433489': 2, 'A5085011940': 12, 'A5019933387': 5, 'A5004880532': 2, 'A5058254793': 2, 'A5079213654': 13, 'A5042644425': 3, 'A5107151226': 3, 'A5100329692': 2, 'A5101718220': 2, 'A5040266310': 2, 'A5044791875': 7, 'A5044691513': 2, 'A5101407672': 2, 'A5063223563': 18, 'A5010300673': 2, 'A5070576229': 2, 'A5048198434': 5, 'A5113531029': 5, 'A5000536361': 4, 'A5042162324': 2, 'A5074477294': 2, 'A5078041729': 3, 'A5062878408': 4, 'A5004474203': 3, 'A5100416234': 3, 'A5110564361': 2, 'A5113970167': 2, 'A5062509192': 2, 'A5018492648': 2, 'A5049578624': 2, 'A5061151005': 2, 'A5089592034': 4, 'A5070829652': 3, 'A5004634811': 2, 'A5079108949': 2, 'A5074117167': 3, 'A5113488541': 2, 'A5008530453': 2, 'A5088698784': 4, 'A5059543459': 2, 'A5077142904': 10, 'A5019655566': 6, 'A5084044470': 4, 'A5085054435': 15, 'A5051059475': 2, 'A5065590661': 3, 'A5087929857': 2, 'A5015441797': 2, 'A5052593379': 2, 'A5026429870': 2, 'A5101456958': 3, 'A5101604363': 2, 'A5100445442': 2, 'A5069137598': 7, 'A5008036750': 5, 'A5060391140': 4, 'A5091314544': 4, 'A5036726400': 2, 'A5031112115': 2, 'A5078824132': 2, 'A5008661612': 2, 'A5030261391': 2, 'A5079289889': 2, 'A5025165574': 16, 'A5020153026': 2, 'A5008267833': 3, 'A5013597687': 4, 'A5059273574': 6, 'A5004439426': 2, 'A5109311167': 2, 'A5037655437': 3, 'A5109861718': 5, 'A5048347163': 2, 'A5040025772': 4, 'A5063325475': 4, 'A5077079991': 6, 'A5031284201': 3, 'A5085552588': 3, 'A5022873790': 2, 'A5101196513': 2, 'A5111370337': 2, 'A5081511841': 3, 'A5078357516': 4, 'A5031555117': 2, 'A5083443354': 2, 'A5102310484': 2, 'A5102844884': 2, 'A5082214145': 2, 'A5040385638': 2, 'A5038687147': 2, 'A5053129557': 2, 'A5007903277': 3, 'A5061689237': 2, 'A5015566794': 3, 'A5051893584': 3, 'A5100353550': 2, 'A5003307854': 2, 'A5066047489': 2, 'A5047480720': 2, 'A5013467728': 4, 'A5088363723': 59, 'A5053796170': 2, 'A5002664218': 2, 'A5065221447': 2, 'A5003700537': 2, 'A5023726537': 2, 'A5077761425': 2, 'A5015248532': 2, 'A5029793438': 4, 'A5089396175': 3, 'A5020901777': 8, 'A5048651639': 2, 'A5070541195': 2, 'A5079553919': 2, 'A5053818279': 2, 'A5024803432': 2, 'A5058815871': 7, 'A5009831760': 45, 'A5059798672': 2, 'A5066696247': 6, 'A5046445911': 11, 'A5067807487': 18, 'A5079904764': 6, 'A5077342340': 6, 'A5086881733': 6, 'A5043962579': 6, 'A5072149108': 17, 'A5026829784': 13, 'A5017768355': 13, 'A5034217753': 6, 'A5110467021': 4, 'A5008043508': 3, 'A5111638399': 10, 'A5020340631': 11, 'A5106235930': 11, 'A5031715686': 10, 'A5048847549': 2, 'A5111604521': 2, 'A5113872176': 2, 'A5086011020': 5, 'A5112224258': 3, 'A5037084026': 7, 'A5001270504': 5, 'A5065863233': 2, 'A5045216067': 3, 'A5052918302': 4, 'A5028114802': 26, 'A5063574664': 11, 'A5038766869': 4, 'A5017742384': 3, 'A5089313267': 8, 'A5001125856': 11, 'A5026626448': 20, 'A5024435233': 4, 'A5100775952': 2, 'A5033081182': 11, 'A5077591903': 5, 'A5025967818': 9, 'A5062498796': 17, 'A5102874756': 3, 'A5053945884': 35, 'A5055283196': 2, 'A5080359474': 3, 'A5039651585': 10, 'A5046479021': 14, 'A5052634198': 3, 'A5083575573': 2, 'A5004979407': 2, 'A5059587110': 2, 'A5071422618': 73, 'A5033656008': 31, 'A5061189564': 4, 'A5041175834': 3, 'A5015326615': 2, 'A5073996787': 2, 'A5051757791': 2, 'A5010879920': 14, 'A5025436534': 3, 'A5081135036': 2, 'A5001870814': 2, 'A5035149567': 3, 'A5088670724': 2, 'A5070063054': 2, 'A5062949033': 2, 'A5000711679': 2, 'A5105978897': 5, 'A5051619646': 9, 'A5110229757': 2, 'A5051285901': 2, 'A5063825876': 2, 'A5047121608': 2, 'A5031755683': 6, 'A5113495491': 4, 'A5028971011': 2, 'A5025124149': 3, 'A5016386034': 11, 'A5010827397': 2, 'A5039985406': 3, 'A5002107058': 2, 'A5062775090': 3, 'A5100378605': 2, 'A5019251758': 2, 'A5030213540': 9, 'A5043450042': 4, 'A5003213649': 11, 'A5063166187': 45, 'A5023355608': 8, 'A5101933711': 7, 'A5065644953': 4, 'A5040526518': 8, 'A5009660759': 5, 'A5090739892': 6, 'A5091599934': 3, 'A5056449142': 3, 'A5080042319': 3, 'A5077705733': 2, 'A5069030030': 2, 'A5105508446': 2, 'A5108339374': 3, 'A5111904945': 2, 'A5103163280': 7, 'A5062587302': 4, 'A5046542764': 14, 'A5110468664': 3, 'A5080125160': 4, 'A5059563468': 2, 'A5001791116': 3, 'A5101185389': 2, 'A5045494255': 60, 'A5034153283': 2, 'A5103080414': 2, 'A5004896252': 2, 'A5013750306': 2, 'A5110862612': 2, 'A5042805137': 4, 'A5079207566': 3, 'A5016857497': 3, 'A5026794270': 2, 'A5056204400': 2, 'A5047430406': 2, 'A5058856783': 3, 'A5033806050': 2, 'A5102023207': 2, 'A5070487234': 2, 'A5088006907': 8, 'A5042790746': 2, 'A5043342491': 2, 'A5030972813': 2, 'A5019424497': 2, 'A5073873489': 4, 'A5062957860': 5, 'A5052493051': 4, 'A5058713747': 2, 'A5058404777': 6, 'A5010833575': 4, 'A5061091966': 3, 'A5049679668': 12, 'A5017184023': 3, 'A5055555622': 2, 'A5070069894': 6, 'A5004892784': 3, 'A5028327260': 3, 'A5102867344': 4, 'A5064931337': 8, 'A5100454188': 2, 'A5004575044': 2, 'A5016268748': 2, 'A5068695616': 2, 'A5076189854': 99, 'A5103329632': 4, 'A5049173646': 5, 'A5014792235': 2, 'A5021024536': 2, 'A5070511738': 9, 'A5058412746': 2, 'A5111699918': 2, 'A5030201679': 3, 'A5025403362': 2, 'A5027599381': 3, 'A5061303616': 2, 'A5091033535': 2, 'A5054043838': 3, 'A5023796355': 3, 'A5045705124': 2, 'A5076653924': 4, 'A5072651383': 3, 'A5034329641': 3, 'A5108388457': 2, 'A5112141456': 3, 'A5023083645': 2, 'A5030862748': 2, 'A5038356922': 2, 'A5015996266': 2, 'A5104083995': 2, 'A5067809445': 4, 'A5108213960': 7, 'A5074608697': 2, 'A5101788900': 2, 'A5069501250': 3, 'A5044511705': 3, 'A5088660554': 2, 'A5084714502': 2, 'A5057291277': 9, 'A5070609145': 2, 'A5061724900': 2, 'A5046879461': 11, 'A5025028660': 6, 'A5102869952': 2, 'A5044130443': 28, 'A5036729747': 3, 'A5045869840': 3, 'A5008894339': 3, 'A5022164041': 3, 'A5116279896': 2, 'A5090754963': 2, 'A5077885730': 2, 'A5087265119': 2, 'A5051116977': 2, 'A5032926589': 6, 'A5080436996': 2, 'A5012564810': 6, 'A5025649906': 2, 'A5017564609': 8, 'A5091262280': 3, 'A5053311835': 3, 'A5011107678': 2, 'A5025396810': 17, 'A5002603522': 3, 'A5006991081': 16, 'A5045202621': 8, 'A5038036261': 3, 'A5019710285': 2, 'A5050698435': 3, 'A5083640188': 2, 'A5066730320': 14, 'A5075326816': 2, 'A5080633143': 2, 'A5100412713': 2, 'A5020477615': 2, 'A5050028246': 2, 'A5000145156': 2, 'A5072217103': 2, 'A5064230639': 6, 'A5059645286': 163, 'A5029144357': 3, 'A5103717145': 3, 'A5044369720': 3, 'A5086173064': 7, 'A5089712688': 2, 'A5107212020': 2, 'A5001864555': 2, 'A5019835473': 2, 'A5091118886': 2, 'A5029967709': 2, 'A5062334356': 2, 'A5017612757': 2, 'A5081028196': 2, 'A5067890045': 2, 'A5110349197': 2, 'A5067008062': 2, 'A5051587086': 11, 'A5030173821': 2, 'A5101416109': 9, 'A5058390249': 7, 'A5042172804': 2, 'A5072989920': 2, 'A5090307961': 2, 'A5032254007': 2, 'A5037553376': 2, 'A5027778611': 7, 'A5027970792': 3, 'A5043868130': 2, 'A5025085845': 10, 'A5054248372': 11, 'A5013834379': 3, 'A5012213855': 2, 'A5041637444': 2, 'A5048593478': 4, 'A5050584017': 3, 'A5068074599': 3, 'A5029791462': 2, 'A5070011029': 2, 'A5014045793': 4, 'A5005671755': 2, 'A5072916668': 3, 'A5017770962': 2, 'A5048828311': 2, 'A5085572235': 2, 'A5065387784': 4, 'A5043070901': 2, 'A5056269049': 9, 'A5002709735': 45, 'A5091625866': 4, 'A5086501120': 79, 'A5026625845': 6, 'A5076838036': 3, 'A5070109368': 3, 'A5057650206': 76, 'A5066582682': 2, 'A5113823052': 2, 'A5055271621': 2, 'A5023531003': 3, 'A5030571651': 30, 'A5100338921': 8, 'A5085927300': 205, 'A5025615173': 12, 'A5060574714': 6, 'A5007174203': 2, 'A5014662127': 10, 'A5069885186': 11, 'A5074039936': 6, 'A5037022569': 5, 'A5060046382': 8, 'A5065534219': 2, 'A5074131967': 3, 'A5021424637': 5, 'A5063768294': 7, 'A5029362927': 6, 'A5017437256': 8, 'A5040957572': 36, 'A5034653321': 11, 'A5047301239': 2, 'A5076143079': 2, 'A5032566311': 5, 'A5005931766': 2, 'A5050830060': 8, 'A5062365263': 43, 'A5088304530': 2, 'A5078273250': 4, 'A5089937724': 2, 'A5075220413': 4, 'A5007548920': 3, 'A5038050803': 5, 'A5016839456': 3, 'A5087246842': 2, 'A5067236162': 3, 'A5088776221': 2, 'A5082884831': 4, 'A5038078162': 7, 'A5058011161': 10, 'A5103409708': 2, 'A5008031035': 3, 'A5056783610': 5, 'A5074631000': 3, 'A5041494411': 4, 'A5101525811': 8, 'A5059617648': 6, 'A5100338946': 19, 'A5038690169': 2, 'A5061444760': 4, 'A5068799512': 3, 'A5048332811': 7, 'A5013394195': 17, 'A5103017598': 10, 'A5018318168': 7, 'A5044100655': 71, 'A5101481094': 4, 'A5100355277': 164, 'A5101527758': 16, 'A5078998971': 3, 'A5091815434': 15, 'A5081248593': 23, 'A5037530070': 18, 'A5102073967': 5, 'A5110723101': 2, 'A5063520476': 2, 'A5039997297': 2, 'A5026825784': 2, 'A5006935542': 2, 'A5100344184': 2, 'A5085886529': 2, 'A5069379894': 2, 'A5075920466': 3, 'A5066325938': 6, 'A5042757290': 6, 'A5024377883': 11, 'A5009943357': 20, 'A5058428595': 2, 'A5103158614': 2, 'A5073443117': 4, 'A5101182106': 3, 'A5011195481': 8, 'A5038826362': 2, 'A5072984887': 3, 'A5110011394': 2, 'A5028537136': 2, 'A5085703070': 2, 'A5000017075': 10, 'A5025509686': 4, 'A5084793824': 6, 'A5068477431': 3, 'A5085599698': 2, 'A5005669749': 9, 'A5074263397': 5, 'A5046927655': 4, 'A5050157577': 2, 'A5087437068': 4, 'A5019133242': 6, 'A5057196369': 3, 'A5053012932': 2, 'A5108119814': 3, 'A5033160020': 2, 'A5031033430': 4, 'A5061851539': 4, 'A5087303933': 2, 'A5079914638': 3, 'A5100414978': 2, 'A5029601647': 2, 'A5081467736': 2, 'A5082912418': 2, 'A5062380101': 3, 'A5080369483': 2, 'A5042920909': 3, 'A5052161832': 2, 'A5104045637': 2, 'A5081289583': 2, 'A5068923033': 2, 'A5072345432': 5, 'A5040747504': 17, 'A5073800371': 3, 'A5016371653': 4, 'A5068392986': 3, 'A5057330200': 15, 'A5042418453': 8, 'A5092893770': 3, 'A5005448339': 6, 'A5062751420': 3, 'A5013780395': 2, 'A5004299489': 5, 'A5047421458': 2, 'A5009779130': 2, 'A5020270223': 11, 'A5058287380': 3, 'A5051044679': 3, 'A5100338939': 2, 'A5076324337': 2, 'A5054079559': 2, 'A5008277325': 2, 'A5101909128': 2, 'A5028392704': 5, 'A5078721850': 5, 'A5071313046': 2, 'A5003959306': 2, 'A5067333764': 3, 'A5011271066': 3, 'A5029222386': 2, 'A5003087402': 2, 'A5003220678': 3, 'A5100337209': 10, 'A5100320969': 14, 'A5101439558': 8, 'A5101801123': 2, 'A5055592366': 2, 'A5100751331': 6, 'A5024804688': 2, 'A5024582585': 3, 'A5011771969': 5, 'A5075527094': 7, 'A5081580898': 2, 'A5030248499': 2, 'A5009297077': 2, 'A5047870955': 2, 'A5091879812': 2, 'A5048076721': 2, 'A5100453429': 2, 'A5082563790': 3, 'A5085714892': 13, 'A5091757455': 3, 'A5077285926': 2, 'A5076528057': 2, 'A5002933889': 2, 'A5100741781': 2, 'A5032741413': 2, 'A5074364400': 2, 'A5100355339': 3, 'A5052027939': 2, 'A5018737149': 4, 'A5038172560': 2, 'A5006447486': 2, 'A5081928534': 2, 'A5079644451': 4, 'A5089287594': 2, 'A5073327085': 2, 'A5100397986': 3, 'A5003854328': 7, 'A5050222178': 2, 'A5091902196': 2, 'A5060932004': 2, 'A5048489384': 3, 'A5014274752': 2, 'A5100456311': 2, 'A5064475993': 4, 'A5100359025': 14, 'A5029925982': 95, 'A5046688345': 2, 'A5026638047': 2, 'A5052553537': 5, 'A5014442059': 3, 'A5068687626': 3, 'A5063367289': 25, 'A5100431216': 2, 'A5101523298': 3, 'A5100422933': 3, 'A5101970074': 2, 'A5032381602': 37, 'A5034801569': 2, 'A5101823589': 3, 'A5004949920': 2, 'A5064857767': 8, 'A5021769351': 7, 'A5021025391': 9, 'A5011934662': 8, 'A5017025292': 22, 'A5088772695': 6, 'A5100431363': 2, 'A5107599603': 5, 'A5079031488': 4, 'A5012330684': 9, 'A5082356616': 11, 'A5073672615': 13, 'A5051289671': 2, 'A5062077425': 7, 'A5059896630': 2, 'A5005931232': 3, 'A5009653467': 2, 'A5016656924': 3, 'A5011368152': 2, 'A5013262618': 2, 'A5056559023': 2, 'A5023509726': 10, 'A5042923491': 2, 'A5050801361': 2, 'A5029489012': 5, 'A5020309476': 6, 'A5102390175': 2, 'A5027835437': 2, 'A5060768360': 2, 'A5021238030': 2, 'A5050159724': 4, 'A5003261311': 2, 'A5074129204': 2, 'A5036935284': 19, 'A5109149450': 2, 'A5063987862': 4, 'A5091280671': 7, 'A5085351443': 5, 'A5041539279': 3, 'A5065764227': 3, 'A5083504666': 4, 'A5058957631': 4, 'A5066766316': 4, 'A5020537747': 2, 'A5103459757': 4, 'A5008639824': 2, 'A5012319049': 3, 'A5047333423': 4, 'A5025745021': 21, 'A5071813608': 4, 'A5022414281': 5, 'A5048056611': 7, 'A5039217538': 4, 'A5061720289': 4, 'A5034735453': 6, 'A5109261047': 6, 'A5109886007': 2, 'A5100431291': 2, 'A5082332955': 3, 'A5004855746': 2, 'A5103750097': 2, 'A5016086371': 2, 'A5016054046': 2, 'A5050966346': 3, 'A5043559110': 2, 'A5067523596': 2, 'A5090572063': 2, 'A5045479268': 2, 'A5016104509': 2, 'A5046676187': 2, 'A5103493257': 2, 'A5057752375': 2, 'A5057481716': 2, 'A5100607328': 3, 'A5076701535': 3, 'A5080267104': 21, 'A5086073834': 8, 'A5025232291': 2, 'A5083307694': 2, 'A5045525642': 2, 'A5022825062': 4, 'A5058603769': 6, 'A5059520221': 3, 'A5025977484': 2, 'A5062781103': 2, 'A5001549070': 2, 'A5036380965': 2, 'A5017765466': 2, 'A5052717630': 60, 'A5109205244': 3, 'A5032369426': 11, 'A5040217228': 17, 'A5090592819': 2, 'A5051112909': 2, 'A5059033705': 4, 'A5084972098': 4, 'A5042757004': 2, 'A5007878315': 4, 'A5001467582': 5, 'A5041914561': 2, 'A5032988915': 2, 'A5040912789': 2, 'A5025550714': 4, 'A5059294839': 3, 'A5027823378': 2, 'A5015055144': 2, 'A5047169376': 2, 'A5025105803': 5, 'A5028950652': 5, 'A5047569245': 4, 'A5059795605': 2, 'A5081855980': 3, 'A5063652311': 3, 'A5027103930': 4, 'A5077051449': 2, 'A5081367673': 2, 'A5060700722': 2, 'A5101490457': 5, 'A5014652241': 2, 'A5020165040': 3, 'A5015165515': 3, 'A5030255458': 3, 'A5052525257': 3, 'A5063561197': 2, 'A5067204724': 2, 'A5089358974': 2, 'A5060198214': 2, 'A5074059447': 2, 'A5037344196': 4, 'A5109832207': 6, 'A5076716774': 4, 'A5111981008': 2, 'A5113443954': 4, 'A5075059497': 3, 'A5018676187': 3, 'A5002373584': 3, 'A5015178241': 3, 'A5022241982': 3, 'A5007424153': 2, 'A5015324466': 2, 'A5018557029': 2, 'A5083583657': 2, 'A5089505843': 2, 'A5113795053': 2, 'A5108139740': 2, 'A5002214819': 2, 'A5082205147': 2, 'A5061923992': 80, 'A5028642367': 2, 'A5101849355': 7, 'A5016057473': 44, 'A5103649964': 2, 'A5068831099': 27, 'A5100621138': 7, 'A5039491324': 7, 'A5040930580': 2, 'A5087272960': 2, 'A5053665869': 2, 'A5100399276': 48, 'A5045801673': 2, 'A5101593607': 2, 'A5066130076': 2, 'A5019506326': 4, 'A5083062158': 11, 'A5012108449': 2, 'A5100333930': 8, 'A5100438653': 3, 'A5000937401': 13, 'A5007187227': 2, 'A5024290623': 4, 'A5061262038': 3, 'A5056390283': 3, 'A5067008528': 2, 'A5044056170': 2, 'A5012701585': 8, 'A5006447298': 2, 'A5073409235': 2, 'A5062628676': 3, 'A5100344463': 4, 'A5041539298': 5, 'A5038274891': 2, 'A5037711258': 8, 'A5078091066': 20, 'A5081378294': 6, 'A5100433691': 2, 'A5110275612': 2, 'A5001943588': 5, 'A5010295611': 6, 'A5105927123': 12, 'A5076436751': 4, 'A5108099235': 2, 'A5004758396': 2, 'A5036648326': 3, 'A5003271568': 4, 'A5009726144': 3, 'A5060637918': 5, 'A5006910348': 9, 'A5009019474': 2, 'A5019875643': 2, 'A5100737046': 2, 'A5049470149': 2, 'A5015763173': 4, 'A5044868467': 3, 'A5023882015': 2, 'A5110671642': 4, 'A5052731816': 2, 'A5005466441': 2, 'A5101435334': 2, 'A5070343691': 2, 'A5087106540': 3, 'A5014283670': 8, 'A5083126896': 25, 'A5084677225': 2, 'A5044849571': 26, 'A5071165387': 64, 'A5052099873': 2, 'A5090030525': 6, 'A5004774200': 2, 'A5067567133': 5, 'A5023753116': 7, 'A5020488191': 2, 'A5096878617': 2, 'A5112456364': 2, 'A5101058262': 2, 'A5065954205': 8, 'A5038183626': 3, 'A5033157677': 5, 'A5015101640': 4, 'A5071709543': 3, 'A5006897094': 5, 'A5111578200': 4, 'A5015855466': 2, 'A5008840028': 2, 'A5088621577': 2, 'A5102840892': 6, 'A5024911827': 8, 'A5044686474': 3, 'A5044386913': 2, 'A5087196723': 2, 'A5053756946': 4, 'A5007091069': 2, 'A5055879259': 3, 'A5009189202': 2, 'A5112771004': 2, 'A5004375304': 2, 'A5090730667': 5, 'A5042192372': 9, 'A5025885625': 2, 'A5054648637': 2, 'A5028121952': 2, 'A5100693435': 2, 'A5112758056': 2, 'A5012055259': 4, 'A5063752021': 4, 'A5035580862': 3, 'A5070926854': 2, 'A5072909138': 3, 'A5019016245': 2, 'A5087740106': 2, 'A5102872779': 8, 'A5112865214': 16, 'A5016710875': 4, 'A5075493826': 3, 'A5084514376': 2, 'A5046133815': 2, 'A5028928899': 4, 'A5112466339': 2, 'A5020377067': 2, 'A5055111984': 2, 'A5077337147': 2, 'A5089790773': 2, 'A5041256271': 3, 'A5030450451': 4, 'A5108195789': 2, 'A5032668331': 2, 'A5046014044': 2, 'A5062895972': 2, 'A5054311085': 2, 'A5111640159': 2, 'A5087794152': 2, 'A5007870731': 3, 'A5036357902': 2, 'A5074103823': 2, 'A5000637036': 2, 'A5031449114': 3, 'A5025865739': 2, 'A5035257891': 2, 'A5071712158': 2, 'A5014320689': 2, 'A5067629531': 3, 'A5069120214': 2, 'A5007088227': 3, 'A5007458424': 3, 'A5009862994': 2, 'A5034925233': 2, 'A5100351412': 2, 'A5063629854': 3, 'A5067952043': 4, 'A5042234223': 10, 'A5080801332': 2, 'A5065474822': 4, 'A5088030879': 2, 'A5010846780': 2, 'A5100786654': 2, 'A5066964794': 2, 'A5049148461': 2, 'A5058684689': 3, 'A5109352872': 3, 'A5100433744': 3, 'A5032666539': 2, 'A5075116664': 7, 'A5088463133': 2, 'A5086101517': 2, 'A5091860939': 2, 'A5005453349': 2, 'A5010766332': 2, 'A5067451854': 2, 'A5009209543': 2, 'A5065595399': 2, 'A5064580861': 2, 'A5043059930': 9, 'A5061935602': 16, 'A5045995531': 2, 'A5053200092': 5, 'A5019723604': 4, 'A5050842455': 2, 'A5037638116': 2, 'A5009957887': 3, 'A5034286014': 2, 'A5038514843': 2, 'A5100718934': 3, 'A5028863551': 2, 'A5101424484': 2, 'A5045500067': 2, 'A5021757437': 3, 'A5065212478': 2, 'A5010287399': 6, 'A5040735139': 3, 'A5040094074': 7, 'A5076818856': 3, 'A5074024654': 6, 'A5085205626': 7, 'A5089831843': 7, 'A5112395873': 8, 'A5007699920': 6, 'A5065210070': 5, 'A5018876457': 2, 'A5030126548': 2, 'A5050656871': 6, 'A5000889975': 2, 'A5013807415': 2, 'A5109618222': 9, 'A5084413160': 3, 'A5068497573': 2, 'A5056032814': 5, 'A5112304664': 2, 'A5100652499': 4, 'A5013729700': 2, 'A5100389406': 2, 'A5017222566': 6, 'A5050313397': 2, 'A5054890347': 2, 'A5100389458': 2, 'A5080746846': 2, 'A5025082463': 2, 'A5070385137': 3, 'A5053530986': 6, 'A5082524310': 5, 'A5040553648': 17, 'A5029258117': 22, 'A5082558628': 23, 'A5052014576': 5, 'A5054796171': 5, 'A5086584454': 4, 'A5071546444': 3, 'A5100645812': 4, 'A5002187701': 84, 'A5045451254': 7, 'A5038755271': 3, 'A5065527041': 3, 'A5075562557': 13, 'A5042580769': 2, 'A5086292276': 15, 'A5069235702': 7, 'A5019186384': 2, 'A5070346701': 2, 'A5080914482': 6, 'A5043431594': 2, 'A5024810938': 2, 'A5089137149': 2, 'A5010373001': 5, 'A5073692224': 2, 'A5076248976': 4, 'A5032475130': 2, 'A5050365567': 2, 'A5040228064': 4, 'A5070920982': 7, 'A5061859531': 3, 'A5054210195': 6, 'A5083226965': 3, 'A5100374317': 6, 'A5081404033': 3, 'A5002967595': 14, 'A5030534868': 3, 'A5019111070': 2, 'A5075740191': 10, 'A5003055239': 3, 'A5012027621': 2, 'A5085476617': 4, 'A5026198819': 4, 'A5101479345': 3, 'A5011076157': 2, 'A5091442923': 2, 'A5025992284': 6, 'A5069608785': 2, 'A5074745153': 6, 'A5001006565': 3, 'A5042135500': 6, 'A5039176528': 2, 'A5000613715': 2, 'A5014718273': 2, 'A5109737158': 2, 'A5110156544': 4, 'A5019563289': 2, 'A5010688311': 2, 'A5028742001': 2, 'A5077017350': 2, 'A5059420501': 4, 'A5040419676': 2, 'A5015101188': 2, 'A5053209283': 4, 'A5041089506': 2, 'A5060019444': 4, 'A5074102829': 3, 'A5081870177': 2, 'A5080759555': 3, 'A5089392540': 5, 'A5030462842': 2, 'A5077432285': 5, 'A5027729234': 23, 'A5044033735': 38, 'A5036396184': 2, 'A5073850118': 2, 'A5100617443': 2, 'A5102798508': 6, 'A5060936581': 2, 'A5024623417': 4, 'A5009495837': 2, 'A5111782442': 4, 'A5024220409': 2, 'A5025836137': 2, 'A5039860428': 2, 'A5020166075': 2, 'A5075539945': 3, 'A5044651229': 2, 'A5001664420': 3, 'A5034419078': 2, 'A5037607769': 2, 'A5047854386': 4, 'A5103580947': 2, 'A5022229311': 9, 'A5011344106': 3, 'A5068599892': 3, 'A5025422369': 4, 'A5089517750': 5, 'A5032357220': 3, 'A5021259488': 8, 'A5066147862': 5, 'A5083629950': 2, 'A5015440930': 3, 'A5005443526': 3, 'A5066113250': 4, 'A5091382678': 2, 'A5001827219': 2, 'A5077655835': 2, 'A5076941944': 3, 'A5016409963': 2, 'A5015935947': 4, 'A5025982071': 3, 'A5102867647': 3, 'A5036281766': 3, 'A5075915146': 7, 'A5069939742': 16, 'A5091745105': 5, 'A5013283889': 2, 'A5084567418': 2, 'A5015381412': 2, 'A5046611715': 3, 'A5035427065': 2, 'A5061185712': 3, 'A5012175728': 2, 'A5055049223': 2, 'A5000182407': 2, 'A5071261828': 3, 'A5002881987': 6, 'A5019643444': 4, 'A5010613193': 6, 'A5079848178': 4, 'A5013225609': 4, 'A5074588447': 32, 'A5053214955': 3, 'A5019136836': 8, 'A5054129638': 3, 'A5082296408': 2, 'A5024050018': 4, 'A5110172611': 2, 'A5072298824': 4, 'A5029920041': 3, 'A5037425044': 3, 'A5100402609': 2, 'A5038723583': 3, 'A5054831137': 14, 'A5034256615': 6, 'A5070563994': 2, 'A5018369442': 3, 'A5057765662': 2, 'A5035084501': 5, 'A5019990393': 3, 'A5065016283': 2, 'A5085035593': 2, 'A5005463806': 2, 'A5059980468': 3, 'A5004265472': 2, 'A5083125799': 2, 'A5068081385': 2, 'A5069927794': 9, 'A5090905614': 2, 'A5061136366': 4, 'A5029105431': 2, 'A5061053245': 2, 'A5039617569': 8, 'A5060934705': 13, 'A5047337343': 7, 'A5055422172': 7, 'A5033332760': 8, 'A5017357324': 34, 'A5028113785': 4, 'A5008926869': 3, 'A5022966906': 7, 'A5008387768': 3, 'A5006526693': 3, 'A5100989717': 4, 'A5028089542': 3, 'A5043267585': 2, 'A5001176231': 2, 'A5063501905': 2, 'A5072568295': 7, 'A5077969491': 2, 'A5070236501': 3, 'A5002440488': 3, 'A5000930617': 3, 'A5100381260': 3, 'A5024865085': 6, 'A5042868219': 3, 'A5005926480': 2, 'A5032178568': 2, 'A5110021473': 2, 'A5060178414': 3, 'A5103205983': 2, 'A5102235969': 2, 'A5112420205': 2, 'A5010077143': 5, 'A5087643892': 3, 'A5009514550': 2, 'A5109241535': 5, 'A5061514105': 2, 'A5016020782': 2, 'A5079515903': 2, 'A5022054063': 2, 'A5050551131': 3, 'A5020734965': 3, 'A5020152678': 3, 'A5042355795': 11, 'A5053202585': 2, 'A5052318783': 3, 'A5032451496': 11, 'A5006701468': 2, 'A5043908500': 8, 'A5043926363': 4, 'A5041569530': 2, 'A5033975637': 3, 'A5050880317': 5, 'A5101437672': 2, 'A5100643225': 4, 'A5009542542': 3, 'A5045591387': 4, 'A5073242709': 3, 'A5100328491': 4, 'A5074588492': 3, 'A5036103922': 3, 'A5071103925': 3, 'A5065690161': 3, 'A5004387717': 2, 'A5065292350': 3, 'A5103148486': 2, 'A5086119051': 2, 'A5012723133': 2, 'A5057117497': 3, 'A5039657695': 3, 'A5054980264': 2, 'A5047089331': 2, 'A5014050555': 2, 'A5060078629': 2, 'A5113444548': 2, 'A5079519343': 2, 'A5014674659': 2, 'A5100455090': 13, 'A5105667690': 2, 'A5046339814': 2, 'A5062975995': 2, 'A5080414420': 2, 'A5062319704': 22, 'A5074948475': 2, 'A5100336827': 21, 'A5043777246': 3, 'A5010419481': 13, 'A5056690547': 2, 'A5069823101': 4, 'A5100325379': 3, 'A5047768726': 3, 'A5089605137': 9, 'A5043405353': 2, 'A5029417016': 4, 'A5026986610': 3, 'A5004080085': 2, 'A5112733015': 2, 'A5064023275': 7, 'A5059855528': 2, 'A5109963037': 2, 'A5018723032': 2, 'A5112294596': 2, 'A5001536494': 6, 'A5058853115': 2, 'A5084689590': 4, 'A5079222963': 5, 'A5040947766': 2, 'A5058081442': 3, 'A5085848346': 2, 'A5100396257': 2, 'A5006335513': 6, 'A5051448391': 5, 'A5084668442': 5, 'A5080386620': 3, 'A5063349120': 3, 'A5069660758': 3, 'A5086329948': 2, 'A5063065481': 12, 'A5011711173': 7, 'A5009478901': 6, 'A5024822959': 4, 'A5055420216': 3, 'A5101734027': 3, 'A5035328798': 3, 'A5026715122': 3, 'A5066116202': 3, 'A5029270589': 4, 'A5064821239': 6, 'A5008009334': 2, 'A5100391612': 3, 'A5100669549': 2, 'A5007312873': 2, 'A5077913648': 2, 'A5023397430': 7, 'A5079709359': 37, 'A5102906879': 3, 'A5067534857': 11, 'A5053437341': 11, 'A5047862122': 2, 'A5000725697': 16, 'A5018532037': 8, 'A5068875173': 2, 'A5070278647': 2, 'A5000972645': 2, 'A5076548440': 3, 'A5016726709': 2, 'A5034513200': 2, 'A5059798408': 2, 'A5043379042': 9, 'A5032569600': 9, 'A5008834993': 3, 'A5048141379': 4, 'A5101942742': 2, 'A5075644451': 3, 'A5007620036': 2, 'A5100992525': 4, 'A5031161163': 2, 'A5056817709': 2, 'A5015388007': 3, 'A5059738909': 2, 'A5076209352': 2, 'A5005150470': 2, 'A5013075695': 2, 'A5043406907': 10, 'A5016543371': 2, 'A5111404129': 2, 'A5000881841': 4, 'A5047049046': 2, 'A5019698232': 2, 'A5100327957': 5, 'A5100425554': 2, 'A5100420987': 2, 'A5049079508': 2, 'A5100363642': 2, 'A5101842417': 2, 'A5045835385': 3, 'A5085939626': 11, 'A5043913794': 3, 'A5104038125': 2, 'A5048094999': 4, 'A5100330993': 2, 'A5100711409': 2, 'A5078686603': 2, 'A5102922371': 2, 'A5100349166': 4, 'A5111373625': 2, 'A5103003404': 3, 'A5026147791': 8, 'A5111925801': 9, 'A5017669758': 11, 'A5111936847': 2, 'A5077125314': 31, 'A5023887452': 4, 'A5032538899': 77, 'A5072046918': 89, 'A5010601798': 13, 'A5077630021': 11, 'A5055203249': 35, 'A5026050123': 8, 'A5084449778': 7, 'A5073851550': 6, 'A5068413510': 4, 'A5005121779': 2, 'A5078491738': 8, 'A5004153109': 2, 'A5008904142': 3, 'A5064372346': 4, 'A5081322018': 2, 'A5054808675': 43, 'A5091771290': 2, 'A5090341705': 2, 'A5003268415': 4, 'A5015520086': 7, 'A5085753634': 11, 'A5034703281': 17, 'A5038842358': 2, 'A5082183505': 2, 'A5027824085': 2, 'A5027041171': 6, 'A5017529415': 3, 'A5056851399': 9, 'A5027826222': 2, 'A5061449196': 2, 'A5025992076': 7, 'A5022886322': 2, 'A5054833182': 8, 'A5034618143': 5, 'A5048551460': 5, 'A5005912318': 5, 'A5046090328': 5, 'A5005349213': 3, 'A5083771180': 4, 'A5102831633': 3, 'A5022751573': 2, 'A5091187284': 8, 'A5102898754': 6, 'A5114032765': 2, 'A5016825583': 2, 'A5024678335': 3, 'A5067764452': 3, 'A5045482694': 2, 'A5022183708': 2, 'A5043355959': 2, 'A5055465175': 2, 'A5079585875': 9, 'A5061361998': 2, 'A5091054916': 2, 'A5010913808': 2, 'A5065203625': 2, 'A5052541789': 11, 'A5074393700': 2, 'A5006380227': 8, 'A5072111291': 2, 'A5012381948': 8, 'A5056350790': 3, 'A5006533777': 2, 'A5041348628': 2, 'A5079424258': 2, 'A5001833084': 12, 'A5085763758': 2, 'A5076876084': 8, 'A5101799604': 2, 'A5024575129': 2, 'A5072061891': 3, 'A5044162894': 2, 'A5002606014': 2, 'A5044818236': 3, 'A5022491810': 3, 'A5004406904': 4, 'A5074826751': 4, 'A5049659586': 7, 'A5036551422': 2, 'A5015458200': 7, 'A5022179384': 4, 'A5014666782': 4, 'A5073517348': 4, 'A5069292100': 2, 'A5017324980': 3, 'A5052372722': 3, 'A5046953322': 2, 'A5042659302': 5, 'A5006947993': 8, 'A5041145688': 3, 'A5035060247': 2, 'A5089226694': 3, 'A5082304130': 2, 'A5088894591': 3, 'A5083866672': 5, 'A5018937306': 2, 'A5080417755': 3, 'A5035307290': 2, 'A5004489992': 8, 'A5015311126': 2, 'A5070685856': 2, 'A5067243359': 4, 'A5106730571': 2, 'A5108207740': 2, 'A5055809485': 2, 'A5029493957': 2, 'A5047034971': 2, 'A5113596962': 7, 'A5063535694': 3, 'A5038907218': 3, 'A5043275213': 2, 'A5102984004': 3, 'A5010074855': 3, 'A5084456812': 3, 'A5061206863': 11, 'A5063558276': 4, 'A5016014168': 13, 'A5010728482': 3, 'A5101900654': 2, 'A5049828992': 2, 'A5070172858': 2, 'A5073697071': 2, 'A5065743725': 7, 'A5082408253': 5, 'A5048574875': 4, 'A5050910936': 2, 'A5017675714': 2, 'A5075221940': 5, 'A5088992540': 3, 'A5001030322': 2, 'A5037186646': 2, 'A5035107313': 11, 'A5058348013': 6, 'A5035455593': 23, 'A5057729251': 4, 'A5007160163': 4, 'A5019904524': 6, 'A5109147283': 3, 'A5012274548': 3, 'A5060361425': 3, 'A5042208432': 3, 'A5001007450': 3, 'A5089682862': 7, 'A5072647467': 3, 'A5069421706': 2, 'A5023048192': 2, 'A5029820246': 2, 'A5008547992': 5, 'A5103590334': 2, 'A5001536187': 2, 'A5056707583': 4, 'A5018388854': 2, 'A5014189381': 2, 'A5002514740': 9, 'A5073742847': 8, 'A5009319874': 6, 'A5088778411': 5, 'A5066924384': 8, 'A5078257556': 4, 'A5027112658': 20, 'A5012070985': 2, 'A5007090604': 3, 'A5037735812': 2, 'A5100339004': 2, 'A5041492481': 2, 'A5069884896': 2, 'A5061221525': 5, 'A5013841168': 6, 'A5061794917': 5, 'A5060471968': 2, 'A5079466450': 4, 'A5017569760': 2, 'A5114488878': 3, 'A5101979342': 4, 'A5071797963': 3, 'A5034041314': 2, 'A5027163845': 6, 'A5024305277': 2, 'A5050616379': 4, 'A5047168665': 2, 'A5104056982': 3, 'A5024390954': 2, 'A5014737206': 2, 'A5035094264': 7, 'A5024344974': 2, 'A5027172638': 2, 'A5076555421': 2, 'A5019847029': 2, 'A5083121585': 4, 'A5104357062': 2, 'A5023371191': 2, 'A5038183818': 2, 'A5004550829': 4, 'A5052649262': 2, 'A5100333916': 2, 'A5054789243': 3, 'A5052769102': 3, 'A5058660740': 2, 'A5049752109': 4, 'A5029769161': 3, 'A5017904445': 2, 'A5002338764': 2, 'A5029605074': 3, 'A5034741131': 4, 'A5078401676': 4, 'A5039749384': 2, 'A5088815712': 2, 'A5073618265': 2, 'A5016838762': 2, 'A5034114908': 2, 'A5109875968': 3, 'A5022049038': 3, 'A5053962679': 5, 'A5091324572': 3, 'A5072261480': 3, 'A5026985652': 2, 'A5101985030': 4, 'A5112154211': 3, 'A5047170063': 58, 'A5101705698': 4, 'A5011664369': 2, 'A5061220999': 2, 'A5071433151': 2, 'A5082946336': 2, 'A5044652655': 5, 'A5023229681': 2, 'A5066850067': 2, 'A5091661935': 2, 'A5029805143': 5, 'A5112947561': 2, 'A5041664883': 2, 'A5058327189': 3, 'A5091432624': 2, 'A5027117465': 2, 'A5008569720': 3, 'A5018717377': 4, 'A5112407267': 2, 'A5036348416': 2, 'A5081498765': 2, 'A5060362716': 2, 'A5078337825': 7, 'A5112745025': 2, 'A5086254784': 2, 'A5017737115': 4, 'A5009620223': 2, 'A5021827617': 7, 'A5060695800': 3, 'A5075254600': 3, 'A5035605036': 6, 'A5004857788': 2, 'A5089065417': 2, 'A5103180391': 3, 'A5112342998': 6, 'A5087005512': 3, 'A5014587310': 2, 'A5078048346': 2, 'A5100322712': 151, 'A5100334377': 2, 'A5021730842': 2, 'A5001094226': 2, 'A5083199670': 2, 'A5100427695': 2, 'A5044158176': 2, 'A5032418986': 2, 'A5003040843': 3, 'A5032003918': 2, 'A5042180520': 5, 'A5044005697': 2, 'A5012700152': 6, 'A5086645719': 6, 'A5015171883': 14, 'A5079356706': 4, 'A5011176205': 7, 'A5012260410': 4, 'A5015534160': 7, 'A5051544089': 7, 'A5024192305': 3, 'A5028407723': 2, 'A5061224153': 4, 'A5061282606': 2, 'A5028060479': 2, 'A5000465232': 2, 'A5003491365': 4, 'A5040399099': 6, 'A5039712245': 9, 'A5029384080': 2, 'A5045761180': 2, 'A5075512877': 2, 'A5007901564': 2, 'A5065663195': 4, 'A5029566548': 2, 'A5038645035': 3, 'A5012749606': 4, 'A5027736166': 4, 'A5112605320': 2, 'A5078998782': 3, 'A5050709026': 12, 'A5077293116': 2, 'A5100687676': 5, 'A5057120924': 4, 'A5012554861': 22, 'A5014700126': 3, 'A5025977681': 21, 'A5076202690': 13, 'A5037525426': 5, 'A5076826749': 2, 'A5063812292': 3, 'A5100455219': 3, 'A5001319317': 7, 'A5100615324': 2, 'A5008750243': 2, 'A5088410008': 3, 'A5101912684': 2, 'A5056371148': 3, 'A5016766075': 5, 'A5060609387': 2, 'A5004265166': 3, 'A5059892854': 2, 'A5060130910': 2, 'A5008577882': 2, 'A5101464855': 2, 'A5067268817': 2, 'A5013134790': 3, 'A5028191957': 2, 'A5035174955': 2, 'A5103949075': 2, 'A5065908408': 2, 'A5100620216': 2, 'A5018155177': 5, 'A5068825751': 3, 'A5017688180': 6, 'A5021946392': 2, 'A5101464055': 2, 'A5084721447': 4, 'A5025947434': 2, 'A5008696470': 3, 'A5101948265': 2, 'A5064085103': 2, 'A5071349842': 13, 'A5101848358': 4, 'A5081068980': 2, 'A5058977902': 4, 'A5059548204': 3, 'A5025920509': 7, 'A5054429343': 4, 'A5065980952': 2, 'A5102889910': 3, 'A5009166220': 3, 'A5113478221': 2, 'A5087364769': 2, 'A5051438365': 2, 'A5083731340': 4, 'A5100328643': 3, 'A5009813956': 2, 'A5037605408': 2, 'A5068607680': 2, 'A5074129504': 12, 'A5069855349': 6, 'A5045866597': 3, 'A5013065278': 4, 'A5048901866': 2, 'A5006695988': 3, 'A5082648741': 2, 'A5057645006': 2, 'A5078410925': 2, 'A5021335359': 2, 'A5086173474': 28, 'A5048101000': 4, 'A5037107679': 2, 'A5033952401': 4, 'A5075777334': 3, 'A5053264719': 5, 'A5004813317': 2, 'A5052150259': 5, 'A5034607533': 2, 'A5066418567': 2, 'A5014610119': 3, 'A5013127864': 2, 'A5103198578': 2, 'A5100743703': 2, 'A5080785201': 2, 'A5100455171': 2, 'A5074392155': 3, 'A5014921173': 3, 'A5020723477': 2, 'A5073970795': 2, 'A5090518882': 2, 'A5079587846': 2, 'A5026111773': 2, 'A5016481368': 2, 'A5109715386': 2, 'A5032075140': 3, 'A5066939601': 2, 'A5050548130': 2, 'A5111373420': 145, 'A5011499857': 2, 'A5110749191': 52, 'A5049049316': 2, 'A5071142295': 2, 'A5059350950': 2, 'A5113717343': 2, 'A5018718505': 4, 'A5025116717': 4, 'A5061375012': 7, 'A5031389547': 9, 'A5030063697': 8, 'A5022503642': 2, 'A5014445268': 8, 'A5103570675': 9, 'A5035627295': 4, 'A5038521974': 2, 'A5054404005': 3, 'A5089423722': 3, 'A5018408477': 3, 'A5022083470': 5, 'A5044308577': 7, 'A5089574004': 2, 'A5057559641': 2, 'A5060353074': 2, 'A5073865716': 2, 'A5043162191': 7, 'A5051658526': 2, 'A5028316748': 3, 'A5023792968': 2, 'A5113828430': 2, 'A5019785879': 2, 'A5004050658': 2, 'A5003176624': 3, 'A5062975285': 2, 'A5038174686': 4, 'A5100427847': 2, 'A5100739519': 3, 'A5049178340': 3, 'A5022192941': 2, 'A5083181106': 7, 'A5051832847': 18, 'A5050428872': 3, 'A5050303775': 2, 'A5014568316': 2, 'A5054876523': 2, 'A5109204185': 9, 'A5113450915': 6, 'A5101938454': 2, 'A5072420857': 2, 'A5045244917': 2, 'A5110540363': 2, 'A5074218217': 3, 'A5061881911': 3, 'A5111745084': 2, 'A5034162373': 2, 'A5001009813': 2, 'A5079997412': 4, 'A5029422530': 15, 'A5062473026': 3, 'A5059170406': 2, 'A5081447988': 2, 'A5022689334': 4, 'A5081481130': 4, 'A5007782249': 5, 'A5024024784': 3, 'A5063173613': 4, 'A5072465748': 2, 'A5067650761': 2, 'A5043618214': 7, 'A5017657883': 2, 'A5091503277': 2, 'A5100342688': 2, 'A5100374037': 4, 'A5062850524': 6, 'A5013022885': 2, 'A5110150233': 2, 'A5075518230': 8, 'A5075431846': 2, 'A5063417857': 4, 'A5015623077': 2, 'A5103280533': 2, 'A5023847482': 2, 'A5004193983': 2, 'A5064066193': 2, 'A5103220240': 2, 'A5022757511': 3, 'A5001523273': 9, 'A5036895728': 2, 'A5087645671': 2, 'A5109076060': 2, 'A5079411499': 2, 'A5101501222': 3, 'A5081069760': 2, 'A5009013374': 6, 'A5077712228': 167, 'A5110532426': 2, 'A5038732975': 4, 'A5016312089': 3, 'A5110433113': 2, 'A5043326652': 3, 'A5015035242': 3, 'A5085428364': 4, 'A5055521555': 2, 'A5026497042': 2, 'A5036226022': 2, 'A5103775446': 4, 'A5076228560': 4, 'A5000982895': 4, 'A5031664396': 4, 'A5043086248': 2, 'A5057862739': 9, 'A5045580371': 2, 'A5101522880': 13, 'A5009187597': 30, 'A5022573878': 14, 'A5081947501': 4, 'A5067778258': 3, 'A5041252321': 53, 'A5035206337': 2, 'A5081375505': 2, 'A5017589963': 4, 'A5045660489': 4, 'A5044977576': 2, 'A5014822644': 2, 'A5103083194': 3, 'A5044005828': 2, 'A5019124526': 2, 'A5009517302': 2, 'A5044430330': 2, 'A5032134660': 2, 'A5047472290': 2, 'A5103555640': 2, 'A5035398709': 3, 'A5028574041': 4, 'A5030977322': 2, 'A5015691007': 2, 'A5100323773': 3, 'A5102845677': 2, 'A5059430592': 2, 'A5081231589': 2, 'A5029392463': 4, 'A5005483577': 2, 'A5082692617': 2, 'A5017906200': 2, 'A5077452538': 2, 'A5050370761': 2, 'A5008139664': 2, 'A5043371757': 2, 'A5005564085': 2, 'A5090647314': 2, 'A5036724400': 2, 'A5088227654': 3, 'A5103464541': 2, 'A5100323842': 2, 'A5012976351': 2, 'A5067013133': 2, 'A5076384465': 5, 'A5038579832': 2, 'A5109221121': 2, 'A5080795738': 2, 'A5068085751': 2, 'A5008016791': 4, 'A5031068694': 4, 'A5074227937': 2, 'A5009666613': 2, 'A5066945625': 3, 'A5078030567': 4, 'A5052845887': 2, 'A5047957075': 2, 'A5037332242': 3, 'A5090090567': 3, 'A5102889918': 2, 'A5088449825': 2, 'A5076167745': 2, 'A5087685404': 2, 'A5017194047': 2, 'A5098050095': 2, 'A5016717501': 2, 'A5055019793': 2, 'A5109213033': 10, 'A5040515977': 4, 'A5041710385': 17, 'A5013074509': 2, 'A5058576517': 2, 'A5016622690': 2, 'A5064701353': 2, 'A5037636074': 38, 'A5066096589': 3, 'A5017357771': 3, 'A5027136376': 9, 'A5111645495': 4, 'A5023448303': 6, 'A5077270335': 12, 'A5073187608': 6, 'A5082498217': 4, 'A5085497926': 4, 'A5042133242': 10, 'A5010511810': 4, 'A5034426215': 3, 'A5026873065': 4, 'A5050101991': 32, 'A5089181636': 11, 'A5003875445': 6, 'A5066413089': 4, 'A5026212091': 2, 'A5021589283': 6, 'A5067134501': 9, 'A5027114005': 3, 'A5059444198': 2, 'A5040878653': 2, 'A5089542402': 6, 'A5019807694': 2, 'A5035800199': 2, 'A5103380057': 2, 'A5026230453': 8, 'A5048932707': 2, 'A5072945278': 2, 'A5028241558': 2, 'A5045942483': 2, 'A5013537962': 2, 'A5033953374': 2, 'A5027327665': 2, 'A5016981964': 2, 'A5021712397': 2, 'A5062732278': 4, 'A5111451722': 3, 'A5061913766': 5, 'A5045363082': 3, 'A5011344987': 2, 'A5053784747': 2, 'A5035143437': 7, 'A5082761119': 2, 'A5080374854': 3, 'A5022377869': 2, 'A5007532004': 2, 'A5059385158': 3, 'A5067238306': 2, 'A5057537114': 7, 'A5057711793': 4, 'A5075257716': 2, 'A5032220498': 2, 'A5065918431': 2, 'A5080973561': 2, 'A5064323671': 8, 'A5102986310': 2, 'A5020104747': 2, 'A5074698656': 9, 'A5057457560': 2, 'A5023313904': 2, 'A5021774465': 2, 'A5102952170': 2, 'A5050581938': 2, 'A5085204097': 2, 'A5052645068': 2, 'A5061017602': 2, 'A5101759433': 2, 'A5025326221': 2, 'A5014260664': 2, 'A5035098825': 2, 'A5035337056': 4, 'A5060834533': 2, 'A5045539382': 3, 'A5066305082': 3, 'A5100725709': 3, 'A5084458456': 2, 'A5040580626': 2, 'A5018654304': 2, 'A5049649080': 2, 'A5057472292': 2, 'A5004364082': 2, 'A5022967320': 2, 'A5019497011': 2, 'A5102776322': 2, 'A5053483719': 2, 'A5085989495': 4, 'A5049359232': 3, 'A5067731708': 3, 'A5070117669': 2, 'A5017166414': 3, 'A5014107463': 2, 'A5015277967': 2, 'A5019243359': 3, 'A5030740380': 3, 'A5066309452': 3, 'A5074458532': 4, 'A5067094699': 4, 'A5071470375': 3, 'A5100640251': 2, 'A5055069517': 2, 'A5081787254': 3, 'A5068866693': 2, 'A5001875114': 2, 'A5083710366': 16, 'A5028163163': 2, 'A5085753718': 6, 'A5072696348': 2, 'A5033257344': 2, 'A5027682832': 2, 'A5005778457': 2, 'A5078442658': 4, 'A5078829915': 2, 'A5079075748': 3, 'A5102370806': 3, 'A5103190348': 2, 'A5109059030': 2, 'A5038281562': 3, 'A5074429822': 2, 'A5077509916': 3, 'A5065672819': 2, 'A5086739784': 4, 'A5101816796': 2, 'A5102775579': 4, 'A5028359498': 4, 'A5010028928': 2, 'A5071497435': 2, 'A5069171976': 2, 'A5004920788': 3, 'A5027336500': 2, 'A5039275573': 4, 'A5041864624': 3, 'A5018609918': 4, 'A5112631919': 10, 'A5010281475': 25, 'A5016589479': 2, 'A5080713233': 3, 'A5022785200': 2, 'A5067417895': 4, 'A5073578227': 5, 'A5060236527': 4, 'A5056754015': 2, 'A5011512226': 5, 'A5066142255': 2, 'A5003046078': 3, 'A5031522503': 3, 'A5101403774': 2, 'A5005046138': 3, 'A5033265331': 2, 'A5077674580': 2, 'A5065086423': 2, 'A5072392110': 14, 'A5002595735': 3, 'A5028278233': 3, 'A5101635026': 2, 'A5013637551': 4, 'A5003422060': 4, 'A5074836961': 3, 'A5019283962': 2, 'A5070463669': 10, 'A5049665350': 2, 'A5048176602': 16, 'A5012591331': 3, 'A5103070334': 3, 'A5056681654': 3, 'A5089178335': 4, 'A5064270411': 3, 'A5101925774': 8, 'A5100513282': 8, 'A5101095636': 3, 'A5107879422': 3, 'A5100354569': 3, 'A5100435506': 6, 'A5024898168': 2, 'A5082803450': 2, 'A5026274355': 4, 'A5031964906': 2, 'A5021211836': 5, 'A5061387988': 2, 'A5078278494': 2, 'A5100442358': 8, 'A5037058496': 4, 'A5011178134': 3, 'A5004055987': 2, 'A5021562731': 2, 'A5047291651': 3, 'A5004946117': 2, 'A5071233254': 2, 'A5054179306': 2, 'A5032790273': 2, 'A5083541504': 2, 'A5013616365': 2, 'A5059911956': 2, 'A5033669806': 2, 'A5043557717': 3, 'A5064041384': 2, 'A5023705928': 2, 'A5033198222': 2, 'A5057564242': 4, 'A5028406899': 2, 'A5075075586': 2, 'A5025758023': 5, 'A5073851856': 2, 'A5050129252': 2, 'A5076204770': 3, 'A5037890470': 2, 'A5000727957': 3, 'A5046224601': 2, 'A5009595144': 2, 'A5100345810': 2, 'A5057205161': 2, 'A5031334559': 2, 'A5061836283': 2, 'A5007620149': 2, 'A5042831132': 2, 'A5069420646': 2, 'A5044165871': 3, 'A5013229642': 2, 'A5030358452': 2, 'A5074855536': 8, 'A5027411355': 3, 'A5025801291': 7, 'A5044369270': 5, 'A5064232096': 17, 'A5065564478': 14, 'A5017857623': 9, 'A5062533209': 3, 'A5033508527': 5, 'A5007451134': 2, 'A5053367892': 3, 'A5045892894': 4, 'A5078039434': 6, 'A5064981523': 8, 'A5047296614': 2, 'A5083007909': 22, 'A5018783452': 4, 'A5040185719': 7, 'A5007407500': 6, 'A5106482033': 3, 'A5004629670': 5, 'A5112767220': 6, 'A5014772457': 4, 'A5078288116': 4, 'A5040586608': 3, 'A5069768247': 3, 'A5008805047': 9, 'A5055069715': 2, 'A5073712639': 2, 'A5007317974': 3, 'A5008606959': 22, 'A5049718154': 2, 'A5016551394': 6, 'A5015338409': 3, 'A5005451810': 4, 'A5047108669': 3, 'A5046014908': 3, 'A5021911432': 2, 'A5087456892': 3, 'A5050407610': 2, 'A5014744641': 4, 'A5058343329': 5, 'A5041908055': 3, 'A5030816915': 2, 'A5024892584': 2, 'A5040381142': 4, 'A5033317835': 8, 'A5079285128': 2, 'A5063414759': 3, 'A5061632541': 2, 'A5040347024': 2, 'A5072796055': 2, 'A5046988414': 2, 'A5014185626': 4, 'A5075939940': 3, 'A5029015389': 2, 'A5042386213': 3, 'A5000027643': 2, 'A5065188738': 2, 'A5109397435': 2, 'A5068787473': 2, 'A5003966744': 2, 'A5089344162': 2, 'A5072228421': 2, 'A5066524105': 2, 'A5082859239': 2, 'A5076567873': 2, 'A5057746925': 2, 'A5072047827': 4, 'A5089383748': 2, 'A5113310034': 2, 'A5020122979': 2, 'A5037451736': 4, 'A5100693708': 2, 'A5069579613': 6, 'A5013574246': 5, 'A5056601756': 2, 'A5077915689': 2, 'A5080250622': 3, 'A5080764714': 5, 'A5071516844': 2, 'A5103279630': 10, 'A5000836300': 4, 'A5100725966': 2, 'A5072606974': 2, 'A5050932651': 2, 'A5017853674': 4, 'A5100403129': 11, 'A5037938359': 2, 'A5034512576': 2, 'A5050636888': 5, 'A5027036905': 5, 'A5049395978': 4, 'A5051869077': 2, 'A5038011895': 2, 'A5060488949': 9, 'A5019861758': 2, 'A5101584877': 2, 'A5065751582': 2, 'A5029165485': 2, 'A5077370044': 2, 'A5008799521': 2, 'A5103329247': 2, 'A5101756071': 2, 'A5061822556': 5, 'A5059049737': 2, 'A5004671843': 11, 'A5042301630': 2, 'A5023788462': 2, 'A5042975250': 2, 'A5085857602': 3, 'A5009647937': 3, 'A5100443413': 4, 'A5071909501': 3, 'A5032540341': 3, 'A5065016171': 3, 'A5009672321': 5, 'A5091643714': 2, 'A5044580357': 3, 'A5028124700': 2, 'A5009909083': 2, 'A5025509036': 2, 'A5110271950': 2, 'A5015283954': 2, 'A5052624250': 2, 'A5041670828': 2, 'A5004785994': 2, 'A5019800917': 2, 'A5048448713': 2, 'A5029750442': 2, 'A5040486560': 4, 'A5020479409': 2, 'A5077786966': 2, 'A5025782892': 2, 'A5084221310': 2, 'A5034321268': 3, 'A5090764669': 2, 'A5039592180': 2, 'A5056994522': 3, 'A5086894726': 2, 'A5082479104': 2, 'A5082402872': 2, 'A5009627654': 2, 'A5101816524': 2, 'A5065815212': 2, 'A5067855105': 2, 'A5006153934': 3, 'A5034124542': 2, 'A5091511008': 2, 'A5037333845': 2, 'A5011126050': 6, 'A5061069554': 3, 'A5066830030': 2, 'A5016929461': 2, 'A5003620596': 3, 'A5021768388': 2, 'A5011345811': 2, 'A5027003124': 2, 'A5011607422': 4, 'A5010488057': 2, 'A5014504020': 2, 'A5078297482': 2, 'A5100733186': 2, 'A5065242786': 2, 'A5057029055': 17, 'A5042875940': 2, 'A5072432173': 2, 'A5032259262': 2, 'A5067041481': 2, 'A5023481116': 2, 'A5048264180': 6, 'A5038044359': 2, 'A5074466887': 2, 'A5087383958': 2, 'A5004866198': 2, 'A5035461185': 2, 'A5073323127': 2, 'A5083402712': 2, 'A5041387594': 2, 'A5047157013': 2, 'A5019388627': 4, 'A5081720397': 2, 'A5032062810': 2, 'A5037473201': 2, 'A5101535189': 20, 'A5086112254': 49, 'A5017877672': 2, 'A5026523515': 4, 'A5060598258': 13, 'A5031952531': 14, 'A5032061401': 7, 'A5034468528': 39, 'A5065382337': 10, 'A5101689796': 7, 'A5064171835': 16, 'A5061960454': 2, 'A5020296382': 2, 'A5076973801': 3, 'A5018392096': 15, 'A5009103844': 2, 'A5021570361': 2, 'A5004882355': 2, 'A5002085983': 2, 'A5103216912': 2, 'A5021446126': 2, 'A5004342903': 2, 'A5052622584': 2, 'A5112910664': 2, 'A5044313704': 2, 'A5025241331': 2, 'A5020052399': 2, 'A5077614137': 2, 'A5012994685': 2, 'A5073168232': 2, 'A5056256357': 2, 'A5014300312': 3, 'A5073580328': 2, 'A5011698674': 2, 'A5071161877': 3, 'A5032539868': 2, 'A5084891661': 4, 'A5075149019': 3, 'A5023812700': 3, 'A5086956585': 2, 'A5091554009': 2, 'A5081505300': 2, 'A5076235905': 11, 'A5053964476': 3, 'A5022408311': 2, 'A5071983183': 2, 'A5033364470': 6, 'A5007861811': 3, 'A5008417409': 3, 'A5063366956': 2, 'A5069257022': 9, 'A5011732280': 5, 'A5078628299': 2, 'A5083735555': 2, 'A5028165426': 3, 'A5054775817': 3, 'A5110272100': 2, 'A5102875245': 2, 'A5066458064': 2, 'A5101650308': 4, 'A5109728989': 3, 'A5064470161': 11, 'A5069037107': 6, 'A5034108921': 2, 'A5101791346': 2, 'A5070709298': 2, 'A5025756610': 2, 'A5022293526': 2, 'A5059792053': 6, 'A5033547979': 3, 'A5102832863': 2, 'A5090644503': 3, 'A5008178092': 2, 'A5041638381': 6, 'A5017345211': 2, 'A5008519762': 2, 'A5043933405': 2, 'A5042821211': 5, 'A5011700523': 3, 'A5062316983': 2, 'A5012746606': 4, 'A5052605980': 2, 'A5014041950': 9, 'A5022635990': 2, 'A5112221688': 5, 'A5059933477': 2, 'A5010176480': 2, 'A5077490518': 3, 'A5019051904': 2, 'A5006858820': 2, 'A5010616841': 2, 'A5056108178': 3, 'A5031124926': 2, 'A5018828867': 3, 'A5101537420': 3, 'A5069498415': 2, 'A5016952117': 3, 'A5101998685': 2, 'A5007649650': 2, 'A5103244761': 2, 'A5079349226': 2, 'A5042539925': 2, 'A5011916919': 2, 'A5011621738': 2, 'A5041136131': 2, 'A5079144308': 2, 'A5062807811': 2, 'A5046943453': 4, 'A5054225034': 3, 'A5006942960': 3, 'A5077160360': 2, 'A5109447741': 2, 'A5058705054': 3, 'A5008351293': 3, 'A5059731779': 2, 'A5051690097': 2, 'A5009128820': 2, 'A5111383811': 2, 'A5034011439': 2, 'A5014128572': 2, 'A5053016316': 2, 'A5053025298': 2, 'A5037895834': 2, 'A5014455800': 2, 'A5083151508': 4, 'A5025168018': 7, 'A5110328496': 2, 'A5030826237': 2, 'A5056401069': 2, 'A5028125399': 6, 'A5059787882': 14, 'A5070491108': 4, 'A5025218537': 4, 'A5078598841': 3, 'A5069223427': 3, 'A5023292508': 2, 'A5014048759': 2, 'A5025458199': 4, 'A5040472716': 4, 'A5016584087': 3, 'A5080179499': 2, 'A5067141358': 3, 'A5087882430': 5, 'A5035533466': 2, 'A5020378641': 2, 'A5060277811': 3, 'A5014407399': 3, 'A5024396732': 3, 'A5082372443': 2, 'A5069579180': 2, 'A5061488382': 6, 'A5031345752': 2, 'A5061956068': 2, 'A5019815997': 2, 'A5016998074': 3, 'A5024130598': 13, 'A5084965768': 2, 'A5023550565': 8, 'A5065106026': 2, 'A5029565358': 2, 'A5023192409': 3, 'A5031038372': 2, 'A5055452554': 2, 'A5048293280': 10, 'A5028651649': 4, 'A5027261073': 9, 'A5091759851': 16, 'A5065702439': 5, 'A5073961643': 12, 'A5066491651': 3, 'A5009735497': 22, 'A5002164091': 6, 'A5035420634': 5, 'A5076133727': 4, 'A5059162717': 4, 'A5071966488': 3, 'A5073844842': 7, 'A5102763537': 2, 'A5046018227': 2, 'A5027124881': 3, 'A5073901457': 3, 'A5024385868': 2, 'A5034728614': 14, 'A5089319527': 3, 'A5005226838': 3, 'A5102851505': 2, 'A5100350849': 10, 'A5076455112': 5, 'A5070019023': 6, 'A5057710945': 4, 'A5022722543': 10, 'A5088221028': 2, 'A5034680150': 3, 'A5062757270': 3, 'A5053385413': 2, 'A5008207322': 2, 'A5064469011': 2, 'A5043131201': 9, 'A5046480901': 2, 'A5042595041': 2, 'A5049951438': 2, 'A5012172886': 2, 'A5049012090': 2, 'A5060835507': 2, 'A5060505967': 2, 'A5082779675': 2, 'A5011580452': 2, 'A5043728035': 2, 'A5050184396': 2, 'A5018021084': 2, 'A5063188030': 2, 'A5113469293': 2, 'A5013216755': 4, 'A5011216396': 3, 'A5044866528': 2, 'A5002577378': 8, 'A5101571323': 3, 'A5100388218': 2, 'A5101709133': 2, 'A5083649982': 2, 'A5073384203': 2, 'A5071611289': 4, 'A5055360397': 2, 'A5047151336': 5, 'A5010468111': 2, 'A5053217291': 2, 'A5033887103': 3, 'A5101768980': 3, 'A5018493743': 2, 'A5014088619': 12, 'A5080796123': 3, 'A5027639981': 6, 'A5028411525': 3, 'A5030805884': 3, 'A5037695214': 3, 'A5100376896': 2, 'A5010053907': 2, 'A5026258669': 2, 'A5023075601': 5, 'A5024729190': 2, 'A5089560559': 4, 'A5075302056': 6, 'A5072470056': 3, 'A5109466332': 3, 'A5053947754': 3, 'A5045430608': 3, 'A5069791094': 9, 'A5046908604': 52, 'A5000683102': 3, 'A5091271513': 3, 'A5059946729': 3, 'A5052956256': 2, 'A5021314411': 6, 'A5002787525': 2, 'A5006476793': 3, 'A5042551745': 3, 'A5088555912': 3, 'A5074388586': 3, 'A5017467806': 3, 'A5078902586': 3, 'A5035203700': 3, 'A5070121808': 2, 'A5085018241': 15, 'A5041055715': 4, 'A5012091551': 3, 'A5074749541': 2, 'A5015324042': 2, 'A5083563920': 2, 'A5089184161': 2, 'A5048660530': 2, 'A5081581970': 2, 'A5088422764': 2, 'A5073237528': 2, 'A5100340951': 4, 'A5038710898': 2, 'A5084517393': 3, 'A5076145498': 2, 'A5002786759': 2, 'A5102885467': 2, 'A5073231714': 4, 'A5061409964': 2, 'A5060057841': 2, 'A5035622491': 4, 'A5014275083': 2, 'A5001141623': 2, 'A5024307786': 3, 'A5027326281': 2, 'A5020132931': 2, 'A5023383528': 6, 'A5035602511': 3, 'A5055129683': 3, 'A5049176398': 9, 'A5062663565': 32, 'A5033157076': 3, 'A5102757449': 6, 'A5060339045': 2, 'A5091561757': 2, 'A5042016465': 2, 'A5085170826': 2, 'A5101908670': 6, 'A5065034146': 2, 'A5069825601': 2, 'A5100379084': 20, 'A5063638205': 6, 'A5108693795': 5, 'A5004031088': 6, 'A5071477720': 2, 'A5020793872': 3, 'A5085267660': 3, 'A5051023985': 3, 'A5045518349': 2, 'A5003017476': 4, 'A5073313211': 9, 'A5086210209': 14, 'A5050948555': 2, 'A5039125291': 2, 'A5002969950': 2, 'A5048744714': 2, 'A5103234063': 3, 'A5076159734': 8, 'A5054865304': 8, 'A5008288695': 8, 'A5081369567': 2, 'A5091097798': 5, 'A5112456983': 6, 'A5004505276': 6, 'A5084279065': 4, 'A5088617975': 2, 'A5056852711': 5, 'A5044467567': 2, 'A5059724555': 2, 'A5071429578': 2, 'A5000700625': 4, 'A5058794631': 4, 'A5069264465': 2, 'A5051526027': 2, 'A5108098662': 2, 'A5014174145': 4, 'A5068043486': 5, 'A5016127527': 2, 'A5077712580': 5, 'A5032013640': 2, 'A5100387017': 3, 'A5101922590': 3, 'A5061393065': 3, 'A5101934708': 2, 'A5078182007': 2, 'A5036979277': 2, 'A5112164479': 3, 'A5103381564': 4, 'A5056371320': 2, 'A5103106349': 2, 'A5026376235': 4, 'A5066399723': 3, 'A5103213915': 10, 'A5064878466': 2, 'A5046324646': 5, 'A5089506248': 2, 'A5077206304': 3, 'A5010564893': 2, 'A5036446070': 2, 'A5066637071': 2, 'A5019663384': 2, 'A5073158087': 2, 'A5091466289': 3, 'A5087293181': 4, 'A5038461315': 2, 'A5044810664': 4, 'A5087334854': 4, 'A5071832864': 2, 'A5069131942': 2, 'A5000947189': 2, 'A5025530148': 2, 'A5021247635': 2, 'A5102706243': 2, 'A5100358933': 2, 'A5079358020': 23, 'A5040984419': 13, 'A5009926823': 4, 'A5112478704': 5, 'A5082408006': 5, 'A5017431776': 2, 'A5065744347': 4, 'A5004495825': 2, 'A5084984738': 2, 'A5058051316': 8, 'A5044669192': 2, 'A5003827477': 2, 'A5014605453': 4, 'A5004064928': 3, 'A5034956621': 2, 'A5038467328': 8, 'A5090540656': 2, 'A5101796102': 2, 'A5056272341': 2, 'A5037486611': 2, 'A5040126845': 2, 'A5045363195': 3, 'A5034129532': 11, 'A5054443906': 13, 'A5063667378': 2, 'A5081811548': 5, 'A5056354484': 8, 'A5030750866': 5, 'A5065429282': 2, 'A5083032412': 6, 'A5072930140': 8, 'A5070806531': 2, 'A5043585821': 2, 'A5084896543': 35, 'A5112277542': 2, 'A5102980346': 2, 'A5021340867': 2, 'A5110898908': 7, 'A5109540913': 2, 'A5076685799': 4, 'A5016095713': 5, 'A5100361574': 4, 'A5019834167': 6, 'A5081582862': 3, 'A5042745248': 3, 'A5038519232': 10, 'A5101739299': 8, 'A5009674009': 6, 'A5102319914': 2, 'A5034248975': 3, 'A5003697141': 2, 'A5102930558': 2, 'A5045575210': 2, 'A5004220414': 2, 'A5036307421': 2, 'A5072511347': 4, 'A5038367813': 3, 'A5004683145': 5, 'A5033262697': 8, 'A5075070427': 2, 'A5057595868': 6, 'A5034346038': 5, 'A5065414422': 2, 'A5100613969': 3, 'A5042260991': 4, 'A5034913796': 6, 'A5011604176': 6, 'A5028079813': 2, 'A5019858112': 6, 'A5011239732': 2, 'A5080194129': 3, 'A5026558095': 7, 'A5061269767': 4, 'A5082820311': 2, 'A5028252716': 3, 'A5067515150': 4, 'A5081922849': 2, 'A5100367363': 2, 'A5061391892': 2, 'A5072126351': 9, 'A5102923184': 2, 'A5058736405': 2, 'A5028236116': 3, 'A5071542297': 3, 'A5062746868': 2, 'A5100432806': 2, 'A5015272481': 3, 'A5103941965': 3, 'A5065724406': 3, 'A5056923428': 2, 'A5007261929': 2, 'A5056877599': 2, 'A5056748708': 4, 'A5006504723': 4, 'A5041780978': 2, 'A5109137543': 2, 'A5088647455': 4, 'A5061173804': 3, 'A5047188246': 3, 'A5074372343': 5, 'A5058147589': 2, 'A5103452944': 2, 'A5023019678': 2, 'A5076599775': 2, 'A5037207344': 4, 'A5037300629': 3, 'A5020987927': 2, 'A5013902016': 3, 'A5102789400': 2, 'A5010148429': 3, 'A5029837565': 2, 'A5048727377': 4, 'A5029749525': 2, 'A5003617821': 2, 'A5040147060': 2, 'A5064213513': 2, 'A5000626299': 2, 'A5076417303': 2, 'A5070510722': 2, 'A5012064715': 2, 'A5103198381': 2, 'A5050650331': 2, 'A5080043050': 3, 'A5046354027': 2, 'A5034509060': 2, 'A5100333516': 2, 'A5101719486': 2, 'A5103171194': 3, 'A5049875999': 2, 'A5075152768': 2, 'A5100753357': 2, 'A5002590471': 2, 'A5089574660': 2, 'A5011009295': 2, 'A5113818031': 3, 'A5005655700': 2, 'A5017290939': 5, 'A5102990915': 3, 'A5102921460': 2, 'A5090196793': 3, 'A5048606296': 2, 'A5033311412': 2, 'A5072443869': 2, 'A5083893140': 2, 'A5087847973': 2, 'A5026293328': 3, 'A5023538758': 2, 'A5044404041': 2, 'A5030685996': 2, 'A5041006174': 2, 'A5066308873': 2, 'A5056823360': 2, 'A5103146310': 2, 'A5067617335': 2, 'A5065607545': 2, 'A5050705257': 2, 'A5031498810': 2, 'A5027445807': 2, 'A5101732724': 2, 'A5019400360': 2, 'A5004443507': 2, 'A5066663861': 2, 'A5063536695': 2, 'A5102797162': 2, 'A5100350503': 2, 'A5072922547': 2, 'A5051383020': 3, 'A5051596806': 7, 'A5018610428': 7, 'A5036103579': 3, 'A5065104731': 2, 'A5026048440': 3, 'A5021941174': 2, 'A5024051863': 2, 'A5064061448': 2, 'A5108253480': 2, 'A5001443156': 2, 'A5052892856': 6, 'A5102883407': 2, 'A5002187290': 4, 'A5004545610': 5, 'A5100350955': 2, 'A5100620739': 2, 'A5033696194': 2, 'A5006419939': 2, 'A5083068244': 2, 'A5100680948': 25, 'A5067791761': 2, 'A5007823743': 5, 'A5109245200': 2, 'A5112309835': 77, 'A5091887839': 11, 'A5025141452': 2, 'A5101866798': 6, 'A5035612953': 5, 'A5033856151': 7, 'A5080846930': 9, 'A5032415518': 3, 'A5056603005': 3, 'A5075585743': 4, 'A5103176878': 3, 'A5089509071': 4, 'A5077228817': 4, 'A5101803610': 2, 'A5035539982': 2, 'A5014658095': 2, 'A5078379621': 3, 'A5111719474': 3, 'A5063099386': 5, 'A5056913696': 3, 'A5005219368': 5, 'A5021785804': 5, 'A5022382049': 6, 'A5037550701': 3, 'A5088993890': 7, 'A5069767266': 2, 'A5024925085': 3, 'A5056662128': 2, 'A5106026061': 3, 'A5049612210': 8, 'A5101552798': 2, 'A5007355292': 2, 'A5052278550': 7, 'A5043686273': 4, 'A5059667230': 2, 'A5024731704': 2, 'A5067961454': 2, 'A5044783914': 2, 'A5034327826': 3, 'A5006159402': 2, 'A5048471111': 10, 'A5027441885': 2, 'A5070544413': 8, 'A5103488325': 2, 'A5047236098': 4, 'A5082080991': 2, 'A5102024337': 2, 'A5046955571': 4, 'A5113012366': 2, 'A5079887059': 2, 'A5034484072': 2, 'A5077855669': 12, 'A5042850624': 13, 'A5017797502': 3, 'A5049547394': 2, 'A5024544230': 3, 'A5011620686': 2, 'A5019224674': 3, 'A5066659680': 2, 'A5022711233': 2, 'A5046094611': 5, 'A5082510229': 2, 'A5000735215': 2, 'A5003467974': 2, 'A5027931470': 3, 'A5100418924': 2, 'A5049106181': 4, 'A5073349866': 3, 'A5068927917': 3, 'A5032912114': 2, 'A5051151566': 2, 'A5090784869': 4, 'A5049398785': 4, 'A5101967425': 2, 'A5103032366': 2, 'A5013975803': 4, 'A5007038366': 2, 'A5051942308': 2, 'A5084438761': 2, 'A5016751952': 2, 'A5018010486': 4, 'A5113537248': 2, 'A5022698469': 3, 'A5042206244': 2, 'A5060302183': 2, 'A5032431129': 3, 'A5013145810': 2, 'A5100633051': 2, 'A5101402498': 2, 'A5070221432': 6, 'A5007825679': 2, 'A5017065451': 2, 'A5054110799': 2, 'A5091072864': 2, 'A5046719770': 2, 'A5074237334': 2, 'A5005826053': 3, 'A5016964267': 2, 'A5066190233': 2, 'A5003986370': 2, 'A5090631705': 43, 'A5071670501': 3, 'A5021615498': 3, 'A5056091804': 4, 'A5061227329': 2, 'A5078089549': 2, 'A5077841338': 2, 'A5000417348': 2, 'A5004215570': 2, 'A5020387316': 11, 'A5051539367': 2, 'A5082048229': 7, 'A5069623259': 2, 'A5058534097': 27, 'A5011014926': 2, 'A5067625837': 78, 'A5076982741': 4, 'A5081521085': 3, 'A5066122579': 3, 'A5033629153': 2, 'A5000515781': 2, 'A5006793496': 5, 'A5030302493': 3, 'A5032824352': 2, 'A5068630829': 2, 'A5084936290': 8, 'A5035470216': 2, 'A5004209770': 4, 'A5008452854': 12, 'A5038233956': 25, 'A5025717153': 9, 'A5091497538': 4, 'A5108672333': 2, 'A5072653864': 6, 'A5086926559': 6, 'A5034773967': 6, 'A5017602735': 13, 'A5030252017': 3, 'A5076107680': 4, 'A5113501513': 4, 'A5005003721': 2, 'A5005655605': 3, 'A5005219721': 3, 'A5019170728': 7, 'A5011436609': 2, 'A5076298922': 2, 'A5060905224': 15, 'A5017344436': 2, 'A5009433086': 3, 'A5041281882': 2, 'A5003862256': 2, 'A5020024319': 2, 'A5029946497': 7, 'A5005446898': 6, 'A5028731847': 2, 'A5106234642': 3, 'A5039220989': 2, 'A5026945531': 2, 'A5030939830': 2, 'A5041381906': 14, 'A5003388464': 4, 'A5060610138': 5, 'A5052720011': 10, 'A5024445264': 6, 'A5088274459': 2, 'A5054947147': 2, 'A5040748336': 4, 'A5083476756': 6, 'A5026873916': 4, 'A5028696190': 3, 'A5051838456': 15, 'A5087575367': 6, 'A5028571578': 6, 'A5044072805': 5, 'A5067816317': 6, 'A5051870388': 7, 'A5012914007': 6, 'A5072021922': 2, 'A5087319858': 4, 'A5028357047': 2, 'A5026568539': 3, 'A5084102683': 3, 'A5008425712': 2, 'A5086803769': 2, 'A5014915335': 2, 'A5053550738': 7, 'A5009797333': 2, 'A5085220255': 3, 'A5049206353': 2, 'A5080744092': 6, 'A5019012827': 5, 'A5053185418': 4, 'A5056903032': 2, 'A5091626620': 2, 'A5006024585': 2, 'A5032500066': 5, 'A5035113554': 6, 'A5003148701': 2, 'A5027563274': 4, 'A5029566645': 3, 'A5084304675': 2, 'A5012989554': 2, 'A5054806059': 6, 'A5021398510': 2, 'A5088288377': 3, 'A5005635678': 4, 'A5085681303': 2, 'A5082230764': 2, 'A5019750784': 2, 'A5000465145': 2, 'A5057284688': 2, 'A5058656783': 3, 'A5058862746': 2, 'A5087734969': 4, 'A5013359305': 2, 'A5035015117': 4, 'A5074784948': 3, 'A5047810054': 5, 'A5051554812': 2, 'A5052035076': 11, 'A5101774258': 2, 'A5005013018': 2, 'A5022676925': 4, 'A5057286641': 6, 'A5026663035': 2, 'A5058670333': 2, 'A5043903842': 2, 'A5011861720': 9, 'A5003785096': 2, 'A5058584640': 3, 'A5017234474': 2, 'A5071447827': 6, 'A5100338426': 2, 'A5101415420': 2, 'A5074661038': 2, 'A5086361853': 2, 'A5003218773': 2, 'A5026329605': 2, 'A5082623356': 3, 'A5031169711': 2, 'A5043881240': 5, 'A5035869930': 7, 'A5066306725': 2, 'A5074700845': 2, 'A5002420393': 2, 'A5068032162': 2, 'A5090202672': 2, 'A5052648442': 2, 'A5100707314': 2, 'A5080156715': 2, 'A5084047654': 2, 'A5091299318': 2, 'A5103060010': 2, 'A5068170110': 2, 'A5074060568': 2, 'A5007784849': 8, 'A5039211833': 2, 'A5065609400': 4, 'A5011779415': 2, 'A5009074425': 2, 'A5056016326': 5, 'A5083957005': 2, 'A5084762812': 2, 'A5108005930': 2, 'A5061359597': 2, 'A5076503587': 2, 'A5082274535': 2, 'A5044971636': 2, 'A5047919716': 3, 'A5049035119': 2, 'A5007837572': 2, 'A5078505870': 2, 'A5103494020': 2, 'A5030406488': 7, 'A5110110875': 2, 'A5027268399': 2, 'A5072188490': 3, 'A5043139725': 2, 'A5110770632': 60, 'A5061166351': 3, 'A5110738678': 7, 'A5053579952': 3, 'A5108808440': 2, 'A5088329733': 2, 'A5066079967': 2, 'A5002511145': 52, 'A5009459441': 2, 'A5028332100': 4, 'A5058347768': 22, 'A5086281836': 2, 'A5008049737': 11, 'A5039921154': 2, 'A5010860210': 7, 'A5014943618': 9, 'A5008935489': 2, 'A5004162519': 4, 'A5028830848': 5, 'A5019479397': 7, 'A5031717036': 3, 'A5053526943': 3, 'A5051290649': 2, 'A5052911565': 11, 'A5102794635': 6, 'A5035853275': 4, 'A5052080106': 2, 'A5036440088': 4, 'A5023659945': 6, 'A5058730535': 2, 'A5086852785': 9, 'A5058029787': 3, 'A5033989239': 3, 'A5049314735': 3, 'A5052809986': 3, 'A5070909466': 3, 'A5101565392': 3, 'A5007254252': 15, 'A5087624772': 3, 'A5051041680': 2, 'A5036826868': 3, 'A5058166569': 5, 'A5073214764': 4, 'A5023373083': 4, 'A5060331377': 2, 'A5015912945': 4, 'A5056005467': 2, 'A5063600631': 3, 'A5050328911': 2, 'A5033685419': 5, 'A5101707032': 5, 'A5001601340': 5, 'A5037223745': 4, 'A5001108821': 5, 'A5048796385': 5, 'A5088033678': 5, 'A5078508030': 5, 'A5081749318': 7, 'A5018708118': 4, 'A5006360335': 5, 'A5108132519': 4, 'A5048876983': 5, 'A5081762691': 15, 'A5019085667': 6, 'A5091768073': 5, 'A5108738107': 5, 'A5041972281': 3, 'A5082479626': 3, 'A5044389898': 3, 'A5011452937': 2, 'A5065819736': 7, 'A5023036036': 2, 'A5016757424': 2, 'A5031538891': 7, 'A5072404376': 2, 'A5067075596': 2, 'A5086711289': 4, 'A5007672076': 2, 'A5003389457': 2, 'A5000294737': 2, 'A5054660259': 2, 'A5049120233': 3, 'A5035572398': 2, 'A5081736253': 3, 'A5040892490': 3, 'A5083758600': 4, 'A5101876770': 2, 'A5023153404': 4, 'A5038585908': 4, 'A5023536673': 2, 'A5021874009': 13, 'A5108519514': 2, 'A5032315661': 3, 'A5016827578': 3, 'A5101993753': 2, 'A5053505596': 2, 'A5027042078': 2, 'A5018278462': 2, 'A5015332874': 2, 'A5102104312': 2, 'A5100401475': 2, 'A5034163547': 4, 'A5087795032': 2, 'A5072594942': 3, 'A5046305810': 4, 'A5044470378': 2, 'A5021630235': 2, 'A5109007414': 2, 'A5058789776': 2, 'A5036987573': 2, 'A5063771384': 2, 'A5070589969': 2, 'A5063979721': 2, 'A5074340783': 2, 'A5021463856': 2, 'A5037697064': 2, 'A5057889658': 2, 'A5001458803': 2, 'A5035568207': 2, 'A5008880747': 2, 'A5008079274': 2, 'A5042104024': 2, 'A5040538884': 2, 'A5039486064': 2, 'A5039495019': 2, 'A5061857062': 2, 'A5031236554': 3, 'A5016156588': 5, 'A5027933368': 4, 'A5076316802': 27, 'A5021701251': 5, 'A5019878487': 2, 'A5077115405': 2, 'A5077913776': 2, 'A5029427244': 3, 'A5038991027': 24, 'A5064885281': 2, 'A5002059914': 2, 'A5021604302': 2, 'A5069243328': 7, 'A5027240302': 7, 'A5067032971': 3, 'A5103175261': 5, 'A5100372152': 2, 'A5075972332': 2, 'A5027855219': 8, 'A5027859155': 6, 'A5071390808': 3, 'A5002020728': 2, 'A5040027314': 10, 'A5051050719': 2, 'A5050023117': 2, 'A5109806868': 3, 'A5108558234': 4, 'A5113794399': 3, 'A5024542656': 2, 'A5082644950': 7, 'A5076057781': 3, 'A5017175274': 2, 'A5063459703': 2, 'A5041405652': 2, 'A5103071668': 4, 'A5068694242': 2, 'A5032756299': 2, 'A5084146359': 2, 'A5010571732': 2, 'A5091767278': 4, 'A5041641409': 2, 'A5031626892': 2, 'A5034851126': 2, 'A5002735772': 9, 'A5070078178': 3, 'A5025596419': 2, 'A5084891341': 2, 'A5074089902': 11, 'A5055298686': 2, 'A5011309664': 2, 'A5022153074': 2, 'A5046960097': 2, 'A5090570042': 2, 'A5061970875': 7, 'A5054436949': 3, 'A5068201653': 4, 'A5081361660': 5, 'A5016798921': 4, 'A5058884774': 4, 'A5011499597': 3, 'A5040467938': 3, 'A5051320860': 2, 'A5017817794': 2, 'A5056680990': 2, 'A5001066749': 2, 'A5090935890': 2, 'A5111226619': 2, 'A5049638480': 2, 'A5004484776': 2, 'A5026104258': 2, 'A5084360449': 2, 'A5103221858': 5, 'A5072504388': 3, 'A5009047696': 7, 'A5078679591': 2, 'A5102146946': 2, 'A5060442004': 2, 'A5108821623': 2, 'A5080105491': 3, 'A5100416711': 4, 'A5000092386': 3, 'A5044459771': 3, 'A5028044717': 2, 'A5084047386': 2, 'A5077694971': 3, 'A5027027109': 2, 'A5101528477': 2, 'A5001591540': 2, 'A5049851091': 2, 'A5103446926': 2, 'A5078099869': 2, 'A5066650050': 2, 'A5032005702': 2, 'A5054397603': 2, 'A5068238985': 4, 'A5018696141': 2, 'A5029559269': 2, 'A5032602392': 20, 'A5051100399': 7, 'A5019453094': 17, 'A5101621594': 2, 'A5047748977': 2, 'A5074519477': 2, 'A5042196399': 2, 'A5003587457': 2, 'A5074424615': 7, 'A5020127161': 2, 'A5005632516': 4, 'A5036815084': 2, 'A5061890573': 3, 'A5057709084': 2, 'A5039046293': 2, 'A5076092565': 3, 'A5100510934': 4, 'A5012092057': 6, 'A5014790206': 4, 'A5004988945': 4, 'A5022704493': 4, 'A5072254967': 4, 'A5064995480': 4, 'A5102827377': 2, 'A5076996627': 3, 'A5032718192': 2, 'A5071048934': 4, 'A5084177841': 4, 'A5045125183': 4, 'A5021751767': 2, 'A5055646750': 3, 'A5014329318': 2, 'A5058671886': 2, 'A5081110905': 2, 'A5049093067': 3, 'A5009456940': 2, 'A5055751248': 2, 'A5067902287': 6, 'A5058475919': 3, 'A5012353027': 2, 'A5009397866': 2, 'A5050972850': 3, 'A5059509038': 3, 'A5031343625': 3, 'A5081808595': 2, 'A5103042494': 41, 'A5031916507': 5, 'A5080792075': 2, 'A5043862617': 3, 'A5014093383': 2, 'A5030594162': 5, 'A5075802725': 3, 'A5070072844': 3, 'A5073166556': 4, 'A5017040382': 2, 'A5074043712': 3, 'A5031955814': 27, 'A5036140366': 3, 'A5102890157': 3, 'A5071749890': 3, 'A5088272346': 3, 'A5108215360': 4, 'A5110046943': 2, 'A5065882969': 3, 'A5054976458': 2, 'A5032304399': 4, 'A5009057782': 2, 'A5038088191': 5, 'A5018222452': 4, 'A5077470909': 16, 'A5044320951': 3, 'A5040470434': 2, 'A5112779500': 3, 'A5050578240': 3, 'A5002626271': 3, 'A5048953880': 2, 'A5054704736': 2, 'A5006805259': 3, 'A5036322364': 23, 'A5002784136': 10, 'A5068168154': 3, 'A5100684663': 2, 'A5013501260': 2, 'A5100435146': 3, 'A5037865389': 2, 'A5063347762': 3, 'A5009836428': 3, 'A5089334558': 14, 'A5080059506': 4, 'A5080532529': 6, 'A5066291615': 3, 'A5019902254': 2, 'A5011347521': 2, 'A5058835700': 3, 'A5082871870': 3, 'A5088529118': 3, 'A5020229584': 3, 'A5076073500': 2, 'A5100891241': 2, 'A5059632022': 2, 'A5103083233': 2, 'A5050954769': 2, 'A5103067148': 2, 'A5076040849': 2, 'A5075633444': 4, 'A5028717824': 4, 'A5083939962': 3, 'A5088276720': 3, 'A5051581382': 4, 'A5100777792': 3, 'A5004230429': 2, 'A5104492347': 2, 'A5026514464': 2, 'A5056106335': 21, 'A5034311572': 8, 'A5062680873': 4, 'A5038555339': 2, 'A5103582594': 3, 'A5055973075': 31, 'A5057984557': 2, 'A5030041689': 2, 'A5044362151': 4, 'A5016983952': 4, 'A5050710342': 3, 'A5110010656': 2, 'A5060960413': 2, 'A5015224456': 4, 'A5029285647': 2, 'A5033714667': 2, 'A5068960692': 17, 'A5087845868': 5, 'A5079822409': 5, 'A5063980066': 2, 'A5007208536': 2, 'A5036034260': 6, 'A5091756384': 2, 'A5073403497': 2, 'A5057764670': 3, 'A5065811299': 4, 'A5086938626': 2, 'A5003402537': 2, 'A5019268168': 2, 'A5075965984': 2, 'A5012004614': 3, 'A5103295738': 2, 'A5080394708': 3, 'A5071203255': 2, 'A5058989081': 2, 'A5087861219': 7, 'A5000943764': 2, 'A5012369964': 2, 'A5064543023': 4, 'A5031292616': 4, 'A5052376000': 2, 'A5019872697': 3, 'A5048601378': 3, 'A5040077936': 3, 'A5009617157': 2, 'A5005092156': 3, 'A5102878947': 2, 'A5027911643': 3, 'A5068525348': 2, 'A5018069765': 2, 'A5101887110': 6, 'A5020490780': 2, 'A5008203685': 2, 'A5028472563': 2, 'A5070808813': 2, 'A5029930130': 2, 'A5110467586': 2, 'A5011491152': 2, 'A5089339007': 2, 'A5084835559': 2, 'A5024577194': 2, 'A5077368412': 2, 'A5050004769': 2, 'A5052038898': 2, 'A5073865249': 2, 'A5006547973': 2, 'A5046878011': 2, 'A5065237354': 2, 'A5037927272': 3, 'A5059708665': 4, 'A5050252738': 3, 'A5052324110': 2, 'A5068300336': 2, 'A5088896426': 2, 'A5011948463': 2, 'A5089839147': 2, 'A5113712540': 2, 'A5009404760': 2, 'A5067676644': 2, 'A5063934076': 3, 'A5034106354': 2, 'A5087876427': 2, 'A5086189297': 2, 'A5066189343': 2, 'A5034146076': 2, 'A5064162753': 2, 'A5053127914': 2, 'A5033370951': 2, 'A5109502776': 2, 'A5002073039': 3, 'A5019401539': 3, 'A5103135809': 4, 'A5027925250': 2, 'A5010419748': 4, 'A5038947564': 4, 'A5049279805': 2, 'A5060687985': 6, 'A5038882105': 3, 'A5056358363': 2, 'A5101651954': 2, 'A5062591661': 2, 'A5001266193': 3, 'A5059848519': 2, 'A5083923302': 2, 'A5026488664': 2, 'A5008478183': 2, 'A5067726453': 2, 'A5070913945': 3, 'A5084686808': 3, 'A5048230490': 3, 'A5001420573': 2, 'A5081756270': 2, 'A5020926211': 4, 'A5077992672': 2, 'A5080193434': 2, 'A5039330391': 2, 'A5016094459': 2, 'A5018339380': 3, 'A5025964235': 10, 'A5038523871': 2, 'A5080791781': 139, 'A5064056113': 5, 'A5030925103': 7, 'A5082473613': 12, 'A5052726702': 24, 'A5055962146': 3, 'A5026651576': 2, 'A5108821366': 2, 'A5082456527': 6, 'A5084771969': 6, 'A5016939864': 6, 'A5082111905': 3, 'A5075829592': 2, 'A5003124205': 2, 'A5070114879': 7, 'A5057732526': 2, 'A5063229424': 3, 'A5029567259': 7, 'A5009649878': 7, 'A5089476192': 3, 'A5059686380': 5, 'A5112780559': 4, 'A5088201078': 6, 'A5109860511': 2, 'A5043451188': 2, 'A5109910625': 2, 'A5060469176': 3, 'A5065393757': 9, 'A5060431982': 4, 'A5027337265': 2, 'A5042975485': 4, 'A5069334537': 4, 'A5032010255': 2, 'A5075955866': 3, 'A5026619205': 3, 'A5054557062': 2, 'A5075756309': 16, 'A5043621466': 6, 'A5039493399': 2, 'A5024842056': 5, 'A5018158882': 10, 'A5109041474': 2, 'A5051563547': 2, 'A5029293919': 2, 'A5050883930': 2, 'A5064420079': 2, 'A5060541841': 14, 'A5069417886': 2, 'A5033107100': 3, 'A5005301387': 2, 'A5013342472': 5, 'A5029019200': 7, 'A5020702662': 6, 'A5061111274': 2, 'A5101164549': 3, 'A5076962474': 2, 'A5103098572': 2, 'A5069937773': 4, 'A5007303016': 2, 'A5105509796': 6, 'A5078179152': 3, 'A5033456334': 2, 'A5007885685': 4, 'A5036233384': 8, 'A5112016478': 8, 'A5076845855': 3, 'A5036647651': 2, 'A5100643133': 3, 'A5030464428': 3, 'A5014394213': 13, 'A5101722692': 2, 'A5021657086': 5, 'A5101992030': 3, 'A5073853084': 2, 'A5018893896': 7, 'A5077390169': 3, 'A5081749378': 3, 'A5028626457': 4, 'A5065143196': 2, 'A5052673937': 2, 'A5066039938': 3, 'A5053541912': 5, 'A5088016260': 2, 'A5007830440': 3, 'A5046786525': 2, 'A5067477814': 3, 'A5089031824': 2, 'A5108695718': 2, 'A5076687639': 2, 'A5006572707': 2, 'A5059880235': 2, 'A5003418485': 3, 'A5033787208': 2, 'A5025201374': 4, 'A5055795427': 2, 'A5001196193': 2, 'A5080994989': 2, 'A5012109626': 2, 'A5112789623': 2, 'A5053797937': 2, 'A5082861306': 2, 'A5050162385': 2, 'A5112752610': 7, 'A5089333674': 2, 'A5005974550': 2, 'A5009398199': 2, 'A5031364164': 2, 'A5064834013': 3, 'A5030410921': 2, 'A5005703077': 2, 'A5024011571': 2, 'A5026396216': 2, 'A5032997049': 2, 'A5025342513': 2, 'A5089807699': 2, 'A5046944655': 3, 'A5068328730': 2, 'A5026492466': 3, 'A5009461324': 3, 'A5100740602': 2, 'A5087454950': 2, 'A5076242927': 3, 'A5105986872': 2, 'A5102971731': 2, 'A5041285418': 2, 'A5007861624': 7, 'A5099111335': 64, 'A5102903629': 10, 'A5083865603': 2, 'A5063465602': 2, 'A5081728722': 2, 'A5013564127': 2, 'A5111459905': 3, 'A5086875492': 2, 'A5014429132': 4, 'A5014360828': 2, 'A5080087902': 8, 'A5051928392': 2, 'A5077310477': 2, 'A5039638848': 2, 'A5042978135': 2, 'A5056348548': 2, 'A5110142999': 2, 'A5051745258': 2, 'A5022372948': 2, 'A5051768325': 7, 'A5036780061': 19, 'A5029499294': 7, 'A5066733214': 14, 'A5007418876': 4, 'A5112799299': 3, 'A5109524574': 2, 'A5087629528': 4, 'A5112093875': 2, 'A5034461489': 3, 'A5028493599': 3, 'A5000738730': 2, 'A5074565549': 2, 'A5084759791': 3, 'A5050671678': 3, 'A5007577230': 3, 'A5044640514': 5, 'A5061851752': 3, 'A5058414644': 3, 'A5062253481': 13, 'A5074597914': 4, 'A5052048365': 9, 'A5015419380': 5, 'A5016109670': 6, 'A5112332257': 2, 'A5025205227': 2, 'A5050932373': 3, 'A5064577132': 5, 'A5053359378': 5, 'A5069346030': 2, 'A5101891152': 4, 'A5101888104': 2, 'A5003239047': 2, 'A5103873055': 6, 'A5100447691': 5, 'A5101513249': 3, 'A5100449791': 2, 'A5083477814': 7, 'A5080191195': 2, 'A5083289746': 2, 'A5009722403': 2, 'A5019568596': 5, 'A5030706487': 5, 'A5009764942': 2, 'A5006206163': 2, 'A5086558424': 5, 'A5065295188': 9, 'A5002466062': 3, 'A5074217949': 2, 'A5037251749': 3, 'A5108224935': 5, 'A5081070195': 5, 'A5103180349': 5, 'A5088428969': 7, 'A5020092544': 2, 'A5053594805': 6, 'A5068340465': 2, 'A5024562387': 2, 'A5010626848': 7, 'A5081871525': 7, 'A5005096721': 4, 'A5072758745': 2, 'A5088590161': 2, 'A5077381667': 3, 'A5113968865': 3, 'A5006661033': 6, 'A5112620374': 3, 'A5057061128': 2, 'A5077215501': 3, 'A5075987993': 2, 'A5100442044': 2, 'A5016902194': 4, 'A5029940839': 5, 'A5081038789': 4, 'A5045288622': 2, 'A5039815972': 2, 'A5012971694': 2, 'A5005997281': 4, 'A5039966740': 2, 'A5047380888': 9, 'A5041689299': 2, 'A5054123046': 2, 'A5100380870': 2, 'A5047918106': 3, 'A5000577985': 2, 'A5003082850': 2, 'A5013844832': 3, 'A5067679161': 5, 'A5020788604': 2, 'A5017013518': 2, 'A5050309466': 2, 'A5111731660': 4, 'A5063267934': 2, 'A5011455884': 2, 'A5112344937': 2, 'A5048204767': 2, 'A5014018142': 2, 'A5001401596': 3, 'A5007305440': 3, 'A5083919055': 3, 'A5091891085': 2, 'A5043276931': 2, 'A5010739172': 2, 'A5078821451': 2, 'A5052196188': 2, 'A5085643937': 2, 'A5027145062': 2, 'A5034507822': 5, 'A5100727390': 2, 'A5079244248': 6, 'A5100459797': 2, 'A5071586190': 2, 'A5070509173': 2, 'A5025585492': 2, 'A5056775125': 2, 'A5027666533': 2, 'A5003404885': 2, 'A5048592784': 2, 'A5103034633': 2, 'A5066376112': 2, 'A5100353347': 2, 'A5050710435': 2, 'A5083232991': 2, 'A5103101043': 2, 'A5064698574': 2, 'A5100329931': 2, 'A5002104655': 3, 'A5100444820': 2, 'A5039885663': 2, 'A5038285062': 2, 'A5007900235': 2, 'A5112819277': 3, 'A5069305279': 2, 'A5060107740': 2, 'A5078153382': 2, 'A5058920438': 2, 'A5003322306': 2, 'A5086706224': 6, 'A5005339370': 2, 'A5080575294': 14, 'A5072495084': 4, 'A5112877229': 2, 'A5100365157': 2, 'A5026944066': 2, 'A5004836032': 2, 'A5056978785': 2, 'A5067073060': 5, 'A5028862815': 2, 'A5056106270': 2, 'A5004047476': 2, 'A5029703012': 2, 'A5003660402': 2, 'A5027944720': 2, 'A5090968735': 2, 'A5040994034': 2, 'A5090216634': 2, 'A5045958113': 2, 'A5057976295': 2, 'A5001716299': 2, 'A5042642891': 2, 'A5057805246': 4, 'A5044211016': 3, 'A5054719860': 2, 'A5025242731': 2, 'A5091751818': 4, 'A5044191812': 2, 'A5051763432': 2, 'A5020028434': 2, 'A5058730283': 2, 'A5069505373': 2, 'A5027145422': 2, 'A5035975032': 8, 'A5006428406': 3, 'A5084195072': 50, 'A5073215248': 4, 'A5077767228': 3, 'A5024870077': 2, 'A5029462628': 7, 'A5100694244': 6, 'A5075964389': 6, 'A5028808219': 17, 'A5028260055': 4, 'A5073006299': 34, 'A5100633973': 4, 'A5063436262': 3, 'A5087812453': 2, 'A5082317196': 8, 'A5000798681': 3, 'A5010152619': 20, 'A5100716709': 4, 'A5020981025': 2, 'A5067640436': 2, 'A5020241070': 2, 'A5101520942': 4, 'A5048353325': 2, 'A5037263029': 2, 'A5037563871': 2, 'A5057500982': 3, 'A5100440326': 9, 'A5014350811': 4, 'A5086228116': 3, 'A5072760035': 4, 'A5081563886': 2, 'A5064296464': 17, 'A5007726637': 4, 'A5028791879': 3, 'A5070515519': 13, 'A5074603286': 6, 'A5100329996': 34, 'A5038668215': 10, 'A5037942269': 3, 'A5053611525': 2, 'A5084755916': 2, 'A5069969191': 2, 'A5063696855': 72, 'A5003799782': 4, 'A5003563112': 2, 'A5100669278': 2, 'A5023250445': 2, 'A5100365484': 2, 'A5101696592': 2, 'A5020953714': 2, 'A5087920747': 2, 'A5110579339': 2, 'A5088460626': 10, 'A5025983925': 2, 'A5061187299': 8, 'A5102008962': 2, 'A5005460332': 3, 'A5011200911': 2, 'A5016080094': 5, 'A5014628588': 2, 'A5071246801': 2, 'A5071653402': 3, 'A5002053547': 2, 'A5101466867': 2, 'A5026159346': 5, 'A5031854980': 2, 'A5035103871': 3, 'A5079887660': 3, 'A5100437308': 3, 'A5051813406': 2, 'A5018382426': 3, 'A5063198364': 3, 'A5101381902': 2, 'A5026664462': 2, 'A5101614443': 2, 'A5113969216': 2, 'A5052522246': 2, 'A5057916222': 2, 'A5059329724': 2, 'A5019019685': 2, 'A5100684991': 3, 'A5090417160': 3, 'A5105788983': 3, 'A5021983750': 7, 'A5017086331': 2, 'A5024147198': 2, 'A5077075529': 3, 'A5100644375': 2, 'A5088090565': 3, 'A5078276127': 2, 'A5110052525': 3, 'A5108550461': 3, 'A5100443072': 5, 'A5032036023': 2, 'A5004517421': 2, 'A5089563221': 2, 'A5100343991': 2, 'A5056574071': 2, 'A5020827468': 9, 'A5072482402': 2, 'A5018259479': 3, 'A5000603579': 3, 'A5058093270': 2, 'A5100720510': 2, 'A5100372134': 2, 'A5049692154': 2, 'A5102941555': 2, 'A5009127073': 2, 'A5049651324': 2, 'A5051135031': 2, 'A5113732766': 2, 'A5029458848': 10, 'A5002409125': 2, 'A5107030496': 2, 'A5067139014': 6, 'A5103458575': 2, 'A5077730832': 2, 'A5078964812': 2, 'A5017499347': 2, 'A5055176118': 2, 'A5100638533': 2, 'A5027540543': 2, 'A5111703672': 3, 'A5100416750': 2, 'A5078635761': 2, 'A5014866889': 2, 'A5060171073': 2, 'A5059650009': 2, 'A5074252142': 2, 'A5021434848': 2, 'A5058557954': 2, 'A5113580468': 3, 'A5100410733': 2, 'A5021537779': 2, 'A5028332454': 3, 'A5013891163': 2, 'A5045720664': 2, 'A5100377147': 5, 'A5101593330': 2, 'A5088106447': 2, 'A5100356596': 3, 'A5008337899': 3, 'A5061304329': 2, 'A5029998682': 2, 'A5046618429': 2, 'A5100643265': 2, 'A5056369725': 4, 'A5102800569': 3, 'A5100340373': 2, 'A5011384237': 4, 'A5082744381': 2, 'A5100356583': 2, 'A5086358285': 2, 'A5101942006': 2, 'A5100635692': 2, 'A5100662579': 2, 'A5032499168': 3, 'A5017296453': 2, 'A5105759393': 2, 'A5081848543': 2, 'A5101758238': 2, 'A5108392430': 2, 'A5085637252': 2, 'A5089195488': 2, 'A5042982107': 2, 'A5100511737': 2, 'A5021662942': 2, 'A5100389366': 2, 'A5042676951': 3, 'A5005421447': 153, 'A5004353237': 4, 'A5063901724': 3, 'A5100709340': 8, 'A5100746010': 3, 'A5100346266': 3, 'A5030965866': 3, 'A5045116626': 2, 'A5034162160': 8, 'A5100324098': 15, 'A5010146234': 2, 'A5028640123': 2, 'A5046609009': 2, 'A5100397455': 3, 'A5010441587': 2, 'A5112496743': 4, 'A5062979221': 5, 'A5103099928': 14, 'A5004882141': 12, 'A5008666077': 15, 'A5069837273': 7, 'A5100395035': 8, 'A5087818121': 4, 'A5086636630': 3, 'A5083556808': 2, 'A5100351623': 2, 'A5034967388': 11, 'A5104247245': 3, 'A5100395059': 2, 'A5086533220': 4, 'A5073759029': 5, 'A5090036167': 4, 'A5043617790': 15, 'A5100681020': 5, 'A5078622343': 17, 'A5007642977': 2, 'A5020316185': 4, 'A5012707925': 4, 'A5040872496': 3, 'A5103237662': 2, 'A5100735704': 4, 'A5100944466': 6, 'A5100343712': 2, 'A5003921452': 2, 'A5084801674': 2, 'A5066788602': 2, 'A5052761636': 13, 'A5009662283': 2, 'A5086960085': 2, 'A5085685227': 2, 'A5002831957': 2, 'A5101698840': 3, 'A5051925942': 5, 'A5089404640': 3, 'A5003728286': 2, 'A5100423029': 3, 'A5081346568': 4, 'A5100381753': 4, 'A5059301467': 2, 'A5075821589': 2, 'A5005868375': 2, 'A5087043856': 10, 'A5014945486': 3, 'A5091518967': 4, 'A5101433884': 8, 'A5101677993': 2, 'A5017393243': 2, 'A5016943900': 2, 'A5015819673': 2, 'A5100354377': 7, 'A5081047759': 2, 'A5101766825': 2, 'A5056410851': 2, 'A5057909195': 2, 'A5057678172': 2, 'A5107836252': 8, 'A5083330656': 6, 'A5039748491': 4, 'A5082181536': 4, 'A5003222421': 9, 'A5055469774': 2, 'A5045511121': 4, 'A5001469325': 2, 'A5021881939': 2, 'A5029635562': 2, 'A5051332325': 2, 'A5011349177': 2, 'A5031603082': 2, 'A5100668035': 8, 'A5035525018': 2, 'A5026837722': 3, 'A5038612499': 2, 'A5091017287': 4, 'A5038197511': 4, 'A5070954480': 3, 'A5012251323': 2, 'A5024040521': 2, 'A5059021626': 2, 'A5040877128': 2, 'A5101677851': 2, 'A5010961909': 4, 'A5100713381': 2, 'A5100624237': 3, 'A5032446414': 4, 'A5011488839': 3, 'A5090730336': 7, 'A5100432811': 2, 'A5100728275': 2, 'A5100460272': 2, 'A5011439390': 4, 'A5003076238': 3, 'A5019302880': 3, 'A5065328976': 2, 'A5072443458': 2, 'A5081767617': 2, 'A5103246248': 2, 'A5063830804': 2, 'A5006963606': 2, 'A5010510537': 2, 'A5073166534': 4, 'A5101485989': 2, 'A5018129441': 2, 'A5113503467': 2, 'A5010111782': 2, 'A5025230449': 3, 'A5100393445': 16, 'A5028755343': 3, 'A5101356732': 2, 'A5008082945': 2, 'A5068260993': 5, 'A5103239171': 3, 'A5102791047': 2, 'A5068554467': 2, 'A5101560470': 2, 'A5112111335': 2, 'A5108049205': 2, 'A5101967530': 2, 'A5045749444': 2, 'A5079438532': 2, 'A5100780852': 2, 'A5101789941': 2, 'A5067943001': 2, 'A5100432809': 2, 'A5000530436': 3, 'A5081863779': 2, 'A5025771213': 2, 'A5003195825': 2, 'A5046254742': 2, 'A5100734874': 3, 'A5100447295': 2, 'A5010252124': 2, 'A5032941294': 2, 'A5071340306': 2, 'A5090287059': 2, 'A5060280374': 2, 'A5002207978': 3, 'A5025452586': 2, 'A5006167228': 2, 'A5005953865': 2, 'A5100669677': 5, 'A5027955157': 2, 'A5038158438': 6, 'A5058699852': 2, 'A5091518548': 2, 'A5080646275': 2, 'A5017470593': 3, 'A5043985975': 3, 'A5102759885': 2, 'A5038635965': 4, 'A5003434396': 5, 'A5071086224': 2, 'A5086305122': 2, 'A5102929628': 2, 'A5024666296': 2, 'A5100668696': 2, 'A5100630042': 2, 'A5100669855': 2, 'A5086084090': 2, 'A5101656987': 3, 'A5033788363': 2, 'A5100699701': 2, 'A5034805517': 2, 'A5026604447': 2, 'A5009122629': 2, 'A5102740013': 2, 'A5103096040': 2, 'A5076569669': 2, 'A5013984574': 2, 'A5030539003': 2, 'A5103328740': 2, 'A5003324011': 2, 'A5027382514': 2, 'A5031819155': 3, 'A5029797380': 2, 'A5074342179': 3, 'A5100407758': 2, 'A5076096705': 2, 'A5009239895': 2, 'A5100416650': 2, 'A5045007670': 2, 'A5069988750': 3, 'A5014828450': 2, 'A5109107711': 2, 'A5013086798': 2, 'A5036721964': 2, 'A5108777050': 2, 'A5108501726': 2, 'A5033952903': 2, 'A5113493572': 9, 'A5101418018': 2, 'A5066550520': 2, 'A5030108908': 3, 'A5044212436': 16, 'A5100726028': 5, 'A5100320371': 3, 'A5029187649': 2, 'A5101710557': 5, 'A5060246267': 11, 'A5027518114': 2, 'A5078118326': 5, 'A5104157012': 3, 'A5026927944': 2, 'A5100335921': 5, 'A5004787718': 2, 'A5100385833': 2, 'A5067157651': 2, 'A5022096691': 8, 'A5100616362': 2, 'A5070559820': 3, 'A5002195215': 3, 'A5077639499': 2, 'A5035894939': 3, 'A5012322217': 3, 'A5031220156': 4, 'A5056636594': 2, 'A5075449623': 2, 'A5090460555': 2, 'A5043371507': 2, 'A5102559729': 2, 'A5100530067': 2, 'A5100624671': 3, 'A5041099730': 2, 'A5028397253': 2, 'A5102030180': 2, 'A5028107284': 2, 'A5086759793': 2, 'A5077017876': 2, 'A5062375227': 2, 'A5027060330': 2, 'A5019332166': 2, 'A5025846619': 2, 'A5101475022': 2, 'A5000409439': 2, 'A5046268611': 3, 'A5069259977': 32, 'A5077219012': 3, 'A5086762756': 5, 'A5100771200': 33, 'A5070856186': 2, 'A5056608045': 2, 'A5088617561': 3, 'A5065822688': 2, 'A5037698996': 3, 'A5050716607': 7, 'A5072540013': 4, 'A5066649557': 3, 'A5091086588': 2, 'A5020009700': 3, 'A5103196489': 2, 'A5070839877': 2, 'A5052575309': 2, 'A5100342844': 2, 'A5008423326': 2, 'A5033823001': 2, 'A5047556152': 5, 'A5025634789': 2, 'A5100781716': 2, 'A5100388267': 2, 'A5101087771': 2, 'A5049422969': 3, 'A5008787905': 7, 'A5004860814': 2, 'A5113690589': 2, 'A5102106475': 2, 'A5100404643': 2, 'A5042561977': 2, 'A5100440745': 17, 'A5100445419': 2, 'A5045573429': 2, 'A5038553899': 2, 'A5081490882': 2, 'A5009640255': 4, 'A5087528940': 18, 'A5054166615': 2, 'A5073474951': 8, 'A5001070512': 4, 'A5048589475': 4, 'A5040251515': 4, 'A5008442261': 6, 'A5055010081': 4, 'A5023408487': 3, 'A5062920747': 2, 'A5100697058': 3, 'A5113434075': 2, 'A5026370090': 9, 'A5062908973': 3, 'A5080604809': 2, 'A5100416084': 2, 'A5104857852': 2, 'A5001799772': 3, 'A5003147483': 2, 'A5066528103': 3, 'A5061375468': 2, 'A5043993273': 2, 'A5031547047': 2, 'A5006671061': 2, 'A5045773507': 2, 'A5077833846': 2, 'A5025328314': 3, 'A5062061862': 2, 'A5015107642': 3, 'A5069946985': 4, 'A5069646776': 2, 'A5054581965': 2, 'A5078512465': 2, 'A5029650137': 2, 'A5070731607': 2, 'A5034372090': 4, 'A5077907139': 4, 'A5062323947': 3, 'A5021724291': 2, 'A5113876236': 2}\n"
     ]
    }
   ],
   "source": [
    "# Count occurrences of author IDs\n",
    "id_counts = Counter(author['id'] for author in Authors)\n",
    "\n",
    "# Find duplicates\n",
    "duplicates = {author_id: count for author_id, count in id_counts.items() if count > 1}\n",
    "print(f\"Total duplicate authors: {sum(duplicates.values()) - len(duplicates)}\")\n",
    "print(\"Duplicate entries per ID:\", duplicates)\n",
    "\n",
    "# Remove duplicates while keeping the first occurrence\n",
    "seen_ids = set()\n",
    "unique_authors = []\n",
    "\n",
    "for author in Authors:\n",
    "    if author['id'] not in seen_ids:\n",
    "        unique_authors.append(author)\n",
    "        seen_ids.add(author['id'])\n",
    "\n",
    "# Update Authors with unique elements\n",
    "Authors_cleaned = unique_authors"
   ]
  },
  {
   "cell_type": "code",
   "execution_count": 31,
   "id": "057b0d48",
   "metadata": {},
   "outputs": [
    {
     "data": {
      "text/plain": [
       "(11595, 11595, 17713)"
      ]
     },
     "execution_count": 31,
     "metadata": {},
     "output_type": "execute_result"
    }
   ],
   "source": [
    "len(Articles_cleaned), len(Abstract_cleaned), len(Authors_cleaned)"
   ]
  },
  {
   "cell_type": "markdown",
   "id": "e58102b9",
   "metadata": {},
   "source": [
    "Finally, turn them into pandas dataframes:"
   ]
  },
  {
   "cell_type": "code",
   "execution_count": 32,
   "id": "2dbe82f5",
   "metadata": {},
   "outputs": [],
   "source": [
    "df_articles = pd.DataFrame(Articles_cleaned)\n",
    "df_abstract= pd.DataFrame(Abstract_cleaned)\n",
    "df_authors = pd.DataFrame(Authors_cleaned)"
   ]
  },
  {
   "cell_type": "code",
   "execution_count": 33,
   "id": "caadd13f",
   "metadata": {},
   "outputs": [
    {
     "data": {
      "text/html": [
       "<div>\n",
       "<style scoped>\n",
       "    .dataframe tbody tr th:only-of-type {\n",
       "        vertical-align: middle;\n",
       "    }\n",
       "\n",
       "    .dataframe tbody tr th {\n",
       "        vertical-align: top;\n",
       "    }\n",
       "\n",
       "    .dataframe thead th {\n",
       "        text-align: right;\n",
       "    }\n",
       "</style>\n",
       "<table border=\"1\" class=\"dataframe\">\n",
       "  <thead>\n",
       "    <tr style=\"text-align: right;\">\n",
       "      <th></th>\n",
       "      <th>id</th>\n",
       "      <th>publication_year</th>\n",
       "      <th>cited_by_count</th>\n",
       "      <th>author_ids</th>\n",
       "    </tr>\n",
       "  </thead>\n",
       "  <tbody>\n",
       "    <tr>\n",
       "      <th>0</th>\n",
       "      <td>https://openalex.org/W3103362336</td>\n",
       "      <td>2009</td>\n",
       "      <td>7042</td>\n",
       "      <td>[A5014647140, A5082953212, A5067142016]</td>\n",
       "    </tr>\n",
       "    <tr>\n",
       "      <th>1</th>\n",
       "      <td>https://openalex.org/W2047940964</td>\n",
       "      <td>2004</td>\n",
       "      <td>6955</td>\n",
       "      <td>[A5014647140, A5067142016, A5008033989]</td>\n",
       "    </tr>\n",
       "    <tr>\n",
       "      <th>2</th>\n",
       "      <td>https://openalex.org/W2018045523</td>\n",
       "      <td>2002</td>\n",
       "      <td>4174</td>\n",
       "      <td>[A5007285525, A5067021466, A5029755266, A50883...</td>\n",
       "    </tr>\n",
       "    <tr>\n",
       "      <th>3</th>\n",
       "      <td>https://openalex.org/W2119298903</td>\n",
       "      <td>2012</td>\n",
       "      <td>3872</td>\n",
       "      <td>[A5054913386, A5065660380, A5065503150]</td>\n",
       "    </tr>\n",
       "    <tr>\n",
       "      <th>4</th>\n",
       "      <td>https://openalex.org/W1987228002</td>\n",
       "      <td>2010</td>\n",
       "      <td>3047</td>\n",
       "      <td>[A5100744117, A5080830598, A5022334515, A50389...</td>\n",
       "    </tr>\n",
       "  </tbody>\n",
       "</table>\n",
       "</div>"
      ],
      "text/plain": [
       "                                 id  publication_year  cited_by_count  \\\n",
       "0  https://openalex.org/W3103362336              2009            7042   \n",
       "1  https://openalex.org/W2047940964              2004            6955   \n",
       "2  https://openalex.org/W2018045523              2002            4174   \n",
       "3  https://openalex.org/W2119298903              2012            3872   \n",
       "4  https://openalex.org/W1987228002              2010            3047   \n",
       "\n",
       "                                          author_ids  \n",
       "0            [A5014647140, A5082953212, A5067142016]  \n",
       "1            [A5014647140, A5067142016, A5008033989]  \n",
       "2  [A5007285525, A5067021466, A5029755266, A50883...  \n",
       "3            [A5054913386, A5065660380, A5065503150]  \n",
       "4  [A5100744117, A5080830598, A5022334515, A50389...  "
      ]
     },
     "execution_count": 33,
     "metadata": {},
     "output_type": "execute_result"
    }
   ],
   "source": [
    "df_articles.head()"
   ]
  },
  {
   "cell_type": "code",
   "execution_count": 34,
   "id": "2167e6bc",
   "metadata": {},
   "outputs": [
    {
     "data": {
      "text/html": [
       "<div>\n",
       "<style scoped>\n",
       "    .dataframe tbody tr th:only-of-type {\n",
       "        vertical-align: middle;\n",
       "    }\n",
       "\n",
       "    .dataframe tbody tr th {\n",
       "        vertical-align: top;\n",
       "    }\n",
       "\n",
       "    .dataframe thead th {\n",
       "        text-align: right;\n",
       "    }\n",
       "</style>\n",
       "<table border=\"1\" class=\"dataframe\">\n",
       "  <thead>\n",
       "    <tr style=\"text-align: right;\">\n",
       "      <th></th>\n",
       "      <th>id</th>\n",
       "      <th>display_name</th>\n",
       "      <th>country_code</th>\n",
       "    </tr>\n",
       "  </thead>\n",
       "  <tbody>\n",
       "    <tr>\n",
       "      <th>0</th>\n",
       "      <td>A5014647140</td>\n",
       "      <td>Aaron Clauset</td>\n",
       "      <td>None</td>\n",
       "    </tr>\n",
       "    <tr>\n",
       "      <th>1</th>\n",
       "      <td>A5082953212</td>\n",
       "      <td>Cosma Rohilla Shalizi</td>\n",
       "      <td>None</td>\n",
       "    </tr>\n",
       "    <tr>\n",
       "      <th>2</th>\n",
       "      <td>A5067142016</td>\n",
       "      <td>M. E. J. Newman</td>\n",
       "      <td>None</td>\n",
       "    </tr>\n",
       "    <tr>\n",
       "      <th>3</th>\n",
       "      <td>A5008033989</td>\n",
       "      <td>Cristopher Moore</td>\n",
       "      <td>US</td>\n",
       "    </tr>\n",
       "    <tr>\n",
       "      <th>4</th>\n",
       "      <td>A5007285525</td>\n",
       "      <td>Erzsébet Ravasz Regan</td>\n",
       "      <td>US</td>\n",
       "    </tr>\n",
       "    <tr>\n",
       "      <th>...</th>\n",
       "      <td>...</td>\n",
       "      <td>...</td>\n",
       "      <td>...</td>\n",
       "    </tr>\n",
       "    <tr>\n",
       "      <th>17708</th>\n",
       "      <td>A5083702049</td>\n",
       "      <td>Feng Wang</td>\n",
       "      <td>CN</td>\n",
       "    </tr>\n",
       "    <tr>\n",
       "      <th>17709</th>\n",
       "      <td>A5100452647</td>\n",
       "      <td>Han Wang</td>\n",
       "      <td>CN</td>\n",
       "    </tr>\n",
       "    <tr>\n",
       "      <th>17710</th>\n",
       "      <td>A5004273745</td>\n",
       "      <td>Jinan Luo</td>\n",
       "      <td>CN</td>\n",
       "    </tr>\n",
       "    <tr>\n",
       "      <th>17711</th>\n",
       "      <td>A5109934253</td>\n",
       "      <td>Rongzu Hu</td>\n",
       "      <td>CN</td>\n",
       "    </tr>\n",
       "    <tr>\n",
       "      <th>17712</th>\n",
       "      <td>A5103099529</td>\n",
       "      <td>Bing Jing</td>\n",
       "      <td>CN</td>\n",
       "    </tr>\n",
       "  </tbody>\n",
       "</table>\n",
       "<p>17713 rows × 3 columns</p>\n",
       "</div>"
      ],
      "text/plain": [
       "                id           display_name country_code\n",
       "0      A5014647140          Aaron Clauset         None\n",
       "1      A5082953212  Cosma Rohilla Shalizi         None\n",
       "2      A5067142016        M. E. J. Newman         None\n",
       "3      A5008033989       Cristopher Moore           US\n",
       "4      A5007285525  Erzsébet Ravasz Regan           US\n",
       "...            ...                    ...          ...\n",
       "17708  A5083702049              Feng Wang           CN\n",
       "17709  A5100452647               Han Wang           CN\n",
       "17710  A5004273745              Jinan Luo           CN\n",
       "17711  A5109934253              Rongzu Hu           CN\n",
       "17712  A5103099529              Bing Jing           CN\n",
       "\n",
       "[17713 rows x 3 columns]"
      ]
     },
     "execution_count": 34,
     "metadata": {},
     "output_type": "execute_result"
    }
   ],
   "source": [
    "df_authors"
   ]
  },
  {
   "cell_type": "code",
   "execution_count": 35,
   "id": "56b8809a",
   "metadata": {},
   "outputs": [
    {
     "data": {
      "text/html": [
       "<div>\n",
       "<style scoped>\n",
       "    .dataframe tbody tr th:only-of-type {\n",
       "        vertical-align: middle;\n",
       "    }\n",
       "\n",
       "    .dataframe tbody tr th {\n",
       "        vertical-align: top;\n",
       "    }\n",
       "\n",
       "    .dataframe thead th {\n",
       "        text-align: right;\n",
       "    }\n",
       "</style>\n",
       "<table border=\"1\" class=\"dataframe\">\n",
       "  <thead>\n",
       "    <tr style=\"text-align: right;\">\n",
       "      <th></th>\n",
       "      <th>id</th>\n",
       "      <th>title</th>\n",
       "      <th>abstract_inverted_index</th>\n",
       "    </tr>\n",
       "  </thead>\n",
       "  <tbody>\n",
       "    <tr>\n",
       "      <th>0</th>\n",
       "      <td>https://openalex.org/W3103362336</td>\n",
       "      <td>Power-Law Distributions in Empirical Data</td>\n",
       "      <td>{'Power-law': [0], 'distributions': [1], 'occu...</td>\n",
       "    </tr>\n",
       "    <tr>\n",
       "      <th>1</th>\n",
       "      <td>https://openalex.org/W2047940964</td>\n",
       "      <td>Finding community structure in very large netw...</td>\n",
       "      <td>{'The': [0, 147], 'discovery': [1], 'and': [2,...</td>\n",
       "    </tr>\n",
       "    <tr>\n",
       "      <th>2</th>\n",
       "      <td>https://openalex.org/W2018045523</td>\n",
       "      <td>Hierarchical Organization of Modularity in Met...</td>\n",
       "      <td>{'Spatially': [0], 'or': [1], 'chemically': [2...</td>\n",
       "    </tr>\n",
       "    <tr>\n",
       "      <th>3</th>\n",
       "      <td>https://openalex.org/W2119298903</td>\n",
       "      <td>Evaluating Online Labor Markets for Experiment...</td>\n",
       "      <td>{'We': [0, 16, 32, 57, 69], 'examine': [1], 't...</td>\n",
       "    </tr>\n",
       "    <tr>\n",
       "      <th>4</th>\n",
       "      <td>https://openalex.org/W1987228002</td>\n",
       "      <td>Limits of Predictability in Human Mobility</td>\n",
       "      <td>{'Predictable': [0], 'Travel': [1], 'Routines'...</td>\n",
       "    </tr>\n",
       "  </tbody>\n",
       "</table>\n",
       "</div>"
      ],
      "text/plain": [
       "                                 id  \\\n",
       "0  https://openalex.org/W3103362336   \n",
       "1  https://openalex.org/W2047940964   \n",
       "2  https://openalex.org/W2018045523   \n",
       "3  https://openalex.org/W2119298903   \n",
       "4  https://openalex.org/W1987228002   \n",
       "\n",
       "                                               title  \\\n",
       "0          Power-Law Distributions in Empirical Data   \n",
       "1  Finding community structure in very large netw...   \n",
       "2  Hierarchical Organization of Modularity in Met...   \n",
       "3  Evaluating Online Labor Markets for Experiment...   \n",
       "4         Limits of Predictability in Human Mobility   \n",
       "\n",
       "                             abstract_inverted_index  \n",
       "0  {'Power-law': [0], 'distributions': [1], 'occu...  \n",
       "1  {'The': [0, 147], 'discovery': [1], 'and': [2,...  \n",
       "2  {'Spatially': [0], 'or': [1], 'chemically': [2...  \n",
       "3  {'We': [0, 16, 32, 57, 69], 'examine': [1], 't...  \n",
       "4  {'Predictable': [0], 'Travel': [1], 'Routines'...  "
      ]
     },
     "execution_count": 35,
     "metadata": {},
     "output_type": "execute_result"
    }
   ],
   "source": [
    "df_abstract.head()"
   ]
  },
  {
   "cell_type": "markdown",
   "id": "ed416f4a",
   "metadata": {},
   "source": [
    "> To conclude we have:"
   ]
  },
  {
   "cell_type": "markdown",
   "id": "e1c79b80",
   "metadata": {},
   "source": [
    "**Data Overview and Reflection questions: Answer the following questions:**\n",
    "\n",
    "- **Dataset summary.** \n",
    "\n",
    "We have 11596 unique articles , with 17713 unique co-authors.  \n",
    "\n",
    "- **Code effeciency.** \n",
    "  \n",
    "To improve efficiency, author IDs were processed in chunks. The filter `cited_by_count:>10` was applied directly within the API request. After retrieval, works were further filtered based on relevant topics and the number of authors. Parallel requests were utilized alongside cursor-based pagination, with the maximum page size of 200 to reduce the number of requests. These optimizations reduced the runtime to just 1.5 minutes on a Mac M1.\n",
    "\n",
    "\n",
    "- **Filtering Criteria and Dataset Relevance**\n",
    "\n",
    "\n",
    "Filtering out authors with fewer than 5 works helps exclude individuals who may not have a substantial influence in social science. Similarly, setting a minimum citation count of 10 helps focus the analysis on works that have made a measurable impact. Since the goal is to study the network of Social-SCI researchers, it's important to highlight the influential works. Papers with large author lists can create oversized clusters in the network, which may obscure the underlying structures. Finally, filtering for works that are explicitly relevant to Social-SCI ensures we are analyzing the right subset of research.\n",
    "\n",
    "\n",
    "However theese filthers, may exclude meta-studies with lots of citations and new studies (with few citations). Which could for example restrict the data to a older time period. "
   ]
  },
  {
   "cell_type": "markdown",
   "id": "9f72dca3-246a-4056-b99c-2f14ccef7fef",
   "metadata": {},
   "source": [
    "## Part 4: The Network of Computational Social Scientists\n",
    "Week 4, ex 1. Please use the final dataset you collected from both authors and co-authors (IC2S2 2024)."
   ]
  },
  {
   "cell_type": "markdown",
   "id": "4a8a2df6",
   "metadata": {},
   "source": [
    "### 4.1: Network Construction"
   ]
  },
  {
   "cell_type": "markdown",
   "id": "03b6efbb",
   "metadata": {},
   "source": [
    "Note that:\n",
    "- Nodes = authors of academic papers\n",
    "- Link/edge = authors A and B have written a paper together (co-authored)\n",
    "- Link weight = number of papers written by both author A and B"
   ]
  },
  {
   "cell_type": "markdown",
   "id": "a21bba67",
   "metadata": {},
   "source": [
    "#### 4.1.1: Weighted Edgelist Creation"
   ]
  },
  {
   "cell_type": "code",
   "execution_count": 36,
   "id": "e3f19012",
   "metadata": {},
   "outputs": [],
   "source": [
    "import itertools\n",
    "\n",
    "# generate co-author pairs and count occurrences\n",
    "edge_list = []\n",
    "for authors in df_articles['author_ids']:\n",
    "    pairs = list(itertools.combinations(authors, 2))  # make all possible author A-B pairs\n",
    "    edge_list.extend(pairs)\n",
    "\n",
    "# count occurrences of each pair\n",
    "edge_weights = {}\n",
    "for pair in edge_list:\n",
    "    if pair in edge_weights:\n",
    "        edge_weights[pair] += 1\n",
    "    else:\n",
    "        edge_weights[pair] = 1\n",
    "\n",
    "# convert to DataFrame (Weighted Edge List)\n",
    "weighted_edge_list = pd.DataFrame(\n",
    "    [(a, b, w) for (a, b), w in edge_weights.items()],\n",
    "    columns=[\"source\", \"target\", \"weight\"]\n",
    ")"
   ]
  },
  {
   "cell_type": "code",
   "execution_count": 37,
   "id": "f018ec08",
   "metadata": {},
   "outputs": [
    {
     "data": {
      "text/html": [
       "<div>\n",
       "<style scoped>\n",
       "    .dataframe tbody tr th:only-of-type {\n",
       "        vertical-align: middle;\n",
       "    }\n",
       "\n",
       "    .dataframe tbody tr th {\n",
       "        vertical-align: top;\n",
       "    }\n",
       "\n",
       "    .dataframe thead th {\n",
       "        text-align: right;\n",
       "    }\n",
       "</style>\n",
       "<table border=\"1\" class=\"dataframe\">\n",
       "  <thead>\n",
       "    <tr style=\"text-align: right;\">\n",
       "      <th></th>\n",
       "      <th>source</th>\n",
       "      <th>target</th>\n",
       "      <th>weight</th>\n",
       "    </tr>\n",
       "  </thead>\n",
       "  <tbody>\n",
       "    <tr>\n",
       "      <th>0</th>\n",
       "      <td>A5014647140</td>\n",
       "      <td>A5082953212</td>\n",
       "      <td>1</td>\n",
       "    </tr>\n",
       "    <tr>\n",
       "      <th>1</th>\n",
       "      <td>A5014647140</td>\n",
       "      <td>A5067142016</td>\n",
       "      <td>4</td>\n",
       "    </tr>\n",
       "    <tr>\n",
       "      <th>2</th>\n",
       "      <td>A5082953212</td>\n",
       "      <td>A5067142016</td>\n",
       "      <td>1</td>\n",
       "    </tr>\n",
       "    <tr>\n",
       "      <th>3</th>\n",
       "      <td>A5014647140</td>\n",
       "      <td>A5008033989</td>\n",
       "      <td>5</td>\n",
       "    </tr>\n",
       "    <tr>\n",
       "      <th>4</th>\n",
       "      <td>A5067142016</td>\n",
       "      <td>A5008033989</td>\n",
       "      <td>1</td>\n",
       "    </tr>\n",
       "    <tr>\n",
       "      <th>...</th>\n",
       "      <td>...</td>\n",
       "      <td>...</td>\n",
       "      <td>...</td>\n",
       "    </tr>\n",
       "    <tr>\n",
       "      <th>59770</th>\n",
       "      <td>A5083702049</td>\n",
       "      <td>A5109934253</td>\n",
       "      <td>1</td>\n",
       "    </tr>\n",
       "    <tr>\n",
       "      <th>59771</th>\n",
       "      <td>A5100452647</td>\n",
       "      <td>A5004273745</td>\n",
       "      <td>1</td>\n",
       "    </tr>\n",
       "    <tr>\n",
       "      <th>59772</th>\n",
       "      <td>A5100452647</td>\n",
       "      <td>A5109934253</td>\n",
       "      <td>1</td>\n",
       "    </tr>\n",
       "    <tr>\n",
       "      <th>59773</th>\n",
       "      <td>A5004273745</td>\n",
       "      <td>A5109934253</td>\n",
       "      <td>1</td>\n",
       "    </tr>\n",
       "    <tr>\n",
       "      <th>59774</th>\n",
       "      <td>A5103099529</td>\n",
       "      <td>A5069259977</td>\n",
       "      <td>1</td>\n",
       "    </tr>\n",
       "  </tbody>\n",
       "</table>\n",
       "<p>59775 rows × 3 columns</p>\n",
       "</div>"
      ],
      "text/plain": [
       "            source       target  weight\n",
       "0      A5014647140  A5082953212       1\n",
       "1      A5014647140  A5067142016       4\n",
       "2      A5082953212  A5067142016       1\n",
       "3      A5014647140  A5008033989       5\n",
       "4      A5067142016  A5008033989       1\n",
       "...            ...          ...     ...\n",
       "59770  A5083702049  A5109934253       1\n",
       "59771  A5100452647  A5004273745       1\n",
       "59772  A5100452647  A5109934253       1\n",
       "59773  A5004273745  A5109934253       1\n",
       "59774  A5103099529  A5069259977       1\n",
       "\n",
       "[59775 rows x 3 columns]"
      ]
     },
     "execution_count": 37,
     "metadata": {},
     "output_type": "execute_result"
    }
   ],
   "source": [
    "weighted_edge_list"
   ]
  },
  {
   "cell_type": "markdown",
   "id": "4884018d",
   "metadata": {},
   "source": [
    "#### 4.1.2: Graph Construction"
   ]
  },
  {
   "cell_type": "code",
   "execution_count": 38,
   "id": "0c67af45",
   "metadata": {},
   "outputs": [],
   "source": [
    "# make undirected graph\n",
    "G = nx.Graph()\n",
    "\n",
    "# add weighted edges\n",
    "G.add_weighted_edges_from(weighted_edge_list.itertuples(index=False, name=None))"
   ]
  },
  {
   "cell_type": "markdown",
   "id": "017da917",
   "metadata": {},
   "source": [
    "#### 4.1.3: Node Attributes"
   ]
  },
  {
   "cell_type": "markdown",
   "id": "2765ac7f",
   "metadata": {},
   "source": [
    "Here, numerical data is converted to `int` as JSON was unable to encode `numpy.int64` datatypes."
   ]
  },
  {
   "cell_type": "code",
   "execution_count": 39,
   "id": "750c8ec9",
   "metadata": {},
   "outputs": [],
   "source": [
    "# Convert authors_df into a dictionary for quick lookup\n",
    "author_metadata = {\n",
    "    row[\"id\"]: {\n",
    "        \"display_name\": row[\"display_name\"],\n",
    "        \"country_code\": row[\"country_code\"]\n",
    "    }\n",
    "    for _, row in df_authors.iterrows()\n",
    "}\n",
    "\n",
    "# Convert df_articles into a dictionary for first_pub_year & citation_count\n",
    "author_publication_info = {}\n",
    "for _, row in df_articles.iterrows():\n",
    "    for author in row[\"author_ids\"]:\n",
    "        if author not in author_publication_info:\n",
    "            author_publication_info[author] = {\n",
    "                \"first_pub_year\": int(row[\"publication_year\"]),  # Convert numpy.int64 to int\n",
    "                \"citation_count\": int(row[\"cited_by_count\"])  # Convert numpy.int64 to int\n",
    "            }\n"
   ]
  },
  {
   "cell_type": "code",
   "execution_count": 40,
   "id": "79a56542",
   "metadata": {},
   "outputs": [],
   "source": [
    "for node in G.nodes():\n",
    "    # Get author metadata from authors_df\n",
    "    G.nodes[node][\"display_name\"] = author_metadata.get(node, {}).get(\"display_name\", \"Unknown\")\n",
    "    G.nodes[node][\"country_code\"] = author_metadata.get(node, {}).get(\"country_code\", \"Unknown\")\n",
    "\n",
    "    # Get publication info from df_articles\n",
    "    G.nodes[node][\"first_pub_year\"] = author_publication_info.get(node, {}).get(\"first_pub_year\", None)\n",
    "    G.nodes[node][\"citation_count\"] = author_publication_info.get(node, {}).get(\"citation_count\", 0)\n"
   ]
  },
  {
   "cell_type": "markdown",
   "id": "5d181d3a",
   "metadata": {},
   "source": [
    "Example lookup of an author in the graph, programatically:"
   ]
  },
  {
   "cell_type": "code",
   "execution_count": 41,
   "id": "145d0f18",
   "metadata": {},
   "outputs": [
    {
     "data": {
      "text/plain": [
       "{'display_name': 'A. Marthe Möller',\n",
       " 'country_code': 'NL',\n",
       " 'first_pub_year': 2017,\n",
       " 'citation_count': 230}"
      ]
     },
     "execution_count": 41,
     "metadata": {},
     "output_type": "execute_result"
    }
   ],
   "source": [
    "G.nodes[\"A5082130337\"]"
   ]
  },
  {
   "cell_type": "markdown",
   "id": "4bc1b72c",
   "metadata": {},
   "source": [
    "Finally save the graph as a JSON file:"
   ]
  },
  {
   "cell_type": "code",
   "execution_count": 42,
   "id": "79b61ee5",
   "metadata": {},
   "outputs": [],
   "source": [
    "import json\n",
    "from networkx.readwrite import json_graph\n",
    "\n",
    "# Convert NetworkX graph to JSON format\n",
    "graph_data = json_graph.node_link_data(G)\n",
    "\n",
    "# Save to a JSON file\n",
    "with open(\"coauthorship_network.json\", \"w\") as f:\n",
    "    json.dump(graph_data, f, indent=4)"
   ]
  },
  {
   "cell_type": "markdown",
   "id": "4002b12f",
   "metadata": {},
   "source": [
    "### 4.2: Preliminary Network Analysis"
   ]
  },
  {
   "cell_type": "markdown",
   "id": "c22765b3",
   "metadata": {},
   "source": [
    "#### 4.2.1: Network Metrics"
   ]
  },
  {
   "cell_type": "markdown",
   "id": "5fcd0363",
   "metadata": {},
   "source": [
    "> What is the total number of nodes (authors) and links (collaborations) in the network? "
   ]
  },
  {
   "cell_type": "markdown",
   "id": "4ef0a635",
   "metadata": {},
   "source": [
    "Number of nodes and edges:"
   ]
  },
  {
   "cell_type": "code",
   "execution_count": 43,
   "id": "f99d82ce",
   "metadata": {},
   "outputs": [
    {
     "name": "stdout",
     "output_type": "stream",
     "text": [
      "Total number of nodes (authors): 17704\n",
      "Total number of links (collaborations): 56903\n"
     ]
    }
   ],
   "source": [
    "G_nodes = len(G.nodes())\n",
    "G_edges = len(G.edges())\n",
    "\n",
    "print(f\"Total number of nodes (authors): {G_nodes}\")\n",
    "print(f\"Total number of links (collaborations): {G_edges}\")"
   ]
  },
  {
   "cell_type": "markdown",
   "id": "f03bcfa4",
   "metadata": {},
   "source": [
    "> Calculate the network's density (the ratio of actual links to the maximum possible number of links). Would you say that the network is sparse? Justify your answer."
   ]
  },
  {
   "cell_type": "markdown",
   "id": "4663bc72",
   "metadata": {},
   "source": [
    "To calculate the network's density we need to calculate the maximum possible number of links, which for an undirected graph like this, can be calculated as such:\n",
    "$$\n",
    "E_{\\max} = \\frac{n(n-1)}{2}\n",
    "$$\n",
    "where $n$ are the number of nodes."
   ]
  },
  {
   "cell_type": "code",
   "execution_count": 44,
   "id": "eec20e34",
   "metadata": {},
   "outputs": [
    {
     "name": "stdout",
     "output_type": "stream",
     "text": [
      "156706956\n"
     ]
    },
    {
     "data": {
      "text/plain": [
       "0.000363117256900836"
      ]
     },
     "execution_count": 44,
     "metadata": {},
     "output_type": "execute_result"
    }
   ],
   "source": [
    "E_max = int(G_nodes*(G_nodes-1)/2)\n",
    "print(E_max)\n",
    "\n",
    "ratio_ = G_edges/E_max\n",
    "\n",
    "ratio_"
   ]
  },
  {
   "cell_type": "markdown",
   "id": "9026f777",
   "metadata": {},
   "source": [
    "The network is sparse, as only 56903 links/edges are established out of 156706956 possible links. This implies that most of the authors have not collaborated or coauthored together."
   ]
  },
  {
   "cell_type": "markdown",
   "id": "c0d1ab14",
   "metadata": {},
   "source": [
    "> Is the network fully connected (i.e., is there a direct or indirect path between every pair of nodes within the network), or is it disconnected?"
   ]
  },
  {
   "cell_type": "markdown",
   "id": "75219e80",
   "metadata": {},
   "source": [
    "No, the network is not fully connected, i.e. it is disconnected:"
   ]
  },
  {
   "cell_type": "code",
   "execution_count": 45,
   "id": "eaac2bc6",
   "metadata": {},
   "outputs": [
    {
     "data": {
      "text/plain": [
       "False"
      ]
     },
     "execution_count": 45,
     "metadata": {},
     "output_type": "execute_result"
    }
   ],
   "source": [
    "nx.is_connected(G)"
   ]
  },
  {
   "cell_type": "markdown",
   "id": "9b5a0a7f",
   "metadata": {},
   "source": [
    "This means that there are clusters of graphs and subgraphs, which also makes sense as people from different backgrounds are less likely to work together unless it's some cross-sectional research."
   ]
  },
  {
   "cell_type": "markdown",
   "id": "f6a89474",
   "metadata": {},
   "source": [
    " If the network is disconnected, how many connected components does it have? A connected component is defined as a subset of nodes within the network where a path exists between any pair of nodes in that subset."
   ]
  },
  {
   "cell_type": "code",
   "execution_count": 46,
   "id": "7e946f82",
   "metadata": {},
   "outputs": [
    {
     "data": {
      "text/plain": [
       "273"
      ]
     },
     "execution_count": 46,
     "metadata": {},
     "output_type": "execute_result"
    }
   ],
   "source": [
    "nx.number_connected_components(G)"
   ]
  },
  {
   "cell_type": "markdown",
   "id": "acdf1a5a",
   "metadata": {},
   "source": [
    "> How many isolated nodes are there in your network?  An isolated node is defined as a node with no connections to any other node in the network."
   ]
  },
  {
   "cell_type": "code",
   "execution_count": 47,
   "id": "f1a51a9d",
   "metadata": {},
   "outputs": [
    {
     "data": {
      "text/plain": [
       "(0, [])"
      ]
     },
     "execution_count": 47,
     "metadata": {},
     "output_type": "execute_result"
    }
   ],
   "source": [
    "nx.number_of_isolates(G), list(nx.isolates(G))"
   ]
  },
  {
   "cell_type": "markdown",
   "id": "166d3a7e",
   "metadata": {},
   "source": [
    "There are no isolated (degree zero) nodes, meaning no author has never only worked alone in all their papers. In other words, an author may have worked alone on some papers, but have released other papers where they have collaborated with authors."
   ]
  },
  {
   "cell_type": "markdown",
   "id": "05acae80",
   "metadata": {},
   "source": [
    ">Discuss the results above on network density, and connectivity. Are your findings in line with what you expected? Why?"
   ]
  },
  {
   "cell_type": "markdown",
   "id": "018add77",
   "metadata": {},
   "source": [
    "Yes, as explained above, the results are as expected as people from different sectors/fields are less likely to work together. If the number of edges were maximized, it would've required all authors to have collaborated with every other author."
   ]
  },
  {
   "cell_type": "markdown",
   "id": "c8bf7452",
   "metadata": {},
   "source": [
    "#### 4.2.2: Degree Analysis"
   ]
  },
  {
   "cell_type": "markdown",
   "id": "1af243c5",
   "metadata": {},
   "source": [
    "> Compute the average, median, mode, minimum, and maximum degree of the nodes. Perform the same analysis for node strength (weighted degree). What do these metrics tell us about the network?"
   ]
  },
  {
   "cell_type": "code",
   "execution_count": 48,
   "id": "5b03e08c",
   "metadata": {},
   "outputs": [
    {
     "data": {
      "text/html": [
       "<div>\n",
       "<style scoped>\n",
       "    .dataframe tbody tr th:only-of-type {\n",
       "        vertical-align: middle;\n",
       "    }\n",
       "\n",
       "    .dataframe tbody tr th {\n",
       "        vertical-align: top;\n",
       "    }\n",
       "\n",
       "    .dataframe thead th {\n",
       "        text-align: right;\n",
       "    }\n",
       "</style>\n",
       "<table border=\"1\" class=\"dataframe\">\n",
       "  <thead>\n",
       "    <tr style=\"text-align: right;\">\n",
       "      <th></th>\n",
       "      <th>degree</th>\n",
       "    </tr>\n",
       "  </thead>\n",
       "  <tbody>\n",
       "    <tr>\n",
       "      <th>count</th>\n",
       "      <td>17704.000000</td>\n",
       "    </tr>\n",
       "    <tr>\n",
       "      <th>mean</th>\n",
       "      <td>6.428265</td>\n",
       "    </tr>\n",
       "    <tr>\n",
       "      <th>std</th>\n",
       "      <td>10.743540</td>\n",
       "    </tr>\n",
       "    <tr>\n",
       "      <th>min</th>\n",
       "      <td>1.000000</td>\n",
       "    </tr>\n",
       "    <tr>\n",
       "      <th>25%</th>\n",
       "      <td>3.000000</td>\n",
       "    </tr>\n",
       "    <tr>\n",
       "      <th>50%</th>\n",
       "      <td>5.000000</td>\n",
       "    </tr>\n",
       "    <tr>\n",
       "      <th>75%</th>\n",
       "      <td>7.000000</td>\n",
       "    </tr>\n",
       "    <tr>\n",
       "      <th>max</th>\n",
       "      <td>362.000000</td>\n",
       "    </tr>\n",
       "  </tbody>\n",
       "</table>\n",
       "</div>"
      ],
      "text/plain": [
       "             degree\n",
       "count  17704.000000\n",
       "mean       6.428265\n",
       "std       10.743540\n",
       "min        1.000000\n",
       "25%        3.000000\n",
       "50%        5.000000\n",
       "75%        7.000000\n",
       "max      362.000000"
      ]
     },
     "metadata": {},
     "output_type": "display_data"
    }
   ],
   "source": [
    "# Get degrees for all nodes (authors)\n",
    "node_degree = pd.DataFrame.from_dict(G.degree)\n",
    "node_degree.columns = [\"id\", \"degree\"]\n",
    "display(node_degree.describe())"
   ]
  },
  {
   "cell_type": "markdown",
   "id": "853db48b",
   "metadata": {},
   "source": [
    "Note that the median is the 50% percentile.\n",
    "\n",
    "Generally these metrics give us insight into the collaboration/coauthoring tendencies e.g., that the average author has collaborated with around 6 other authors and that the maximum number of collaborations that an author has done is 362. It's also worth noting that the standard deviation is quite high, which is expected as e.g., general engineers are more \"prone\" to do cross-field papers due to their versatility. The summary statistics also tell us that the distribution of degrees is very likely to be right-skewed."
   ]
  },
  {
   "cell_type": "code",
   "execution_count": 49,
   "id": "eddcdaf1",
   "metadata": {},
   "outputs": [
    {
     "data": {
      "text/html": [
       "<div>\n",
       "<style scoped>\n",
       "    .dataframe tbody tr th:only-of-type {\n",
       "        vertical-align: middle;\n",
       "    }\n",
       "\n",
       "    .dataframe tbody tr th {\n",
       "        vertical-align: top;\n",
       "    }\n",
       "\n",
       "    .dataframe thead th {\n",
       "        text-align: right;\n",
       "    }\n",
       "</style>\n",
       "<table border=\"1\" class=\"dataframe\">\n",
       "  <thead>\n",
       "    <tr style=\"text-align: right;\">\n",
       "      <th></th>\n",
       "      <th>degree</th>\n",
       "    </tr>\n",
       "  </thead>\n",
       "  <tbody>\n",
       "    <tr>\n",
       "      <th>count</th>\n",
       "      <td>17704.00000</td>\n",
       "    </tr>\n",
       "    <tr>\n",
       "      <th>mean</th>\n",
       "      <td>8.15488</td>\n",
       "    </tr>\n",
       "    <tr>\n",
       "      <th>std</th>\n",
       "      <td>17.13154</td>\n",
       "    </tr>\n",
       "    <tr>\n",
       "      <th>min</th>\n",
       "      <td>1.00000</td>\n",
       "    </tr>\n",
       "    <tr>\n",
       "      <th>25%</th>\n",
       "      <td>3.00000</td>\n",
       "    </tr>\n",
       "    <tr>\n",
       "      <th>50%</th>\n",
       "      <td>5.00000</td>\n",
       "    </tr>\n",
       "    <tr>\n",
       "      <th>75%</th>\n",
       "      <td>8.00000</td>\n",
       "    </tr>\n",
       "    <tr>\n",
       "      <th>max</th>\n",
       "      <td>540.00000</td>\n",
       "    </tr>\n",
       "  </tbody>\n",
       "</table>\n",
       "</div>"
      ],
      "text/plain": [
       "            degree\n",
       "count  17704.00000\n",
       "mean       8.15488\n",
       "std       17.13154\n",
       "min        1.00000\n",
       "25%        3.00000\n",
       "50%        5.00000\n",
       "75%        8.00000\n",
       "max      540.00000"
      ]
     },
     "metadata": {},
     "output_type": "display_data"
    }
   ],
   "source": [
    "# Parse the weight property to apply weights\n",
    "node_degree_weighted = pd.DataFrame.from_dict(G.degree(weight=\"weight\"))\n",
    "node_degree_weighted.columns = [\"id\", \"degree\"]\n",
    "display(node_degree_weighted.describe())"
   ]
  },
  {
   "cell_type": "markdown",
   "id": "246775d4",
   "metadata": {},
   "source": [
    "The weight property on the edges represent the strength of coauthorship, in other words it says something about the frequency or intensity of collaboration. This also weighs in the number of times two authors have worked together, and not just if they have worked together (as in the non-weighted case)."
   ]
  },
  {
   "cell_type": "markdown",
   "id": "45281db1",
   "metadata": {},
   "source": [
    "#### 4.2.3: Top Authors"
   ]
  },
  {
   "cell_type": "markdown",
   "id": "eba9da82",
   "metadata": {},
   "source": [
    "> Identify the top 5 authors by degree. What role do these node play in the network? "
   ]
  },
  {
   "cell_type": "code",
   "execution_count": 50,
   "id": "6599f087",
   "metadata": {},
   "outputs": [
    {
     "data": {
      "text/html": [
       "<div>\n",
       "<style scoped>\n",
       "    .dataframe tbody tr th:only-of-type {\n",
       "        vertical-align: middle;\n",
       "    }\n",
       "\n",
       "    .dataframe tbody tr th {\n",
       "        vertical-align: top;\n",
       "    }\n",
       "\n",
       "    .dataframe thead th {\n",
       "        text-align: right;\n",
       "    }\n",
       "</style>\n",
       "<table border=\"1\" class=\"dataframe\">\n",
       "  <thead>\n",
       "    <tr style=\"text-align: right;\">\n",
       "      <th></th>\n",
       "      <th>id</th>\n",
       "      <th>degree</th>\n",
       "    </tr>\n",
       "  </thead>\n",
       "  <tbody>\n",
       "    <tr>\n",
       "      <th>8081</th>\n",
       "      <td>A5100322712</td>\n",
       "      <td>362</td>\n",
       "    </tr>\n",
       "    <tr>\n",
       "      <th>16297</th>\n",
       "      <td>A5005421447</td>\n",
       "      <td>306</td>\n",
       "    </tr>\n",
       "    <tr>\n",
       "      <th>8693</th>\n",
       "      <td>A5077712228</td>\n",
       "      <td>279</td>\n",
       "    </tr>\n",
       "    <tr>\n",
       "      <th>108</th>\n",
       "      <td>A5007176508</td>\n",
       "      <td>263</td>\n",
       "    </tr>\n",
       "    <tr>\n",
       "      <th>4830</th>\n",
       "      <td>A5059645286</td>\n",
       "      <td>256</td>\n",
       "    </tr>\n",
       "  </tbody>\n",
       "</table>\n",
       "</div>"
      ],
      "text/plain": [
       "                id  degree\n",
       "8081   A5100322712     362\n",
       "16297  A5005421447     306\n",
       "8693   A5077712228     279\n",
       "108    A5007176508     263\n",
       "4830   A5059645286     256"
      ]
     },
     "execution_count": 50,
     "metadata": {},
     "output_type": "execute_result"
    }
   ],
   "source": [
    "# Get top 5 authors\n",
    "top_5 = node_degree.nlargest(5, \"degree\")\n",
    "top_5"
   ]
  },
  {
   "cell_type": "code",
   "execution_count": 51,
   "id": "5a521c24",
   "metadata": {},
   "outputs": [
    {
     "data": {
      "text/html": [
       "<div>\n",
       "<style scoped>\n",
       "    .dataframe tbody tr th:only-of-type {\n",
       "        vertical-align: middle;\n",
       "    }\n",
       "\n",
       "    .dataframe tbody tr th {\n",
       "        vertical-align: top;\n",
       "    }\n",
       "\n",
       "    .dataframe thead th {\n",
       "        text-align: right;\n",
       "    }\n",
       "</style>\n",
       "<table border=\"1\" class=\"dataframe\">\n",
       "  <thead>\n",
       "    <tr style=\"text-align: right;\">\n",
       "      <th></th>\n",
       "      <th>id</th>\n",
       "      <th>display_name</th>\n",
       "      <th>country_code</th>\n",
       "    </tr>\n",
       "  </thead>\n",
       "  <tbody>\n",
       "    <tr>\n",
       "      <th>8085</th>\n",
       "      <td>A5100322712</td>\n",
       "      <td>Yan Wang</td>\n",
       "      <td>US</td>\n",
       "    </tr>\n",
       "  </tbody>\n",
       "</table>\n",
       "</div>"
      ],
      "text/plain": [
       "               id display_name country_code\n",
       "8085  A5100322712     Yan Wang           US"
      ]
     },
     "metadata": {},
     "output_type": "display_data"
    },
    {
     "data": {
      "text/html": [
       "<div>\n",
       "<style scoped>\n",
       "    .dataframe tbody tr th:only-of-type {\n",
       "        vertical-align: middle;\n",
       "    }\n",
       "\n",
       "    .dataframe tbody tr th {\n",
       "        vertical-align: top;\n",
       "    }\n",
       "\n",
       "    .dataframe thead th {\n",
       "        text-align: right;\n",
       "    }\n",
       "</style>\n",
       "<table border=\"1\" class=\"dataframe\">\n",
       "  <thead>\n",
       "    <tr style=\"text-align: right;\">\n",
       "      <th></th>\n",
       "      <th>id</th>\n",
       "      <th>display_name</th>\n",
       "      <th>country_code</th>\n",
       "    </tr>\n",
       "  </thead>\n",
       "  <tbody>\n",
       "    <tr>\n",
       "      <th>16306</th>\n",
       "      <td>A5005421447</td>\n",
       "      <td>Yi Yang</td>\n",
       "      <td>AU</td>\n",
       "    </tr>\n",
       "  </tbody>\n",
       "</table>\n",
       "</div>"
      ],
      "text/plain": [
       "                id display_name country_code\n",
       "16306  A5005421447      Yi Yang           AU"
      ]
     },
     "metadata": {},
     "output_type": "display_data"
    },
    {
     "data": {
      "text/html": [
       "<div>\n",
       "<style scoped>\n",
       "    .dataframe tbody tr th:only-of-type {\n",
       "        vertical-align: middle;\n",
       "    }\n",
       "\n",
       "    .dataframe tbody tr th {\n",
       "        vertical-align: top;\n",
       "    }\n",
       "\n",
       "    .dataframe thead th {\n",
       "        text-align: right;\n",
       "    }\n",
       "</style>\n",
       "<table border=\"1\" class=\"dataframe\">\n",
       "  <thead>\n",
       "    <tr style=\"text-align: right;\">\n",
       "      <th></th>\n",
       "      <th>id</th>\n",
       "      <th>display_name</th>\n",
       "      <th>country_code</th>\n",
       "    </tr>\n",
       "  </thead>\n",
       "  <tbody>\n",
       "    <tr>\n",
       "      <th>8698</th>\n",
       "      <td>A5077712228</td>\n",
       "      <td>Simon A. Levin</td>\n",
       "      <td>GB</td>\n",
       "    </tr>\n",
       "  </tbody>\n",
       "</table>\n",
       "</div>"
      ],
      "text/plain": [
       "               id    display_name country_code\n",
       "8698  A5077712228  Simon A. Levin           GB"
      ]
     },
     "metadata": {},
     "output_type": "display_data"
    },
    {
     "data": {
      "text/html": [
       "<div>\n",
       "<style scoped>\n",
       "    .dataframe tbody tr th:only-of-type {\n",
       "        vertical-align: middle;\n",
       "    }\n",
       "\n",
       "    .dataframe tbody tr th {\n",
       "        vertical-align: top;\n",
       "    }\n",
       "\n",
       "    .dataframe thead th {\n",
       "        text-align: right;\n",
       "    }\n",
       "</style>\n",
       "<table border=\"1\" class=\"dataframe\">\n",
       "  <thead>\n",
       "    <tr style=\"text-align: right;\">\n",
       "      <th></th>\n",
       "      <th>id</th>\n",
       "      <th>display_name</th>\n",
       "      <th>country_code</th>\n",
       "    </tr>\n",
       "  </thead>\n",
       "  <tbody>\n",
       "    <tr>\n",
       "      <th>108</th>\n",
       "      <td>A5007176508</td>\n",
       "      <td>Alex Pentland</td>\n",
       "      <td>US</td>\n",
       "    </tr>\n",
       "  </tbody>\n",
       "</table>\n",
       "</div>"
      ],
      "text/plain": [
       "              id   display_name country_code\n",
       "108  A5007176508  Alex Pentland           US"
      ]
     },
     "metadata": {},
     "output_type": "display_data"
    },
    {
     "data": {
      "text/html": [
       "<div>\n",
       "<style scoped>\n",
       "    .dataframe tbody tr th:only-of-type {\n",
       "        vertical-align: middle;\n",
       "    }\n",
       "\n",
       "    .dataframe tbody tr th {\n",
       "        vertical-align: top;\n",
       "    }\n",
       "\n",
       "    .dataframe thead th {\n",
       "        text-align: right;\n",
       "    }\n",
       "</style>\n",
       "<table border=\"1\" class=\"dataframe\">\n",
       "  <thead>\n",
       "    <tr style=\"text-align: right;\">\n",
       "      <th></th>\n",
       "      <th>id</th>\n",
       "      <th>display_name</th>\n",
       "      <th>country_code</th>\n",
       "    </tr>\n",
       "  </thead>\n",
       "  <tbody>\n",
       "    <tr>\n",
       "      <th>4832</th>\n",
       "      <td>A5059645286</td>\n",
       "      <td>Robert West</td>\n",
       "      <td>GB</td>\n",
       "    </tr>\n",
       "  </tbody>\n",
       "</table>\n",
       "</div>"
      ],
      "text/plain": [
       "               id display_name country_code\n",
       "4832  A5059645286  Robert West           GB"
      ]
     },
     "metadata": {},
     "output_type": "display_data"
    }
   ],
   "source": [
    "# Get their names\n",
    "for id in top_5[\"id\"]:\n",
    "    display(df_authors[df_authors[\"id\"] == id])"
   ]
  },
  {
   "cell_type": "markdown",
   "id": "36d5c086",
   "metadata": {},
   "source": [
    "You could say they act as \"author hubs\", and that they have collaborated with a lot of other people.\n",
    "\n",
    "Judging by their OpenAlex author entries, Yan Wang, Yi Wang, Alex Pentland specialize mainly in computer science, AI/ML, and they have some works in the social science subfield. This makes sense as a lot of their data may have roots in social science.\n",
    "\n",
    "Simon A. Levin and Robert West work in health, biology, chemistry and/or environmental engineering with only a few works in computer science. Their big \"footprint\" can probably explain their large degree."
   ]
  }
 ],
 "metadata": {
  "kernelspec": {
   "display_name": "Python 3",
   "language": "python",
   "name": "python3"
  },
  "language_info": {
   "codemirror_mode": {
    "name": "ipython",
    "version": 3
   },
   "file_extension": ".py",
   "mimetype": "text/x-python",
   "name": "python",
   "nbconvert_exporter": "python",
   "pygments_lexer": "ipython3",
   "version": "3.9.6"
  }
 },
 "nbformat": 4,
 "nbformat_minor": 5
}
